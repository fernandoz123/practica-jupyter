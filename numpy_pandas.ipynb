{
 "cells": [
  {
   "cell_type": "code",
   "execution_count": 2,
   "metadata": {},
   "outputs": [
    {
     "name": "stdout",
     "output_type": "stream",
     "text": [
      "ejecucion ok\n"
     ]
    }
   ],
   "source": [
    "import numpy as np\n",
    "print(\"ejecucion ok\")"
   ]
  },
  {
   "cell_type": "markdown",
   "metadata": {},
   "source": [
    "# Funciones aritmeticas \n",
    "\n",
    "| Operador | Equivalente numpy | Descripción |\n",
    "|:---: | :--- | ---: |\n",
    "| + | np.add | adición (1+1=2) |\n",
    "| - | np.subtract | sustraccion (3-2=1) |\n",
    "| - | np.negative | numero negativo (-2) |\n",
    "| * | np.multiply | multiplicación |\n",
    "| / | np.divide | división real (3/2=1.5)|\n",
    "| // | np.floor_divide | division entera (3//2=1) |\n",
    "| ** | np.power | potenciacion (3**2 = 9) |\n",
    "| % | np.mod | modulo/residuo (9%4=1) |\n"
   ]
  },
  {
   "attachments": {},
   "cell_type": "markdown",
   "metadata": {},
   "source": []
  },
  {
   "cell_type": "code",
   "execution_count": null,
   "metadata": {},
   "outputs": [],
   "source": []
  },
  {
   "cell_type": "code",
   "execution_count": null,
   "metadata": {},
   "outputs": [],
   "source": []
  },
  {
   "cell_type": "code",
   "execution_count": null,
   "metadata": {},
   "outputs": [],
   "source": []
  },
  {
   "cell_type": "code",
   "execution_count": null,
   "metadata": {},
   "outputs": [],
   "source": []
  },
  {
   "cell_type": "code",
   "execution_count": null,
   "metadata": {},
   "outputs": [],
   "source": [
    "##!pip3 install numpy"
   ]
  },
  {
   "cell_type": "code",
   "execution_count": 3,
   "metadata": {},
   "outputs": [
    {
     "data": {
      "text/plain": [
       "'1.20.3'"
      ]
     },
     "execution_count": 3,
     "metadata": {},
     "output_type": "execute_result"
    }
   ],
   "source": [
    "np.__version__"
   ]
  },
  {
   "cell_type": "code",
   "execution_count": 4,
   "metadata": {},
   "outputs": [],
   "source": [
    "a=np.array([1,2,3])"
   ]
  },
  {
   "cell_type": "code",
   "execution_count": 5,
   "metadata": {},
   "outputs": [
    {
     "data": {
      "text/plain": [
       "array([1, 2, 3])"
      ]
     },
     "execution_count": 5,
     "metadata": {},
     "output_type": "execute_result"
    }
   ],
   "source": [
    "a"
   ]
  },
  {
   "cell_type": "code",
   "execution_count": 6,
   "metadata": {},
   "outputs": [
    {
     "data": {
      "text/plain": [
       "(3,)"
      ]
     },
     "execution_count": 6,
     "metadata": {},
     "output_type": "execute_result"
    }
   ],
   "source": [
    "a.shape"
   ]
  },
  {
   "cell_type": "code",
   "execution_count": 7,
   "metadata": {},
   "outputs": [
    {
     "data": {
      "text/plain": [
       "[1, 2, 3]"
      ]
     },
     "execution_count": 7,
     "metadata": {},
     "output_type": "execute_result"
    }
   ],
   "source": [
    "b=[1,2,3]\n",
    "b"
   ]
  },
  {
   "cell_type": "code",
   "execution_count": 8,
   "metadata": {},
   "outputs": [
    {
     "data": {
      "text/plain": [
       "array([2, 4, 6])"
      ]
     },
     "execution_count": 8,
     "metadata": {},
     "output_type": "execute_result"
    }
   ],
   "source": [
    "a*2"
   ]
  },
  {
   "cell_type": "code",
   "execution_count": 10,
   "metadata": {},
   "outputs": [
    {
     "name": "stdout",
     "output_type": "stream",
     "text": [
      "[1 2 3]\n"
     ]
    }
   ],
   "source": [
    "print(a)"
   ]
  },
  {
   "cell_type": "code",
   "execution_count": 9,
   "metadata": {},
   "outputs": [
    {
     "data": {
      "text/plain": [
       "[1, 2, 3, 1, 2, 3]"
      ]
     },
     "execution_count": 9,
     "metadata": {},
     "output_type": "execute_result"
    }
   ],
   "source": [
    "b*2"
   ]
  },
  {
   "cell_type": "code",
   "execution_count": 11,
   "metadata": {},
   "outputs": [
    {
     "name": "stdout",
     "output_type": "stream",
     "text": [
      "b = su tipo de dato es = <class 'list'>\n",
      "a = su tipo de dato es = <class 'numpy.ndarray'>\n"
     ]
    }
   ],
   "source": [
    "print(\"b =\",\"su tipo de dato es =\",type(b))\n",
    "print(\"a =\",\"su tipo de dato es =\",type(a))"
   ]
  },
  {
   "cell_type": "code",
   "execution_count": 12,
   "metadata": {},
   "outputs": [
    {
     "name": "stdout",
     "output_type": "stream",
     "text": [
      "los elementos son del tipo ----> int32\n"
     ]
    }
   ],
   "source": [
    "print(\"los elementos son del tipo ---->\",a.dtype)"
   ]
  },
  {
   "cell_type": "code",
   "execution_count": 13,
   "metadata": {},
   "outputs": [],
   "source": [
    "m=np.array([[1,2,3],[4,5,6]])"
   ]
  },
  {
   "cell_type": "code",
   "execution_count": 14,
   "metadata": {},
   "outputs": [
    {
     "name": "stdout",
     "output_type": "stream",
     "text": [
      "[[1 2 3]\n",
      " [4 5 6]]\n"
     ]
    }
   ],
   "source": [
    "print(m)"
   ]
  },
  {
   "cell_type": "code",
   "execution_count": 15,
   "metadata": {},
   "outputs": [
    {
     "name": "stdout",
     "output_type": "stream",
     "text": [
      "cantidad de elementos de la matriz  2\n"
     ]
    }
   ],
   "source": [
    "print(\"cantidad de elementos de la matriz \",len(m))"
   ]
  },
  {
   "cell_type": "code",
   "execution_count": 17,
   "metadata": {},
   "outputs": [
    {
     "name": "stdout",
     "output_type": "stream",
     "text": [
      "2\n"
     ]
    }
   ],
   "source": [
    "print(m.ndim)"
   ]
  },
  {
   "cell_type": "code",
   "execution_count": 18,
   "metadata": {},
   "outputs": [
    {
     "data": {
      "text/plain": [
       "(2, 3)"
      ]
     },
     "execution_count": 18,
     "metadata": {},
     "output_type": "execute_result"
    }
   ],
   "source": [
    "m.shape"
   ]
  },
  {
   "cell_type": "code",
   "execution_count": 7,
   "metadata": {},
   "outputs": [
    {
     "data": {
      "text/plain": [
       "array([[[ 4,  5],\n",
       "        [ 2,  2],\n",
       "        [ 5,  6],\n",
       "        [ 8, 10]]])"
      ]
     },
     "execution_count": 7,
     "metadata": {},
     "output_type": "execute_result"
    }
   ],
   "source": [
    "n=np.array([[[4,5],[2,2],[5,6],[8,10]]])\n",
    "n"
   ]
  },
  {
   "cell_type": "code",
   "execution_count": 8,
   "metadata": {},
   "outputs": [
    {
     "data": {
      "text/plain": [
       "(1, 4, 2)"
      ]
     },
     "execution_count": 8,
     "metadata": {},
     "output_type": "execute_result"
    }
   ],
   "source": [
    "n.shape"
   ]
  },
  {
   "cell_type": "code",
   "execution_count": 9,
   "metadata": {},
   "outputs": [
    {
     "data": {
      "text/plain": [
       "array([[[ 4],\n",
       "        [ 2],\n",
       "        [ 5],\n",
       "        [ 8]],\n",
       "\n",
       "       [[ 5],\n",
       "        [ 2],\n",
       "        [ 6],\n",
       "        [10]]])"
      ]
     },
     "execution_count": 9,
     "metadata": {},
     "output_type": "execute_result"
    }
   ],
   "source": [
    "n.T"
   ]
  },
  {
   "cell_type": "code",
   "execution_count": 24,
   "metadata": {},
   "outputs": [
    {
     "data": {
      "text/plain": [
       "array([0, 1, 2, 3, 4, 5, 6, 7])"
      ]
     },
     "execution_count": 24,
     "metadata": {},
     "output_type": "execute_result"
    }
   ],
   "source": [
    "import numpy as np\n",
    "d=np.arange(8)\n",
    "d"
   ]
  },
  {
   "cell_type": "code",
   "execution_count": 25,
   "metadata": {},
   "outputs": [
    {
     "name": "stdout",
     "output_type": "stream",
     "text": [
      "d[0] = 0\n"
     ]
    }
   ],
   "source": [
    "print(\"d[0] =\",d[0])"
   ]
  },
  {
   "cell_type": "code",
   "execution_count": 26,
   "metadata": {},
   "outputs": [
    {
     "name": "stdout",
     "output_type": "stream",
     "text": [
      "[0 1 2 3 4]\n"
     ]
    }
   ],
   "source": [
    "print(d[:5])"
   ]
  },
  {
   "cell_type": "code",
   "execution_count": 27,
   "metadata": {},
   "outputs": [
    {
     "data": {
      "text/plain": [
       "array([ 0,  1,  2,  3,  4, 45,  6,  7])"
      ]
     },
     "execution_count": 27,
     "metadata": {},
     "output_type": "execute_result"
    }
   ],
   "source": [
    "d[-3]=45\n",
    "d"
   ]
  },
  {
   "cell_type": "markdown",
   "metadata": {},
   "source": [
    "# creacion de matrices desde cero"
   ]
  },
  {
   "cell_type": "code",
   "execution_count": 28,
   "metadata": {},
   "outputs": [
    {
     "data": {
      "text/plain": [
       "array([[0., 0., 0.],\n",
       "       [0., 0., 0.]])"
      ]
     },
     "execution_count": 28,
     "metadata": {},
     "output_type": "execute_result"
    }
   ],
   "source": [
    "e=np.zeros((2,3))\n",
    "e"
   ]
  },
  {
   "cell_type": "code",
   "execution_count": 29,
   "metadata": {},
   "outputs": [
    {
     "name": "stdout",
     "output_type": "stream",
     "text": [
      "[ 5  8 11 14 17 20 23]\n"
     ]
    }
   ],
   "source": [
    "print(np.arange(5,25,3))"
   ]
  },
  {
   "cell_type": "code",
   "execution_count": 30,
   "metadata": {},
   "outputs": [
    {
     "name": "stdout",
     "output_type": "stream",
     "text": [
      "[0.         0.33333333 0.66666667 1.        ]\n"
     ]
    }
   ],
   "source": [
    "print(np.linspace(0,1,4))"
   ]
  },
  {
   "cell_type": "code",
   "execution_count": 31,
   "metadata": {},
   "outputs": [
    {
     "name": "stdout",
     "output_type": "stream",
     "text": [
      "0.30967173032489637\n"
     ]
    }
   ],
   "source": [
    "print(np.random.random())"
   ]
  },
  {
   "cell_type": "code",
   "execution_count": 32,
   "metadata": {},
   "outputs": [
    {
     "name": "stdout",
     "output_type": "stream",
     "text": [
      "[[0.81157659 0.91708613 0.98606238]\n",
      " [0.6543868  0.57231899 0.0149493 ]\n",
      " [0.1955577  0.79519649 0.71655488]]\n"
     ]
    }
   ],
   "source": [
    "print(np.random.random((3,3)))  #matriz 3x3"
   ]
  },
  {
   "cell_type": "code",
   "execution_count": 33,
   "metadata": {},
   "outputs": [
    {
     "name": "stdout",
     "output_type": "stream",
     "text": [
      "[0.76617378 0.30859148 0.4699941  0.25519088 0.40104996]\n"
     ]
    }
   ],
   "source": [
    "print(np.random.random(5)) #5 numeros aleatorios"
   ]
  },
  {
   "cell_type": "code",
   "execution_count": 34,
   "metadata": {},
   "outputs": [
    {
     "data": {
      "text/plain": [
       "array([0.5488135 , 0.71518937, 0.60276338, 0.54488318])"
      ]
     },
     "execution_count": 34,
     "metadata": {},
     "output_type": "execute_result"
    }
   ],
   "source": [
    "np.random.seed(0)  #semila, valor incial\n",
    "np.random.rand(4)"
   ]
  },
  {
   "cell_type": "code",
   "execution_count": 35,
   "metadata": {},
   "outputs": [
    {
     "data": {
      "text/plain": [
       "array([[[5, 0, 3, 3, 7],\n",
       "        [9, 3, 5, 2, 4],\n",
       "        [7, 6, 8, 8, 1],\n",
       "        [6, 7, 7, 8, 1]],\n",
       "\n",
       "       [[5, 9, 8, 9, 4],\n",
       "        [3, 0, 3, 5, 0],\n",
       "        [2, 3, 8, 1, 3],\n",
       "        [3, 3, 7, 0, 1]],\n",
       "\n",
       "       [[9, 9, 0, 4, 7],\n",
       "        [3, 2, 7, 2, 0],\n",
       "        [0, 4, 5, 5, 6],\n",
       "        [8, 4, 1, 4, 9]]])"
      ]
     },
     "execution_count": 35,
     "metadata": {},
     "output_type": "execute_result"
    }
   ],
   "source": [
    "np.random.seed(0) #seed for reproducbility\n",
    "x1=np.random.randint(10,size=(3,4,5))\n",
    "x1"
   ]
  },
  {
   "cell_type": "code",
   "execution_count": 38,
   "metadata": {},
   "outputs": [
    {
     "name": "stdout",
     "output_type": "stream",
     "text": [
      "[[5 0 3 3 7]\n",
      " [5 9 8 9 4]\n",
      " [9 9 0 4 7]]\n"
     ]
    }
   ],
   "source": [
    "print(x1[:, 0])"
   ]
  },
  {
   "cell_type": "code",
   "execution_count": 44,
   "metadata": {},
   "outputs": [
    {
     "data": {
      "text/plain": [
       "array([[ 1,  2,  3,  4,  5],\n",
       "       [ 6,  7,  8,  9, 10],\n",
       "       [11, 12, 13, 14, 15],\n",
       "       [16, 17, 18, 19, 20],\n",
       "       [21, 22, 23, 24, 25],\n",
       "       [26, 27, 28, 29, 30]])"
      ]
     },
     "execution_count": 44,
     "metadata": {},
     "output_type": "execute_result"
    }
   ],
   "source": [
    "r=np.array([[1,2,3,4,5],\n",
    "           [6,7,8,9,10],\n",
    "           [11,12,13,14,15],\n",
    "           [16,17,18,19,20],\n",
    "           [21,22,23,24,25],\n",
    "           [26,27,28,29,30]])\n",
    "r"
   ]
  },
  {
   "cell_type": "code",
   "execution_count": 3,
   "metadata": {},
   "outputs": [
    {
     "data": {
      "text/plain": [
       "array([[ 1,  2,  3,  4,  5],\n",
       "       [ 6,  7,  8,  9, 10],\n",
       "       [11, 12, 13, 14, 15],\n",
       "       [16, 17, 18, 19, 20],\n",
       "       [21, 22, 23, 24, 25],\n",
       "       [26, 27, 28, 29, 30]])"
      ]
     },
     "execution_count": 3,
     "metadata": {},
     "output_type": "execute_result"
    }
   ],
   "source": [
    "r1=np.arange(1,31).reshape(6,5)\n",
    "r1"
   ]
  },
  {
   "cell_type": "code",
   "execution_count": 5,
   "metadata": {},
   "outputs": [
    {
     "name": "stdout",
     "output_type": "stream",
     "text": [
      "[21 22 23 24 25 26 27 28 29 30]\n"
     ]
    }
   ],
   "source": [
    "print(r1[r1>20])"
   ]
  },
  {
   "cell_type": "code",
   "execution_count": 42,
   "metadata": {},
   "outputs": [],
   "source": [
    "r2=list(r1)\n",
    "s=[]"
   ]
  },
  {
   "cell_type": "code",
   "execution_count": 43,
   "metadata": {},
   "outputs": [
    {
     "name": "stdout",
     "output_type": "stream",
     "text": [
      "[2, 8, 14, 20]\n"
     ]
    }
   ],
   "source": [
    "i=0\n",
    "while(i<4):\n",
    "    s.append(r2[i][i+1])\n",
    "    i=i+1\n",
    "print(s)\n"
   ]
  },
  {
   "cell_type": "code",
   "execution_count": 44,
   "metadata": {},
   "outputs": [
    {
     "data": {
      "text/plain": [
       "array([ 2,  8, 14, 20])"
      ]
     },
     "execution_count": 44,
     "metadata": {},
     "output_type": "execute_result"
    }
   ],
   "source": [
    "r3=np.array(s)\n",
    "r3"
   ]
  },
  {
   "cell_type": "code",
   "execution_count": 45,
   "metadata": {},
   "outputs": [],
   "source": [
    "z=np.arange(50)\n",
    "z=z[::-1]"
   ]
  },
  {
   "cell_type": "code",
   "execution_count": 46,
   "metadata": {},
   "outputs": [
    {
     "name": "stdout",
     "output_type": "stream",
     "text": [
      "[49 48 47 46 45 44 43 42 41 40 39 38 37 36 35 34 33 32 31 30 29 28 27 26\n",
      " 25 24 23 22 21 20 19 18 17 16 15 14 13 12 11 10  9  8  7  6  5  4  3  2\n",
      "  1  0]\n"
     ]
    }
   ],
   "source": [
    "print(z)"
   ]
  },
  {
   "cell_type": "code",
   "execution_count": 2,
   "metadata": {},
   "outputs": [
    {
     "name": "stdout",
     "output_type": "stream",
     "text": [
      "blas_mkl_info:\n",
      "    libraries = ['mkl_rt']\n",
      "    library_dirs = ['C:/Users/EFE/Anaconda3_2011.11\\\\Library\\\\lib']\n",
      "    define_macros = [('SCIPY_MKL_H', None), ('HAVE_CBLAS', None)]\n",
      "    include_dirs = ['C:/Users/EFE/Anaconda3_2011.11\\\\Library\\\\include']\n",
      "blas_opt_info:\n",
      "    libraries = ['mkl_rt']\n",
      "    library_dirs = ['C:/Users/EFE/Anaconda3_2011.11\\\\Library\\\\lib']\n",
      "    define_macros = [('SCIPY_MKL_H', None), ('HAVE_CBLAS', None)]\n",
      "    include_dirs = ['C:/Users/EFE/Anaconda3_2011.11\\\\Library\\\\include']\n",
      "lapack_mkl_info:\n",
      "    libraries = ['mkl_rt']\n",
      "    library_dirs = ['C:/Users/EFE/Anaconda3_2011.11\\\\Library\\\\lib']\n",
      "    define_macros = [('SCIPY_MKL_H', None), ('HAVE_CBLAS', None)]\n",
      "    include_dirs = ['C:/Users/EFE/Anaconda3_2011.11\\\\Library\\\\include']\n",
      "lapack_opt_info:\n",
      "    libraries = ['mkl_rt']\n",
      "    library_dirs = ['C:/Users/EFE/Anaconda3_2011.11\\\\Library\\\\lib']\n",
      "    define_macros = [('SCIPY_MKL_H', None), ('HAVE_CBLAS', None)]\n",
      "    include_dirs = ['C:/Users/EFE/Anaconda3_2011.11\\\\Library\\\\include']\n"
     ]
    }
   ],
   "source": [
    "import numpy as np\n",
    "np.show_config()"
   ]
  },
  {
   "cell_type": "code",
   "execution_count": 3,
   "metadata": {},
   "outputs": [
    {
     "name": "stdout",
     "output_type": "stream",
     "text": [
      "(array([0, 1, 4], dtype=int64),)\n"
     ]
    }
   ],
   "source": [
    "nz=np.nonzero([1,2,0,0,4,0])\n",
    "print(nz)"
   ]
  },
  {
   "cell_type": "code",
   "execution_count": 1,
   "metadata": {},
   "outputs": [],
   "source": [
    "import numpy as np"
   ]
  },
  {
   "cell_type": "code",
   "execution_count": 2,
   "metadata": {},
   "outputs": [],
   "source": [
    "a=np.array([1,2,3])\n",
    "b=np.array([3,6,9])\n"
   ]
  },
  {
   "cell_type": "code",
   "execution_count": 3,
   "metadata": {},
   "outputs": [
    {
     "data": {
      "text/plain": [
       "array([ 3, 12, 27])"
      ]
     },
     "execution_count": 3,
     "metadata": {},
     "output_type": "execute_result"
    }
   ],
   "source": [
    "a*b"
   ]
  },
  {
   "cell_type": "markdown",
   "metadata": {},
   "source": [
    "# matriz transpuesta"
   ]
  },
  {
   "cell_type": "code",
   "execution_count": 11,
   "metadata": {},
   "outputs": [
    {
     "data": {
      "text/plain": [
       "array([[ 1,  6, 11, 16, 21, 26],\n",
       "       [ 2,  7, 12, 17, 22, 27],\n",
       "       [ 3,  8, 13, 18, 23, 28],\n",
       "       [ 4,  9, 14, 19, 24, 29],\n",
       "       [ 5, 10, 15, 20, 25, 30]])"
      ]
     },
     "execution_count": 11,
     "metadata": {},
     "output_type": "execute_result"
    }
   ],
   "source": [
    "r1.T"
   ]
  },
  {
   "cell_type": "code",
   "execution_count": 12,
   "metadata": {},
   "outputs": [
    {
     "data": {
      "text/plain": [
       "1"
      ]
     },
     "execution_count": 12,
     "metadata": {},
     "output_type": "execute_result"
    }
   ],
   "source": [
    "a.ndim"
   ]
  },
  {
   "cell_type": "code",
   "execution_count": 13,
   "metadata": {},
   "outputs": [
    {
     "data": {
      "text/plain": [
       "(3,)"
      ]
     },
     "execution_count": 13,
     "metadata": {},
     "output_type": "execute_result"
    }
   ],
   "source": [
    "a.shape"
   ]
  },
  {
   "cell_type": "code",
   "execution_count": 4,
   "metadata": {},
   "outputs": [
    {
     "data": {
      "text/plain": [
       "15.5"
      ]
     },
     "execution_count": 4,
     "metadata": {},
     "output_type": "execute_result"
    }
   ],
   "source": [
    "np.mean(r1)"
   ]
  },
  {
   "cell_type": "code",
   "execution_count": 5,
   "metadata": {},
   "outputs": [
    {
     "name": "stdout",
     "output_type": "stream",
     "text": [
      "[[ 1  2  3  4  5]\n",
      " [11 12 13 14 15]\n",
      " [21 22 23 24 25]]\n"
     ]
    }
   ],
   "source": [
    "print(r1[::2])"
   ]
  },
  {
   "cell_type": "code",
   "execution_count": 7,
   "metadata": {},
   "outputs": [],
   "source": [
    "m1=np.arange(1,13).reshape(2,2,3)"
   ]
  },
  {
   "cell_type": "code",
   "execution_count": 8,
   "metadata": {},
   "outputs": [
    {
     "data": {
      "text/plain": [
       "array([[[ 1,  2,  3],\n",
       "        [ 4,  5,  6]],\n",
       "\n",
       "       [[ 7,  8,  9],\n",
       "        [10, 11, 12]]])"
      ]
     },
     "execution_count": 8,
     "metadata": {},
     "output_type": "execute_result"
    }
   ],
   "source": [
    "m1"
   ]
  },
  {
   "cell_type": "code",
   "execution_count": 12,
   "metadata": {},
   "outputs": [],
   "source": [
    "a1=np.zeros((2,3,8))"
   ]
  },
  {
   "cell_type": "code",
   "execution_count": 13,
   "metadata": {},
   "outputs": [
    {
     "data": {
      "text/plain": [
       "array([[[0., 0., 0., 0., 0., 0., 0., 0.],\n",
       "        [0., 0., 0., 0., 0., 0., 0., 0.],\n",
       "        [0., 0., 0., 0., 0., 0., 0., 0.]],\n",
       "\n",
       "       [[0., 0., 0., 0., 0., 0., 0., 0.],\n",
       "        [0., 0., 0., 0., 0., 0., 0., 0.],\n",
       "        [0., 0., 0., 0., 0., 0., 0., 0.]]])"
      ]
     },
     "execution_count": 13,
     "metadata": {},
     "output_type": "execute_result"
    }
   ],
   "source": [
    "a1"
   ]
  },
  {
   "cell_type": "code",
   "execution_count": 14,
   "metadata": {},
   "outputs": [
    {
     "name": "stdout",
     "output_type": "stream",
     "text": [
      "[0 0 0 0 0]\n"
     ]
    }
   ],
   "source": [
    "print(np.zeros(5,dtype=int))"
   ]
  },
  {
   "cell_type": "code",
   "execution_count": 16,
   "metadata": {},
   "outputs": [
    {
     "data": {
      "text/plain": [
       "array([[99., 99.],\n",
       "       [99., 99.]], dtype=float32)"
      ]
     },
     "execution_count": 16,
     "metadata": {},
     "output_type": "execute_result"
    }
   ],
   "source": [
    "np.full((2,2),99,dtype=\"float32\")"
   ]
  },
  {
   "cell_type": "code",
   "execution_count": 18,
   "metadata": {},
   "outputs": [
    {
     "name": "stdout",
     "output_type": "stream",
     "text": [
      "[[1 0 0]\n",
      " [0 1 0]\n",
      " [0 0 1]]\n"
     ]
    }
   ],
   "source": [
    "print(np.identity(3,dtype=\"int32\"))"
   ]
  },
  {
   "cell_type": "code",
   "execution_count": 25,
   "metadata": {},
   "outputs": [
    {
     "data": {
      "text/plain": [
       "array([0.96366276, 0.38344152, 0.79172504, 0.52889492])"
      ]
     },
     "execution_count": 25,
     "metadata": {},
     "output_type": "execute_result"
    }
   ],
   "source": [
    "np.random.rand(4)"
   ]
  },
  {
   "cell_type": "code",
   "execution_count": 26,
   "metadata": {},
   "outputs": [
    {
     "data": {
      "text/plain": [
       "array([[8, 1, 5, 9],\n",
       "       [8, 9, 4, 3],\n",
       "       [0, 3, 5, 0]])"
      ]
     },
     "execution_count": 26,
     "metadata": {},
     "output_type": "execute_result"
    }
   ],
   "source": [
    "np.random.randint(10,size=(3,4))"
   ]
  },
  {
   "cell_type": "code",
   "execution_count": 28,
   "metadata": {},
   "outputs": [
    {
     "data": {
      "text/plain": [
       "array([[0, 4, 7, 3],\n",
       "       [2, 7, 2, 0],\n",
       "       [0, 4, 5, 5]])"
      ]
     },
     "execution_count": 28,
     "metadata": {},
     "output_type": "execute_result"
    }
   ],
   "source": [
    "x2=np.random.randint(0,10,(3,4))\n",
    "x2"
   ]
  },
  {
   "cell_type": "code",
   "execution_count": 29,
   "metadata": {},
   "outputs": [
    {
     "data": {
      "text/plain": [
       "3"
      ]
     },
     "execution_count": 29,
     "metadata": {},
     "output_type": "execute_result"
    }
   ],
   "source": [
    "x2[0,3]"
   ]
  },
  {
   "cell_type": "code",
   "execution_count": 30,
   "metadata": {},
   "outputs": [
    {
     "data": {
      "text/plain": [
       "5"
      ]
     },
     "execution_count": 30,
     "metadata": {},
     "output_type": "execute_result"
    }
   ],
   "source": [
    "x2[-1,2]"
   ]
  },
  {
   "cell_type": "code",
   "execution_count": 31,
   "metadata": {},
   "outputs": [
    {
     "data": {
      "text/plain": [
       "array([6, 8, 4, 1, 4, 9, 8, 1])"
      ]
     },
     "execution_count": 31,
     "metadata": {},
     "output_type": "execute_result"
    }
   ],
   "source": [
    "x3=np.random.randint(10,size=8)\n",
    "x3"
   ]
  },
  {
   "cell_type": "code",
   "execution_count": 32,
   "metadata": {},
   "outputs": [
    {
     "data": {
      "text/plain": [
       "array([9, 8, 1])"
      ]
     },
     "execution_count": 32,
     "metadata": {},
     "output_type": "execute_result"
    }
   ],
   "source": [
    "x3[5:]"
   ]
  },
  {
   "cell_type": "code",
   "execution_count": 33,
   "metadata": {},
   "outputs": [
    {
     "data": {
      "text/plain": [
       "array([9, 1, 8])"
      ]
     },
     "execution_count": 33,
     "metadata": {},
     "output_type": "execute_result"
    }
   ],
   "source": [
    "x3[5::-2]"
   ]
  },
  {
   "cell_type": "code",
   "execution_count": 34,
   "metadata": {},
   "outputs": [
    {
     "data": {
      "text/plain": [
       "array([[ 0,  1,  2,  3],\n",
       "       [ 4,  5,  6,  7],\n",
       "       [ 8,  9, 10, 11]])"
      ]
     },
     "execution_count": 34,
     "metadata": {},
     "output_type": "execute_result"
    }
   ],
   "source": [
    "num=np.arange(12).reshape(3,4)\n",
    "num"
   ]
  },
  {
   "cell_type": "code",
   "execution_count": 36,
   "metadata": {},
   "outputs": [
    {
     "data": {
      "text/plain": [
       "array([[0, 1, 2],\n",
       "       [4, 5, 6]])"
      ]
     },
     "execution_count": 36,
     "metadata": {},
     "output_type": "execute_result"
    }
   ],
   "source": [
    "num[:2,:3]"
   ]
  },
  {
   "cell_type": "code",
   "execution_count": 37,
   "metadata": {},
   "outputs": [
    {
     "data": {
      "text/plain": [
       "array([[ 0,  2],\n",
       "       [ 4,  6],\n",
       "       [ 8, 10]])"
      ]
     },
     "execution_count": 37,
     "metadata": {},
     "output_type": "execute_result"
    }
   ],
   "source": [
    "num[:3,::2]"
   ]
  },
  {
   "cell_type": "code",
   "execution_count": 39,
   "metadata": {},
   "outputs": [
    {
     "data": {
      "text/plain": [
       "array([[ 1,  2,  3,  4,  5],\n",
       "       [ 6,  7,  8,  9, 10],\n",
       "       [11, 12, 13, 14, 15],\n",
       "       [16, 17, 18, 19, 20],\n",
       "       [21, 22, 23, 24, 25],\n",
       "       [26, 27, 28, 29, 30]])"
      ]
     },
     "execution_count": 39,
     "metadata": {},
     "output_type": "execute_result"
    }
   ],
   "source": [
    "r1"
   ]
  },
  {
   "cell_type": "code",
   "execution_count": 47,
   "metadata": {
    "scrolled": true
   },
   "outputs": [
    {
     "data": {
      "text/plain": [
       "array([[ 1,  2,  3,  4,  5],\n",
       "       [ 6,  7,  8,  9, 10],\n",
       "       [11, 12, 13, 14, 15],\n",
       "       [16, 17, 18, 19, 20],\n",
       "       [21, 22, 23, 24, 25],\n",
       "       [26, 27, 28, 29, 30]])"
      ]
     },
     "execution_count": 47,
     "metadata": {},
     "output_type": "execute_result"
    }
   ],
   "source": [
    "r1"
   ]
  },
  {
   "cell_type": "code",
   "execution_count": 65,
   "metadata": {},
   "outputs": [
    {
     "name": "stdout",
     "output_type": "stream",
     "text": [
      "[ 2  8 14 20]\n"
     ]
    }
   ],
   "source": [
    "s=np.zeros(4,dtype='int32')\n",
    "i=0\n",
    "while(i<4):\n",
    "    s[i]=r1[i,i+1]\n",
    "    i=i+1\n",
    "print(s)"
   ]
  },
  {
   "cell_type": "code",
   "execution_count": 48,
   "metadata": {},
   "outputs": [
    {
     "data": {
      "text/plain": [
       "array([[11, 12],\n",
       "       [16, 17]])"
      ]
     },
     "execution_count": 48,
     "metadata": {},
     "output_type": "execute_result"
    }
   ],
   "source": [
    "r1[2:4,:2]"
   ]
  },
  {
   "cell_type": "code",
   "execution_count": 62,
   "metadata": {},
   "outputs": [
    {
     "data": {
      "text/plain": [
       "array([[ 4,  5],\n",
       "       [24, 25],\n",
       "       [29, 30]])"
      ]
     },
     "execution_count": 62,
     "metadata": {},
     "output_type": "execute_result"
    }
   ],
   "source": [
    "a=list(r1[0,3:])\n",
    "b=list(r1[4,3:])\n",
    "c=list(r1[5,3:])\n",
    "d=a+b+c\n",
    "np.array(d).reshape(3,2)"
   ]
  },
  {
   "cell_type": "code",
   "execution_count": 67,
   "metadata": {},
   "outputs": [
    {
     "name": "stdout",
     "output_type": "stream",
     "text": [
      "[16 17 18 19 20 21 22 23 24 25 26 27 28 29 30]\n"
     ]
    }
   ],
   "source": [
    "print(r1[r1>15])"
   ]
  },
  {
   "cell_type": "code",
   "execution_count": 68,
   "metadata": {},
   "outputs": [],
   "source": [
    "five_up=(r1>=5)"
   ]
  },
  {
   "cell_type": "code",
   "execution_count": 69,
   "metadata": {},
   "outputs": [
    {
     "name": "stdout",
     "output_type": "stream",
     "text": [
      "[ 5  6  7  8  9 10 11 12 13 14 15 16 17 18 19 20 21 22 23 24 25 26 27 28\n",
      " 29 30]\n"
     ]
    }
   ],
   "source": [
    "print(r1[five_up])"
   ]
  },
  {
   "cell_type": "code",
   "execution_count": 70,
   "metadata": {},
   "outputs": [],
   "source": [
    "divisible_by_2=r1[r1%2==0]"
   ]
  },
  {
   "cell_type": "code",
   "execution_count": 71,
   "metadata": {},
   "outputs": [
    {
     "name": "stdout",
     "output_type": "stream",
     "text": [
      "[ 2  4  6  8 10 12 14 16 18 20 22 24 26 28 30]\n"
     ]
    }
   ],
   "source": [
    "print(divisible_by_2)"
   ]
  },
  {
   "cell_type": "code",
   "execution_count": 72,
   "metadata": {
    "scrolled": true
   },
   "outputs": [
    {
     "data": {
      "text/plain": [
       "8"
      ]
     },
     "execution_count": 72,
     "metadata": {},
     "output_type": "execute_result"
    }
   ],
   "source": [
    "r1[1,2]"
   ]
  },
  {
   "attachments": {
    "pandas.png": {
     "image/png": "[encoded data removed]"
    }
   },
   "cell_type": "markdown",
   "metadata": {},
   "source": [
    "# Lecturas con pandas y numpy\n",
    "![pandas.png](attachment:pandas.png)"
   ]
  },
  {
   "cell_type": "code",
   "execution_count": 1,
   "metadata": {},
   "outputs": [
    {
     "data": {
      "text/plain": [
       "WindowsPath('C:/Users/EFE/Desktop/Practica1-1')"
      ]
     },
     "execution_count": 1,
     "metadata": {},
     "output_type": "execute_result"
    }
   ],
   "source": [
    "from pathlib import Path\n",
    "Path.cwd() #donde se encuentra nuestro directorio de trabajo"
   ]
  },
  {
   "cell_type": "code",
   "execution_count": 34,
   "metadata": {
    "scrolled": true
   },
   "outputs": [
    {
     "name": "stdout",
     "output_type": "stream",
     "text": [
      "     CLIENTE  EDAD  ANIOS_AFILIACION ESTADO_CIVIL SEXO  CPM   TP  TXTS  \\\n",
      "0          1    62                 3            C    M  405   27    15   \n",
      "1          2    60                 8            C    F  387   85     5   \n",
      "2          3    59                 7            C    F  366   44     8   \n",
      "3          4    47                 8            S    M  244  244     1   \n",
      "4          5    44                 8            S    F  629  173     4   \n",
      "..       ...   ...               ...          ...  ...  ...  ...   ...   \n",
      "495      496    78                 7            C    F  156   50     3   \n",
      "496      497    53                 7            C    M  272  136     2   \n",
      "497      498    62                 0            C    M  193   29     7   \n",
      "498      499    37                 6            S    F  300  218     1   \n",
      "499      500    64                 1            C    F  198   33     6   \n",
      "\n",
      "     MEDIO_PAGO  TARGET  \n",
      "0      Efectivo       0  \n",
      "1            tc       1  \n",
      "2            tc       1  \n",
      "3      Efectivo       0  \n",
      "4            tc       1  \n",
      "..          ...     ...  \n",
      "495    Efectivo       0  \n",
      "496  Cualquiera       0  \n",
      "497          tc       0  \n",
      "498          tc       0  \n",
      "499    Efectivo       0  \n",
      "\n",
      "[500 rows x 10 columns]\n"
     ]
    }
   ],
   "source": [
    "import numpy as np\n",
    "import pandas as pd\n",
    "data=pd.read_csv('C:/Users/EFE/Desktop/2020-1/MachineLearningconPython/TRABAJO/datos/data1.csv')\n",
    "print(data)"
   ]
  },
  {
   "cell_type": "code",
   "execution_count": 35,
   "metadata": {},
   "outputs": [
    {
     "name": "stdout",
     "output_type": "stream",
     "text": [
      "[62 60 59 47 44 37 80 42 60 58 50 40 34 75 37 29 61 44 43 46 45 45 28 64\n",
      " 38 69 66 49 40 86 33 36 44 63 69 61 62 57 51 84 61 24 25 52 53 43 79 44\n",
      " 39 71 77 64 71 81 53 30 59 74 32 34 50 50 46 35 46 45 52 55 59 61 35 55\n",
      " 37 54 64 37 61 67 56 81 48 53 55 61 65 38 63 53 66 34 72 55 79 34 46 47\n",
      " 87 70 53 54 59 76 37 54 62 34 45 62 45 46 68 43 44 51 46 37 46 64 67 78\n",
      " 40 40 70 60 60 25 28 53 49 52 68 75 55 42 43 60 70 41 37 24 46 37 48 32\n",
      " 35 35 33 52 67 66 61 58 60 56 37 60 32 48 60 31 37 52 44 83 38 56 86 55\n",
      " 40 50 41 42 46 48 72 28 49 41 62 50 52 40 72 33 27 71 76 71 32 40 45 41\n",
      " 57 58 40 46 56 27 74 54 48 52 50 50 76 64 31 60 39 67 39 44 49 67 27 55\n",
      " 53 39 40 42 34 52 61 60 53 52 60 61 54 37 68 54 57 25 38 55 67 39 76 42\n",
      " 60 40 47 42 52 36 42 36 36 72 54 35 51 77 34 64 63 64 57 70 73 59 51 61\n",
      " 55 58 34 39 82 71 29 71 35 32 72 39 34 26 43 43 42 20 47 65 44 47 37 71\n",
      " 51 40 49 66 40 39 32 41 59 63 56 41 31 51 70 41 26 62 55 48 24 28 84 53\n",
      " 67 37 57 65 48 35 37 47 49 20 40 63 49 24 47 56 62 32 32 63 72 42 31 32\n",
      " 49 36 42 70 36 46 55 68 60 63 39 29 40 70 72 37 65 43 69 48 39 41 57 35\n",
      " 44 47 34 56 35 66 35 57 27 57 41 36 65 45 64 28 43 31 63 72 58 39 55 29\n",
      " 53 34 43 40 33 59 46 68 55 31 31 47 67 49 79 47 53 38 81 57 58 60 67 39\n",
      " 69 54 82 35 48 36 44 36 44 58 42 43 90 23 42 56 55 33 64 32 33 54 41 50\n",
      " 77 34 64 45 48 45 37 53 55 52 47 35 49 52 69 89 64 48 48 59 48 32 49 43\n",
      " 39 61 44 41 64 73 31 18 40 23 80 38 68 39 58 44 35 35 40 45 61 38 58 61\n",
      " 42 60 41 40 49 37 30 41 64 33 54 59 57 55 63 78 53 62 37 64]\n"
     ]
    }
   ],
   "source": [
    "age=np.array(data[\"EDAD\"])\n",
    "print(age)"
   ]
  },
  {
   "cell_type": "code",
   "execution_count": 53,
   "metadata": {},
   "outputs": [
    {
     "name": "stdout",
     "output_type": "stream",
     "text": [
      "La suma total es =     25221\n",
      "El promedio es   =     50.442\n",
      "El minimo es =     18\n",
      "El maximo es =     90\n",
      "Desviacion estandar=  14.422\n",
      "percentil 25 =       39.0\n",
      "percentil 50 =       49.0\n",
      "percentil 75 =       61.0\n"
     ]
    }
   ],
   "source": [
    "print(\"La suma total es =\",np.sum(age), sep='     ')\n",
    "print(\"El promedio es   =\",np.mean(age), sep='     ')\n",
    "print(\"El minimo es =\",np.min(age), sep='     ')\n",
    "print(\"El maximo es =\",np.max(age), sep='     ')\n",
    "print(\"Desviacion estandar=\",round(age.std(),3), sep='  ')\n",
    "print(\"percentil 25 = \", np.percentile(age,25),sep= '      ')\n",
    "print(\"percentil 50 = \", np.median(age),sep= '      ')\n",
    "print(\"percentil 75 = \", np.percentile(age,75),sep= '      ')"
   ]
  },
  {
   "cell_type": "code",
   "execution_count": 55,
   "metadata": {
    "scrolled": false
   },
   "outputs": [
    {
     "name": "stdout",
     "output_type": "stream",
     "text": [
      "['C' 'C' 'C' 'S' 'S' 'S' 'C' 'C' 'D' 'S' 'C' 'C' 'C' 'D' 'C' 'S' 'C' 'C'\n",
      " 'S' 'S' 'C' 'S' 'S' 'C' 'S' 'C' 'C' 'C' 'C' 'V' 'S' 'C' 'C' 'C' 'S' 'C'\n",
      " 'C' 'S' 'S' 'V' 'S' 'S' 'S' 'C' 'C' 'C' 'C' 'S' 'C' 'C' 'S' 'C' 'C' 'C'\n",
      " 'C' 'S' 'C' 'V' 'S' 'S' 'S' 'C' 'S' 'C' 'S' 'S' 'S' 'C' 'C' 'C' 'S' 'C'\n",
      " 'C' 'S' 'C' 'S' 'C' 'C' 'C' 'S' 'C' 'C' 'D' 'C' 'C' 'S' 'V' 'C' 'S' 'S'\n",
      " 'S' 'S' 'S' 'S' 'C' 'S' 'V' 'S' 'C' 'C' 'S' 'C' 'C' 'C' 'C' 'C' 'C' 'D'\n",
      " 'C' 'C' 'C' 'C' 'C' 'C' 'C' 'S' 'C' 'C' 'C' 'C' 'C' 'S' 'C' 'C' 'C' 'S'\n",
      " 'S' 'C' 'C' 'C' 'S' 'C' 'S' 'S' 'C' 'C' 'C' 'S' 'S' 'S' 'C' 'C' 'S' 'S'\n",
      " 'S' 'S' 'S' 'C' 'C' 'S' 'S' 'C' 'D' 'C' 'C' 'C' 'S' 'D' 'C' 'S' 'S' 'C'\n",
      " 'C' 'C' 'S' 'S' 'C' 'C' 'C' 'S' 'D' 'C' 'C' 'C' 'C' 'S' 'C' 'S' 'C' 'S'\n",
      " 'C' 'C' 'C' 'S' 'C' 'C' 'C' 'C' 'C' 'S' 'S' 'S' 'C' 'C' 'S' 'S' 'C' 'S'\n",
      " 'C' 'C' 'C' 'C' 'C' 'C' 'C' 'C' 'C' 'S' 'S' 'C' 'S' 'C' 'S' 'S' 'C' 'C'\n",
      " 'C' 'S' 'S' 'S' 'S' 'C' 'V' 'C' 'S' 'C' 'C' 'S' 'C' 'C' 'C' 'S' 'C' 'S'\n",
      " 'C' 'C' 'C' 'S' 'S' 'C' 'V' 'C' 'C' 'S' 'C' 'C' 'C' 'S' 'C' 'S' 'S' 'S'\n",
      " 'C' 'C' 'S' 'C' 'C' 'C' 'D' 'S' 'D' 'C' 'C' 'S' 'C' 'C' 'C' 'S' 'C' 'C'\n",
      " 'S' 'C' 'S' 'S' 'C' 'S' 'S' 'S' 'C' 'S' 'C' 'S' 'S' 'C' 'S' 'C' 'C' 'C'\n",
      " 'S' 'S' 'C' 'C' 'C' 'C' 'S' 'S' 'C' 'C' 'V' 'C' 'S' 'C' 'V' 'S' 'S' 'C'\n",
      " 'C' 'S' 'S' 'S' 'D' 'C' 'C' 'S' 'C' 'C' 'S' 'S' 'C' 'C' 'C' 'S' 'C' 'S'\n",
      " 'C' 'S' 'C' 'C' 'S' 'S' 'S' 'C' 'S' 'C' 'S' 'S' 'C' 'C' 'C' 'C' 'C' 'C'\n",
      " 'D' 'D' 'C' 'C' 'C' 'S' 'S' 'C' 'C' 'S' 'C' 'S' 'C' 'C' 'C' 'S' 'S' 'S'\n",
      " 'C' 'C' 'S' 'S' 'S' 'C' 'C' 'C' 'C' 'C' 'S' 'S' 'C' 'S' 'C' 'S' 'C' 'S'\n",
      " 'C' 'S' 'C' 'S' 'S' 'D' 'C' 'S' 'S' 'C' 'C' 'C' 'S' 'D' 'C' 'S' 'C' 'C'\n",
      " 'S' 'S' 'C' 'C' 'S' 'S' 'C' 'C' 'C' 'S' 'C' 'S' 'C' 'S' 'C' 'C' 'C' 'C'\n",
      " 'C' 'S' 'S' 'C' 'C' 'C' 'S' 'S' 'C' 'C' 'C' 'C' 'C' 'S' 'S' 'S' 'C' 'C'\n",
      " 'C' 'C' 'C' 'C' 'S' 'S' 'S' 'C' 'C' 'C' 'V' 'S' 'S' 'S' 'C' 'C' 'C' 'C'\n",
      " 'C' 'C' 'C' 'S' 'C' 'C' 'S' 'C' 'C' 'C' 'C' 'C' 'S' 'C' 'C' 'S' 'C' 'C'\n",
      " 'C' 'S' 'C' 'C' 'C' 'S' 'D' 'C' 'C' 'C' 'C' 'C' 'C' 'C' 'D' 'S' 'C' 'C'\n",
      " 'C' 'C' 'S' 'C' 'C' 'C' 'S' 'C' 'C' 'C' 'C' 'C' 'S' 'C']\n"
     ]
    }
   ],
   "source": [
    "est_civi=np.array(data[\"ESTADO_CIVIL\"])\n",
    "print(est_civi)"
   ]
  },
  {
   "cell_type": "code",
   "execution_count": 64,
   "metadata": {},
   "outputs": [
    {
     "name": "stdout",
     "output_type": "stream",
     "text": [
      "['C' 'C' 'C' 'C' 'C' 'C' 'C' 'C' 'C' 'C' 'C' 'C' 'C' 'C' 'C' 'C' 'C' 'C'\n",
      " 'C' 'C' 'C' 'C' 'C' 'C' 'C' 'C' 'C' 'C' 'C' 'C' 'C' 'C' 'C' 'C' 'C' 'C'\n",
      " 'C' 'C' 'C' 'C' 'C' 'C' 'C' 'C' 'C' 'C' 'C' 'C' 'C' 'C' 'C' 'C' 'C' 'C'\n",
      " 'C' 'C' 'C' 'C' 'C' 'C' 'C' 'C' 'C' 'C' 'C' 'C' 'C' 'C' 'C' 'C' 'C' 'C'\n",
      " 'C' 'C' 'C' 'C' 'C' 'C' 'C' 'C' 'C' 'C' 'C' 'C' 'C' 'C' 'C' 'C' 'C' 'C'\n",
      " 'C' 'C' 'C' 'C' 'C' 'C' 'C' 'C' 'C' 'C' 'C' 'C' 'C' 'C' 'C' 'C' 'C' 'C'\n",
      " 'C' 'C' 'C' 'C' 'C' 'C' 'C' 'C' 'C' 'C' 'C' 'C' 'C' 'C' 'C' 'C' 'C' 'C'\n",
      " 'C' 'C' 'C' 'C' 'C' 'C' 'C' 'C' 'C' 'C' 'C' 'C' 'C' 'C' 'C' 'C' 'C' 'C'\n",
      " 'C' 'C' 'C' 'C' 'C' 'C' 'C' 'C' 'C' 'C' 'C' 'C' 'C' 'C' 'C' 'C' 'C' 'C'\n",
      " 'C' 'C' 'C' 'C' 'C' 'C' 'C' 'C' 'C' 'C' 'C' 'C' 'C' 'C' 'C' 'C' 'C' 'C'\n",
      " 'C' 'C' 'C' 'C' 'C' 'C' 'C' 'C' 'C' 'C' 'C' 'C' 'C' 'C' 'C' 'C' 'C' 'C'\n",
      " 'C' 'C' 'C' 'C' 'C' 'C' 'C' 'C' 'C' 'C' 'C' 'C' 'C' 'C' 'C' 'C' 'C' 'C'\n",
      " 'C' 'C' 'C' 'C' 'C' 'C' 'C' 'C' 'C' 'C' 'C' 'C' 'C' 'C' 'C' 'C' 'C' 'C'\n",
      " 'C' 'C' 'C' 'C' 'C' 'C' 'C' 'C' 'C' 'C' 'C' 'C' 'C' 'C' 'C' 'C' 'C' 'C'\n",
      " 'C' 'C' 'C' 'C' 'C' 'C' 'C' 'C' 'C' 'C' 'C' 'C' 'C' 'C' 'C' 'C' 'C' 'C'\n",
      " 'C' 'C' 'C' 'C' 'C' 'C' 'C' 'C' 'C' 'C' 'C' 'C' 'C' 'C' 'C' 'C' 'C' 'C'\n",
      " 'C' 'C' 'C' 'C']\n"
     ]
    }
   ],
   "source": [
    "married=(est_civi=='C')\n",
    "single=(est_civi=='S')\n",
    "divorced = (est_civi=='D')\n",
    "print(est_civi[married])\n"
   ]
  },
  {
   "cell_type": "code",
   "execution_count": 65,
   "metadata": {},
   "outputs": [
    {
     "data": {
      "text/plain": [
       "292"
      ]
     },
     "execution_count": 65,
     "metadata": {},
     "output_type": "execute_result"
    }
   ],
   "source": [
    "len(est_civi[married])\n"
   ]
  },
  {
   "cell_type": "code",
   "execution_count": 66,
   "metadata": {},
   "outputs": [
    {
     "data": {
      "text/plain": [
       "182"
      ]
     },
     "execution_count": 66,
     "metadata": {},
     "output_type": "execute_result"
    }
   ],
   "source": [
    "len(est_civi[single])\n"
   ]
  },
  {
   "cell_type": "code",
   "execution_count": 67,
   "metadata": {},
   "outputs": [
    {
     "data": {
      "text/plain": [
       "16"
      ]
     },
     "execution_count": 67,
     "metadata": {},
     "output_type": "execute_result"
    }
   ],
   "source": [
    "len(est_civi[divorced])\n"
   ]
  },
  {
   "cell_type": "code",
   "execution_count": 52,
   "metadata": {},
   "outputs": [
    {
     "data": {
      "text/plain": [
       "0.82"
      ]
     },
     "execution_count": 52,
     "metadata": {},
     "output_type": "execute_result"
    }
   ],
   "source": [
    "np.mean(age>36)"
   ]
  },
  {
   "cell_type": "code",
   "execution_count": null,
   "metadata": {},
   "outputs": [],
   "source": []
  },
  {
   "cell_type": "code",
   "execution_count": null,
   "metadata": {},
   "outputs": [],
   "source": []
  },
  {
   "cell_type": "code",
   "execution_count": null,
   "metadata": {},
   "outputs": [],
   "source": []
  },
  {
   "cell_type": "code",
   "execution_count": null,
   "metadata": {},
   "outputs": [],
   "source": []
  },
  {
   "cell_type": "code",
   "execution_count": 43,
   "metadata": {},
   "outputs": [
    {
     "data": {
      "text/plain": [
       "array([18, 20, 20, 23, 23, 24, 24, 24, 24, 25, 25, 25, 26, 26, 27, 27, 27,\n",
       "       27, 28, 28, 28, 28, 28, 29, 29, 29, 29, 30, 30, 31, 31, 31, 31, 31,\n",
       "       31, 31, 31, 32, 32, 32, 32, 32, 32, 32, 32, 32, 32, 32, 33, 33, 33,\n",
       "       33, 33, 33, 33, 34, 34, 34, 34, 34, 34, 34, 34, 34, 34, 34, 34, 35,\n",
       "       35, 35, 35, 35, 35, 35, 35, 35, 35, 35, 35, 35, 35, 36, 36, 36, 36,\n",
       "       36, 36, 36, 36, 36, 37, 37, 37, 37, 37, 37, 37, 37, 37, 37, 37, 37,\n",
       "       37, 37, 37, 37, 37, 37, 38, 38, 38, 38, 38, 38, 38, 39, 39, 39, 39,\n",
       "       39, 39, 39, 39, 39, 39, 39, 39, 39, 39, 40, 40, 40, 40, 40, 40, 40,\n",
       "       40, 40, 40, 40, 40, 40, 40, 40, 40, 40, 40, 41, 41, 41, 41, 41, 41,\n",
       "       41, 41, 41, 41, 41, 41, 41, 42, 42, 42, 42, 42, 42, 42, 42, 42, 42,\n",
       "       42, 42, 42, 43, 43, 43, 43, 43, 43, 43, 43, 43, 43, 43, 44, 44, 44,\n",
       "       44, 44, 44, 44, 44, 44, 44, 44, 44, 44, 45, 45, 45, 45, 45, 45, 45,\n",
       "       45, 45, 45, 46, 46, 46, 46, 46, 46, 46, 46, 46, 46, 46, 46, 47, 47,\n",
       "       47, 47, 47, 47, 47, 47, 47, 47, 47, 48, 48, 48, 48, 48, 48, 48, 48,\n",
       "       48, 48, 48, 48, 48, 49, 49, 49, 49, 49, 49, 49, 49, 49, 49, 49, 49,\n",
       "       50, 50, 50, 50, 50, 50, 50, 50, 51, 51, 51, 51, 51, 51, 52, 52, 52,\n",
       "       52, 52, 52, 52, 52, 52, 52, 52, 52, 53, 53, 53, 53, 53, 53, 53, 53,\n",
       "       53, 53, 53, 53, 53, 54, 54, 54, 54, 54, 54, 54, 54, 54, 54, 55, 55,\n",
       "       55, 55, 55, 55, 55, 55, 55, 55, 55, 55, 55, 55, 55, 55, 56, 56, 56,\n",
       "       56, 56, 56, 56, 56, 57, 57, 57, 57, 57, 57, 57, 57, 57, 57, 58, 58,\n",
       "       58, 58, 58, 58, 58, 58, 58, 59, 59, 59, 59, 59, 59, 59, 59, 59, 60,\n",
       "       60, 60, 60, 60, 60, 60, 60, 60, 60, 60, 60, 60, 60, 60, 61, 61, 61,\n",
       "       61, 61, 61, 61, 61, 61, 61, 61, 61, 61, 62, 62, 62, 62, 62, 62, 62,\n",
       "       62, 63, 63, 63, 63, 63, 63, 63, 63, 63, 64, 64, 64, 64, 64, 64, 64,\n",
       "       64, 64, 64, 64, 64, 64, 64, 65, 65, 65, 65, 65, 66, 66, 66, 66, 66,\n",
       "       67, 67, 67, 67, 67, 67, 67, 67, 67, 68, 68, 68, 68, 68, 68, 69, 69,\n",
       "       69, 69, 69, 70, 70, 70, 70, 70, 70, 70, 71, 71, 71, 71, 71, 71, 71,\n",
       "       72, 72, 72, 72, 72, 72, 72, 72, 73, 73, 74, 74, 75, 75, 76, 76, 76,\n",
       "       76, 77, 77, 77, 78, 78, 79, 79, 79, 80, 80, 81, 81, 81, 82, 82, 83,\n",
       "       84, 84, 86, 86, 87, 89, 90], dtype=int64)"
      ]
     },
     "execution_count": 43,
     "metadata": {},
     "output_type": "execute_result"
    }
   ],
   "source": [
    "np.sort(age)"
   ]
  },
  {
   "cell_type": "code",
   "execution_count": null,
   "metadata": {},
   "outputs": [],
   "source": []
  },
  {
   "cell_type": "code",
   "execution_count": null,
   "metadata": {},
   "outputs": [],
   "source": []
  },
  {
   "cell_type": "code",
   "execution_count": null,
   "metadata": {},
   "outputs": [],
   "source": []
  },
  {
   "cell_type": "code",
   "execution_count": 8,
   "metadata": {},
   "outputs": [
    {
     "name": "stdout",
     "output_type": "stream",
     "text": [
      "[[1 2 3 4 5]]\n"
     ]
    }
   ],
   "source": [
    "print(r1[0,None])"
   ]
  },
  {
   "cell_type": "code",
   "execution_count": 11,
   "metadata": {},
   "outputs": [
    {
     "name": "stdout",
     "output_type": "stream",
     "text": [
      "[[1 2 3 4 5]]\n"
     ]
    }
   ],
   "source": [
    "print(r1[:1])"
   ]
  },
  {
   "cell_type": "code",
   "execution_count": 12,
   "metadata": {},
   "outputs": [
    {
     "name": "stdout",
     "output_type": "stream",
     "text": [
      "[[ 9 10]\n",
      " [14 15]]\n"
     ]
    }
   ],
   "source": [
    "print(r1[1:3,[-2,-1]])"
   ]
  },
  {
   "cell_type": "code",
   "execution_count": 14,
   "metadata": {},
   "outputs": [
    {
     "name": "stdout",
     "output_type": "stream",
     "text": [
      "[[ 4  5]\n",
      " [24 25]\n",
      " [29 30]]\n"
     ]
    }
   ],
   "source": [
    "print(r1[[0,4,5],3:5])"
   ]
  },
  {
   "cell_type": "code",
   "execution_count": 15,
   "metadata": {},
   "outputs": [
    {
     "name": "stdout",
     "output_type": "stream",
     "text": [
      "[[ 6  7]\n",
      " [11 12]\n",
      " [21 22]]\n"
     ]
    }
   ],
   "source": [
    "print(r1[[1,2,4],:2])"
   ]
  },
  {
   "cell_type": "code",
   "execution_count": 20,
   "metadata": {},
   "outputs": [
    {
     "name": "stdout",
     "output_type": "stream",
     "text": [
      "[ 2  8 14 20]\n"
     ]
    }
   ],
   "source": [
    "print(r1[[0,1,2,3],[1,2,3,4]])"
   ]
  },
  {
   "cell_type": "code",
   "execution_count": 25,
   "metadata": {},
   "outputs": [
    {
     "name": "stdout",
     "output_type": "stream",
     "text": [
      "[ 6 12 24]\n"
     ]
    }
   ],
   "source": [
    "print(r1[[1,2,4],[0,1,3]])"
   ]
  },
  {
   "cell_type": "code",
   "execution_count": 26,
   "metadata": {},
   "outputs": [
    {
     "name": "stdout",
     "output_type": "stream",
     "text": [
      "r1+5 = [[ 6  7  8  9 10]\n",
      " [11 12 13 14 15]\n",
      " [16 17 18 19 20]\n",
      " [21 22 23 24 25]\n",
      " [26 27 28 29 30]\n",
      " [31 32 33 34 35]]\n"
     ]
    }
   ],
   "source": [
    "print(\"r1+5 =\",r1+5)"
   ]
  },
  {
   "cell_type": "code",
   "execution_count": 28,
   "metadata": {
    "scrolled": true
   },
   "outputs": [
    {
     "name": "stdout",
     "output_type": "stream",
     "text": [
      "r1/2 = [[ 0.5  1.   1.5  2.   2.5]\n",
      " [ 3.   3.5  4.   4.5  5. ]\n",
      " [ 5.5  6.   6.5  7.   7.5]\n",
      " [ 8.   8.5  9.   9.5 10. ]\n",
      " [10.5 11.  11.5 12.  12.5]\n",
      " [13.  13.5 14.  14.5 15. ]]\n"
     ]
    }
   ],
   "source": [
    "print(\"r1/2 =\",r1/2)"
   ]
  },
  {
   "cell_type": "code",
   "execution_count": 5,
   "metadata": {},
   "outputs": [
    {
     "name": "stdout",
     "output_type": "stream",
     "text": [
      "[[ 0  2  3  4  5]\n",
      " [ 6  0  8  9 10]\n",
      " [11 12  0 14 15]\n",
      " [16 17 18  0 20]\n",
      " [21 22 23 24  0]\n",
      " [26 27 28 29 30]]\n"
     ]
    }
   ],
   "source": [
    "r1[[0,1,2,3,4],[0,1,2,3,4]]=[0,0,0,0,0]  #diagonales iguales a cero\n",
    "print(r1)"
   ]
  },
  {
   "cell_type": "code",
   "execution_count": 10,
   "metadata": {},
   "outputs": [
    {
     "data": {
      "text/plain": [
       "400"
      ]
     },
     "execution_count": 10,
     "metadata": {},
     "output_type": "execute_result"
    }
   ],
   "source": [
    "r1.sum() # suma de todos los elementos de la matriz"
   ]
  },
  {
   "attachments": {
    "array.png": {
     "image/png": "[encoded data removed]"
    }
   },
   "cell_type": "markdown",
   "metadata": {},
   "source": [
    "# Indexación \n",
    "# eje 0 = columnas\n",
    "# eje 1 = filas\n",
    "![array.png](attachment:array.png)"
   ]
  },
  {
   "cell_type": "code",
   "execution_count": 11,
   "metadata": {},
   "outputs": [
    {
     "data": {
      "text/plain": [
       "array([80, 80, 80, 80, 80])"
      ]
     },
     "execution_count": 11,
     "metadata": {},
     "output_type": "execute_result"
    }
   ],
   "source": [
    "r1.sum(axis=0) #suma de columnas"
   ]
  },
  {
   "cell_type": "code",
   "execution_count": 12,
   "metadata": {},
   "outputs": [
    {
     "data": {
      "text/plain": [
       "array([ 14,  33,  52,  71,  90, 140])"
      ]
     },
     "execution_count": 12,
     "metadata": {},
     "output_type": "execute_result"
    }
   ],
   "source": [
    "r1.sum(axis=1) #suma de filas"
   ]
  },
  {
   "cell_type": "code",
   "execution_count": 8,
   "metadata": {
    "scrolled": true
   },
   "outputs": [
    {
     "name": "stdout",
     "output_type": "stream",
     "text": [
      "[[4 5 1 5]\n",
      " [7 9 4 0]\n",
      " [4 7 7 8]]\n"
     ]
    }
   ],
   "source": [
    "m=np.random.randint(10,size=(3,4))\n",
    "print(m)"
   ]
  },
  {
   "cell_type": "code",
   "execution_count": 9,
   "metadata": {},
   "outputs": [
    {
     "name": "stdout",
     "output_type": "stream",
     "text": [
      "[4 5 1 5 7 4 0 4 7 7]\n"
     ]
    }
   ],
   "source": [
    "print(m[m<8])"
   ]
  },
  {
   "cell_type": "markdown",
   "metadata": {},
   "source": [
    "# Numpy Newaxis\n",
    "\n",
    "Numpy newaxis es una de las diversas funciones soportadas por la biblioteca numpy python que nos permite cambiar\n",
    "o expandir la dimension de una matriz numpy en la posición en la que se ha introducido.Cuando incluimos cada uno de \n",
    "los objetos newaxis en la tupla de nuestra variable o matriz obtendremos una nueva dimension adicional para nuestra matriz\n",
    "en la misma posición donde incluimos el objeto newaxis.\n",
    "\n",
    "Un alias conveniente para None,util para indexar matrices."
   ]
  },
  {
   "cell_type": "code",
   "execution_count": 13,
   "metadata": {},
   "outputs": [
    {
     "data": {
      "text/plain": [
       "True"
      ]
     },
     "execution_count": 13,
     "metadata": {},
     "output_type": "execute_result"
    }
   ],
   "source": [
    "np.newaxis is None"
   ]
  },
  {
   "cell_type": "code",
   "execution_count": 16,
   "metadata": {},
   "outputs": [
    {
     "data": {
      "text/plain": [
       "array([0, 1, 2])"
      ]
     },
     "execution_count": 16,
     "metadata": {},
     "output_type": "execute_result"
    }
   ],
   "source": [
    "x=np.arange(3)\n",
    "x"
   ]
  },
  {
   "cell_type": "code",
   "execution_count": 18,
   "metadata": {},
   "outputs": [
    {
     "data": {
      "text/plain": [
       "array([[0],\n",
       "       [1],\n",
       "       [2]])"
      ]
     },
     "execution_count": 18,
     "metadata": {},
     "output_type": "execute_result"
    }
   ],
   "source": [
    "x[:,np.newaxis]"
   ]
  },
  {
   "cell_type": "code",
   "execution_count": 19,
   "metadata": {},
   "outputs": [
    {
     "data": {
      "text/plain": [
       "array([[[0]],\n",
       "\n",
       "       [[1]],\n",
       "\n",
       "       [[2]]])"
      ]
     },
     "execution_count": 19,
     "metadata": {},
     "output_type": "execute_result"
    }
   ],
   "source": [
    "x[:,np.newaxis,np.newaxis]"
   ]
  },
  {
   "cell_type": "markdown",
   "metadata": {},
   "source": [
    "# Funciones trigonometricas"
   ]
  },
  {
   "cell_type": "code",
   "execution_count": 29,
   "metadata": {},
   "outputs": [],
   "source": [
    "x=np.array([-2,-1,0,1,2])"
   ]
  },
  {
   "cell_type": "code",
   "execution_count": 30,
   "metadata": {},
   "outputs": [
    {
     "name": "stdout",
     "output_type": "stream",
     "text": [
      "[2 1 0 1 2]\n"
     ]
    }
   ],
   "source": [
    "print(abs(x)) #valor absoluto\n",
    "#print(np.absolute(x))\n",
    "#print(np.abs(x))"
   ]
  },
  {
   "cell_type": "code",
   "execution_count": 31,
   "metadata": {},
   "outputs": [],
   "source": [
    "y=np.array([3-4j,4-3j,2+0j,0+1j]) #array de numeros complejos"
   ]
  },
  {
   "cell_type": "code",
   "execution_count": 32,
   "metadata": {},
   "outputs": [
    {
     "name": "stdout",
     "output_type": "stream",
     "text": [
      "[5. 5. 2. 1.]\n"
     ]
    }
   ],
   "source": [
    "print(np.abs(y))"
   ]
  },
  {
   "cell_type": "markdown",
   "metadata": {},
   "source": [
    "# linspace\n",
    "Devuelve numeros espaciados uniformemente durante un intervalo especificado\n",
    "Devuelve muestras espaciadas numeradas uniformemente.calculadas a lo largo\n",
    "del intervalo [inicio,parada]  "
   ]
  },
  {
   "cell_type": "code",
   "execution_count": 33,
   "metadata": {},
   "outputs": [
    {
     "data": {
      "text/plain": [
       "array([2.  , 2.25, 2.5 , 2.75, 3.  ])"
      ]
     },
     "execution_count": 33,
     "metadata": {},
     "output_type": "execute_result"
    }
   ],
   "source": [
    "np.linspace(2.0,3.0,num=5)"
   ]
  },
  {
   "cell_type": "code",
   "execution_count": 34,
   "metadata": {},
   "outputs": [
    {
     "data": {
      "text/plain": [
       "array([2. , 2.2, 2.4, 2.6, 2.8])"
      ]
     },
     "execution_count": 34,
     "metadata": {},
     "output_type": "execute_result"
    }
   ],
   "source": [
    "np.linspace(2.0,3.0,num=5,endpoint=False)"
   ]
  },
  {
   "cell_type": "code",
   "execution_count": 35,
   "metadata": {},
   "outputs": [
    {
     "data": {
      "text/plain": [
       "(array([2.  , 2.25, 2.5 , 2.75, 3.  ]), 0.25)"
      ]
     },
     "execution_count": 35,
     "metadata": {},
     "output_type": "execute_result"
    }
   ],
   "source": [
    "np.linspace(2.0,3.0,num=5,retstep=True)"
   ]
  },
  {
   "cell_type": "code",
   "execution_count": 36,
   "metadata": {},
   "outputs": [
    {
     "data": {
      "text/plain": [
       "array([2.        , 2.02040816, 2.04081633, 2.06122449, 2.08163265,\n",
       "       2.10204082, 2.12244898, 2.14285714, 2.16326531, 2.18367347,\n",
       "       2.20408163, 2.2244898 , 2.24489796, 2.26530612, 2.28571429,\n",
       "       2.30612245, 2.32653061, 2.34693878, 2.36734694, 2.3877551 ,\n",
       "       2.40816327, 2.42857143, 2.44897959, 2.46938776, 2.48979592,\n",
       "       2.51020408, 2.53061224, 2.55102041, 2.57142857, 2.59183673,\n",
       "       2.6122449 , 2.63265306, 2.65306122, 2.67346939, 2.69387755,\n",
       "       2.71428571, 2.73469388, 2.75510204, 2.7755102 , 2.79591837,\n",
       "       2.81632653, 2.83673469, 2.85714286, 2.87755102, 2.89795918,\n",
       "       2.91836735, 2.93877551, 2.95918367, 2.97959184, 3.        ])"
      ]
     },
     "execution_count": 36,
     "metadata": {},
     "output_type": "execute_result"
    }
   ],
   "source": [
    "#Si no se coloca elnumero de partes que quiero dividir \n",
    "#el valor predeterminado es 50\n",
    "np.linspace(2.0,3.0)"
   ]
  },
  {
   "cell_type": "code",
   "execution_count": 37,
   "metadata": {},
   "outputs": [
    {
     "name": "stdout",
     "output_type": "stream",
     "text": [
      "theta  = [0.         1.04719755 2.0943951  3.14159265]\n"
     ]
    }
   ],
   "source": [
    "theta=np.linspace(0,np.pi,4) #devuelve 4 numeros\n",
    "print(\"theta  =\",theta)"
   ]
  },
  {
   "cell_type": "code",
   "execution_count": 38,
   "metadata": {},
   "outputs": [
    {
     "name": "stdout",
     "output_type": "stream",
     "text": [
      "Euler  = [0.         0.67957046 1.35914091 2.03871137 2.71828183]\n"
     ]
    }
   ],
   "source": [
    "euler=np.linspace(0,np.e,5)\n",
    "print(\"Euler  =\",euler)"
   ]
  },
  {
   "cell_type": "code",
   "execution_count": 39,
   "metadata": {},
   "outputs": [
    {
     "name": "stdout",
     "output_type": "stream",
     "text": [
      "Seno theta    = [0.00000000e+00 8.66025404e-01 8.66025404e-01 1.22464680e-16]\n"
     ]
    }
   ],
   "source": [
    "#theta angulo en radianes\n",
    "print(\"Seno theta    =\",np.sin(theta))  #np.cos(theta), np.tan(theta)"
   ]
  },
  {
   "cell_type": "code",
   "execution_count": null,
   "metadata": {},
   "outputs": [],
   "source": [
    "#np.arcsin(x), np.arccos(x)\n",
    "#np.arctan(x)"
   ]
  },
  {
   "cell_type": "markdown",
   "metadata": {},
   "source": [
    "# Funciones estadisticas"
   ]
  },
  {
   "cell_type": "markdown",
   "metadata": {},
   "source": [
    "# Tablas\n",
    "\n",
    "Las tablas pueden contener números, letras, fórmulas, imágenes... Se puede determinar la alineación de las columnas, pero puede ser que en algunos navegadores no se respete. A continuación se muestra el modo en que se ingresa la tabla\n",
    "\n",
    "| Function name | Nan-safe Version | Description |\n",
    "| :---: | :--- | ---: |\n",
    "| np.sum| np.nansum | Suma de elementos |\n",
    "| np.prod | np.nanprod | Producto de elementos |\n",
    "| np.mean | np.nanmean| promedio de elementos |\n",
    "| np.std| np.nanstd | desviacion estandar |\n",
    "| np.var| np.nanvar | varianza |\n",
    "| np.min| np.nanmin | encuentra minimo valor |\n",
    "| np.max| np.nanmax | encuentra maximo valor |\n",
    "| np.argmin| np.nanargmin | encuentra indice del minimo valor |\n",
    "| np.argmax| np.nanargmax | encuentra indice del maximo valor |\n",
    "| np.percentile| np.nanpercentile | medida estadistica |\n",
    "| np.any| N/A | evalua si algun elemento es verdadero |\n",
    "| np.all| N/A | evalua si todos los elementos son verdaderos |\n",
    "\n",
    "\n",
    "\n",
    "\n"
   ]
  },
  {
   "cell_type": "code",
   "execution_count": 20,
   "metadata": {
    "scrolled": true
   },
   "outputs": [
    {
     "name": "stdout",
     "output_type": "stream",
     "text": [
      "[0.67005182 0.74339803 0.65358782 0.84937504 0.2544051  0.99203315\n",
      " 0.82360843 0.07554307 0.0303863  0.74689871 0.25893307 0.45975604\n",
      " 0.51051531 0.55182554 0.48397893 0.08742785 0.19819009 0.97090315\n",
      " 0.77934219 0.59057524 0.93496768 0.79938705 0.28668698 0.23481794\n",
      " 0.09728962 0.82510491 0.61176607 0.23421043 0.59190959 0.72497811\n",
      " 0.53549465 0.21902385 0.70644277 0.36379653 0.70424282 0.75964579\n",
      " 0.74100732 0.29497433 0.41990583 0.87490432 0.42859611 0.74830212\n",
      " 0.63845377 0.44411807 0.29736703 0.79189601 0.95112082 0.86062693\n",
      " 0.19553451 0.23576818 0.43003064 0.7378517  0.942759   0.54181721\n",
      " 0.05265383 0.65605614 0.68305159 0.75830209 0.26522644 0.02532352\n",
      " 0.38559519 0.43999571 0.61626945 0.54918634 0.09543591 0.19368906\n",
      " 0.48590501 0.67760569 0.72080416 0.04789992 0.38273845 0.92072416\n",
      " 0.39105305 0.59481955 0.0269271  0.61938825 0.9675996  0.43922802\n",
      " 0.2854622  0.70693706 0.7391962  0.01318166 0.53634028 0.21261924\n",
      " 0.5149349  0.37415946 0.25416721 0.16746655 0.95776074 0.85884157\n",
      " 0.00345416 0.40157359 0.79729632 0.76002065 0.26913316 0.71231809\n",
      " 0.24537458 0.16775373 0.81898163 0.31341895]\n"
     ]
    }
   ],
   "source": [
    "L= np.random.random(100)\n",
    "print(L)"
   ]
  },
  {
   "cell_type": "code",
   "execution_count": 21,
   "metadata": {},
   "outputs": [
    {
     "name": "stdout",
     "output_type": "stream",
     "text": [
      "51.0414037664631\n"
     ]
    }
   ],
   "source": [
    "print(np.sum(L))"
   ]
  },
  {
   "cell_type": "code",
   "execution_count": 29,
   "metadata": {
    "scrolled": false
   },
   "outputs": [
    {
     "name": "stdout",
     "output_type": "stream",
     "text": [
      "0.003454163483983974\n"
     ]
    }
   ],
   "source": [
    "print(L.min(axis=0))"
   ]
  },
  {
   "cell_type": "code",
   "execution_count": 22,
   "metadata": {
    "scrolled": true
   },
   "outputs": [
    {
     "name": "stdout",
     "output_type": "stream",
     "text": [
      "[0.12504345 0.1757815  0.87175337 ... 0.84084645 0.82295455 0.34789922]\n"
     ]
    }
   ],
   "source": [
    "big_array= np.random.rand(1000000)\n",
    "print(big_array)"
   ]
  },
  {
   "cell_type": "code",
   "execution_count": 23,
   "metadata": {},
   "outputs": [
    {
     "name": "stdout",
     "output_type": "stream",
     "text": [
      "500379.9764444076\n"
     ]
    }
   ],
   "source": [
    "print(sum(big_array))"
   ]
  },
  {
   "cell_type": "code",
   "execution_count": 24,
   "metadata": {},
   "outputs": [
    {
     "name": "stdout",
     "output_type": "stream",
     "text": [
      "500379.9764443912\n"
     ]
    }
   ],
   "source": [
    "print(np.sum(big_array))"
   ]
  },
  {
   "cell_type": "code",
   "execution_count": 26,
   "metadata": {},
   "outputs": [
    {
     "name": "stdout",
     "output_type": "stream",
     "text": [
      "2.7246392880764247e-06\n"
     ]
    }
   ],
   "source": [
    "print(big_array.min(axis=0))"
   ]
  },
  {
   "cell_type": "code",
   "execution_count": 30,
   "metadata": {},
   "outputs": [
    {
     "data": {
      "text/plain": [
       "array([[22,  4,  7, 25, 28, 12,  6],\n",
       "       [ 1, 20, 18, 13, 29, 15, 14],\n",
       "       [19, 16,  9, 18,  8, 17,  8],\n",
       "       [14, 16,  7,  2, 24, 11, 19],\n",
       "       [27,  7,  6, 10, 21, 15,  2],\n",
       "       [ 9, 17, 11, 21,  8, 10, 19]])"
      ]
     },
     "execution_count": 30,
     "metadata": {},
     "output_type": "execute_result"
    }
   ],
   "source": [
    "s=np.random.randint(30,size=(6,7))\n",
    "s"
   ]
  },
  {
   "cell_type": "code",
   "execution_count": 31,
   "metadata": {},
   "outputs": [
    {
     "name": "stdout",
     "output_type": "stream",
     "text": [
      "[4 1 8 2 2 8]\n"
     ]
    }
   ],
   "source": [
    "print(s.min(axis=1)) #encuentra los minimos por filas\n"
   ]
  },
  {
   "cell_type": "code",
   "execution_count": 32,
   "metadata": {},
   "outputs": [
    {
     "name": "stdout",
     "output_type": "stream",
     "text": [
      "[27 20 18 25 29 17 19]\n"
     ]
    }
   ],
   "source": [
    "print(s.max(axis=0)) #encuentra maximos por columnas"
   ]
  },
  {
   "cell_type": "code",
   "execution_count": 68,
   "metadata": {},
   "outputs": [
    {
     "data": {
      "text/plain": [
       "array([[ 4,  6,  7, 12, 22, 25, 28],\n",
       "       [ 1, 13, 14, 15, 18, 20, 29],\n",
       "       [ 8,  8,  9, 16, 17, 18, 19],\n",
       "       [ 2,  7, 11, 14, 16, 19, 24],\n",
       "       [ 2,  6,  7, 10, 15, 21, 27],\n",
       "       [ 8,  9, 10, 11, 17, 19, 21]])"
      ]
     },
     "execution_count": 68,
     "metadata": {},
     "output_type": "execute_result"
    }
   ],
   "source": [
    "np.sort(s,axis=1) #ordenando por fila"
   ]
  },
  {
   "cell_type": "code",
   "execution_count": 69,
   "metadata": {},
   "outputs": [
    {
     "name": "stdout",
     "output_type": "stream",
     "text": [
      "[0, 1, 4, 9, 16, 25, 36, 49, 64, 81, 100, 121]\n"
     ]
    }
   ],
   "source": [
    "lista=[numero**2 for numero in range(0,12)]\n",
    "print(lista)"
   ]
  },
  {
   "cell_type": "code",
   "execution_count": 70,
   "metadata": {},
   "outputs": [
    {
     "name": "stdout",
     "output_type": "stream",
     "text": [
      "[100 200 300 400 500 600 700 800 900]\n"
     ]
    }
   ],
   "source": [
    "b=np.arange(100,1000,100)\n",
    "print(b)"
   ]
  },
  {
   "cell_type": "markdown",
   "metadata": {},
   "source": [
    "\n",
    "\n",
    "| Caracter | Descripcion | Ejemplo |\n",
    "| :---: | :--- | ---: |\n",
    "| 'b' | Byte | np.dtype('b') |\n",
    "| 'i' | Entero con signo | np.dtype('i4')==np.int32 |\n",
    "|'u' | Entero sin signo | np.dtype('u1')==np.uint8 |\n",
    "| 'f' | Punto flotante | np.dtype('f8')==np.int64 |\n",
    "| 'c | complejo punto flotante | np.dtype('c16')==np.complex128 |\n",
    "| 'S','a' | cadena | np.dtype('S5') |\n"
   ]
  },
  {
   "cell_type": "code",
   "execution_count": 71,
   "metadata": {},
   "outputs": [
    {
     "name": "stdout",
     "output_type": "stream",
     "text": [
      "[0 0 0 0]\n"
     ]
    }
   ],
   "source": [
    "name = ['Alice', 'Bob', 'Cathy', 'Doug']\n",
    "age1 = [25,45,37,19]\n",
    "weight=[55.0,85.5,68.0,61.5]\n",
    "n1=np.zeros(4,dtype=int)\n",
    "print(n1)"
   ]
  },
  {
   "cell_type": "code",
   "execution_count": 74,
   "metadata": {},
   "outputs": [
    {
     "name": "stdout",
     "output_type": "stream",
     "text": [
      "[('', 0, 0.) ('', 0, 0.) ('', 0, 0.) ('', 0, 0.)]\n"
     ]
    }
   ],
   "source": [
    "data=np.zeros(4,dtype={'names':('name','age','weight'),'formats':('U10','i4','f8')})\n",
    "print(data)"
   ]
  },
  {
   "cell_type": "code",
   "execution_count": 75,
   "metadata": {},
   "outputs": [
    {
     "name": "stdout",
     "output_type": "stream",
     "text": [
      "[('name', '<U10'), ('age', '<i4'), ('weight', '<f8')]\n"
     ]
    }
   ],
   "source": [
    "print(data.dtype)"
   ]
  },
  {
   "cell_type": "code",
   "execution_count": 76,
   "metadata": {},
   "outputs": [
    {
     "name": "stdout",
     "output_type": "stream",
     "text": [
      "[('Alice', 25, 55. ) ('Bob', 45, 85.5) ('Cathy', 37, 68. )\n",
      " ('Doug', 19, 61.5)]\n"
     ]
    }
   ],
   "source": [
    "data[\"name\"]=name\n",
    "data[\"age\"]=age1\n",
    "data[\"weight\"]=weight\n",
    "print(data)"
   ]
  },
  {
   "cell_type": "code",
   "execution_count": 78,
   "metadata": {},
   "outputs": [
    {
     "name": "stdout",
     "output_type": "stream",
     "text": [
      "['Alice' 'Bob' 'Cathy' 'Doug']\n"
     ]
    }
   ],
   "source": [
    "print(data[\"name\"])"
   ]
  },
  {
   "cell_type": "code",
   "execution_count": 79,
   "metadata": {},
   "outputs": [
    {
     "name": "stdout",
     "output_type": "stream",
     "text": [
      "('Alice', 25, 55.)\n"
     ]
    }
   ],
   "source": [
    "print(data[0])"
   ]
  },
  {
   "cell_type": "code",
   "execution_count": 80,
   "metadata": {},
   "outputs": [
    {
     "name": "stdout",
     "output_type": "stream",
     "text": [
      "Doug\n"
     ]
    }
   ],
   "source": [
    "print(data[-1]['name'])"
   ]
  },
  {
   "cell_type": "code",
   "execution_count": null,
   "metadata": {},
   "outputs": [],
   "source": []
  }
 ],
 "metadata": {
  "kernelspec": {
   "display_name": "Python 3 (ipykernel)",
   "language": "python",
   "name": "python3"
  },
  "language_info": {
   "codemirror_mode": {
    "name": "ipython",
    "version": 3
   },
   "file_extension": ".py",
   "mimetype": "text/x-python",
   "name": "python",
   "nbconvert_exporter": "python",
   "pygments_lexer": "ipython3",
   "version": "3.9.7"
  }
 },
 "nbformat": 4,
 "nbformat_minor": 2
}
