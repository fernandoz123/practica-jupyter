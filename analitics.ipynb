{
 "cells": [
  {
   "cell_type": "code",
   "execution_count": null,
   "id": "79f284db",
   "metadata": {},
   "outputs": [],
   "source": []
  },
  {
   "cell_type": "markdown",
   "id": "950708e9",
   "metadata": {},
   "source": [
    "# SUMA DE NUMEROS"
   ]
  },
  {
   "cell_type": "code",
   "execution_count": 4,
   "id": "6d22b321",
   "metadata": {},
   "outputs": [],
   "source": [
    "a=7\n",
    "b=6\n",
    "c=a+b"
   ]
  },
  {
   "cell_type": "code",
   "execution_count": 5,
   "id": "054b6289",
   "metadata": {},
   "outputs": [
    {
     "name": "stdout",
     "output_type": "stream",
     "text": [
      "13\n"
     ]
    }
   ],
   "source": [
    "print(c)"
   ]
  },
  {
   "cell_type": "markdown",
   "id": "89c8d1fc",
   "metadata": {},
   "source": [
    "# Detector de numeros pares"
   ]
  },
  {
   "cell_type": "code",
   "execution_count": 24,
   "id": "e5c30004",
   "metadata": {},
   "outputs": [],
   "source": [
    "def EsnumeroPar(numero):\n",
    "    if(numero % 2 ==0):\n",
    "        return True\n",
    "    else:\n",
    "        return False"
   ]
  },
  {
   "cell_type": "code",
   "execution_count": 25,
   "id": "046157e9",
   "metadata": {},
   "outputs": [
    {
     "name": "stdout",
     "output_type": "stream",
     "text": [
      "False True\n"
     ]
    }
   ],
   "source": [
    "print(EsnumeroPar(15),EsnumeroPar(20))"
   ]
  },
  {
   "cell_type": "markdown",
   "id": "81dc37f9",
   "metadata": {},
   "source": [
    "   # Hola mundo"
   ]
  },
  {
   "cell_type": "code",
   "execution_count": 2,
   "id": "8de54da8",
   "metadata": {},
   "outputs": [
    {
     "name": "stdout",
     "output_type": "stream",
     "text": [
      "hola mundo\n"
     ]
    }
   ],
   "source": [
    "world=\"mundo\"\n",
    "print(\"hola\",world)"
   ]
  },
  {
   "cell_type": "markdown",
   "id": "a9344026",
   "metadata": {},
   "source": [
    "# tipos de datos simples\n",
    "\n",
    "1. Numeros: secuencia de digitos, puede incluir negativos y decimales (0, -1, 3.1415)\n",
    "2. Cadenas: Secuencia de caracteres alfanumericos que representan texto se escribe con comillas simples o dobles (\"hola\", 'adios')\n",
    "3. Booleano: Contiene unicamente dos elementos True o False \n",
    "\n",
    "Estos datos son immutables, es decir, su valor es constante no puede cambiar.\n",
    "\n",
    "# Ejemplos\n",
    "\n"
   ]
  },
  {
   "cell_type": "code",
   "execution_count": 5,
   "id": "50e027bb",
   "metadata": {},
   "outputs": [
    {
     "name": "stdout",
     "output_type": "stream",
     "text": [
      "Fernando Zamora\n"
     ]
    }
   ],
   "source": [
    "name=\"Fernando\"\n",
    "last_name='Zamora'\n",
    "print(name,last_name)"
   ]
  },
  {
   "cell_type": "markdown",
   "id": "af7c57c0",
   "metadata": {},
   "source": [
    "# Tipos de datos compuestos (contenedores)\n",
    "\n",
    "1. Listas(lists): Colecciones de objetos que representan secuencias ordenadas de objetos de distintos tipos se representan con corchetes y los elementos se separan con comas.\n",
    "2. Tuplas(tuples): Colecciones de objetos que representan secuencias ordenadas de objetos de distintos tipos. A diferencia de las listas son inmutables, es decir, que no cambian durante la ejecución. Se representan mediante paréntesis y los elementos se separan por comas.\n",
    "3. Diccionarios(Dictionaries): Colecciones de objetos con una clave asociada. Se representan con llaves,los pares separados por comas y cada par contiene una clave y un objeto asociado separados por dos puntos.\n",
    "\n",
    "## Ejemplos"
   ]
  },
  {
   "cell_type": "code",
   "execution_count": 6,
   "id": "93f4bb54",
   "metadata": {},
   "outputs": [],
   "source": [
    "lista1=[1,[3,4],True]"
   ]
  },
  {
   "cell_type": "code",
   "execution_count": 7,
   "id": "4c331b3a",
   "metadata": {},
   "outputs": [
    {
     "name": "stdout",
     "output_type": "stream",
     "text": [
      "[1, [3, 4], True]\n"
     ]
    }
   ],
   "source": [
    "print(lista1)"
   ]
  },
  {
   "cell_type": "code",
   "execution_count": 9,
   "id": "1a54c726",
   "metadata": {},
   "outputs": [
    {
     "data": {
      "text/plain": [
       "25"
      ]
     },
     "execution_count": 9,
     "metadata": {},
     "output_type": "execute_result"
    }
   ],
   "source": [
    "(2+3)**2"
   ]
  },
  {
   "cell_type": "code",
   "execution_count": 10,
   "id": "9a3559bf",
   "metadata": {},
   "outputs": [
    {
     "data": {
      "text/plain": [
       "-10"
      ]
     },
     "execution_count": 10,
     "metadata": {},
     "output_type": "execute_result"
    }
   ],
   "source": [
    "5*-2"
   ]
  },
  {
   "cell_type": "code",
   "execution_count": 13,
   "id": "f49cc77c",
   "metadata": {},
   "outputs": [
    {
     "data": {
      "text/plain": [
       "2"
      ]
     },
     "execution_count": 13,
     "metadata": {},
     "output_type": "execute_result"
    }
   ],
   "source": [
    "11//5"
   ]
  },
  {
   "cell_type": "markdown",
   "id": "2d5586ed",
   "metadata": {},
   "source": [
    "# Detector de numeros primos\n",
    "\n",
    "1. Ingresar un numero\n",
    "2. Identificar si es primo o no.\n",
    "3. Mostrar en consola"
   ]
  },
  {
   "cell_type": "markdown",
   "id": "cd75985c",
   "metadata": {},
   "source": [
    "# Funcion que detecta si un numero es primo"
   ]
  },
  {
   "cell_type": "code",
   "execution_count": 36,
   "id": "bad37ba4",
   "metadata": {},
   "outputs": [],
   "source": [
    "def Esprimo(num):\n",
    "    cont=0\n",
    "    for i in range(1,num+1):\n",
    "        if(num % i ==0):\n",
    "            cont=cont+1\n",
    "    if(cont==2):\n",
    "        return True\n",
    "    else:\n",
    "        return False\n",
    "        "
   ]
  },
  {
   "cell_type": "code",
   "execution_count": 37,
   "id": "434f0643",
   "metadata": {
    "scrolled": true
   },
   "outputs": [
    {
     "name": "stdout",
     "output_type": "stream",
     "text": [
      "True\n"
     ]
    }
   ],
   "source": [
    "print(Esprimo(2))"
   ]
  },
  {
   "cell_type": "markdown",
   "id": "4ac5d048",
   "metadata": {},
   "source": [
    "# Listar numeros primos menores iguales a n"
   ]
  },
  {
   "cell_type": "code",
   "execution_count": 40,
   "id": "77b0a1ae",
   "metadata": {
    "scrolled": false
   },
   "outputs": [
    {
     "name": "stdout",
     "output_type": "stream",
     "text": [
      "Ingrese un numero : 100\n",
      "[2, 3, 5, 7, 11, 13, 17, 19, 23, 29, 31, 37, 41, 43, 47, 53, 59, 61, 67, 71, 73, 79, 83, 89, 97]\n"
     ]
    }
   ],
   "source": [
    "n=int(input(\"Ingrese un numero : \"))\n",
    "a=[]\n",
    "for i in range(2,n+1):\n",
    "    if(Esprimo(i)==True):\n",
    "        a.append(i)\n",
    "print(a)        "
   ]
  },
  {
   "cell_type": "markdown",
   "id": "5cee52a0",
   "metadata": {},
   "source": [
    "Escribir un programa que almacene la cadena ¡Hola Mundo! en una variable y luego muestre por pantalla el contenido de la variable."
   ]
  },
  {
   "cell_type": "code",
   "execution_count": 42,
   "id": "197b4fe6",
   "metadata": {},
   "outputs": [
    {
     "name": "stdout",
     "output_type": "stream",
     "text": [
      "¡Hola Mundo!\n"
     ]
    }
   ],
   "source": [
    "string=\"¡Hola Mundo!\"\n",
    "print(string)\n"
   ]
  },
  {
   "cell_type": "markdown",
   "id": "631b5a53",
   "metadata": {},
   "source": [
    "Escribir un programa que pregunte el nombre del usuario en la consola y después de que el usuario lo introduzca muestre por pantalla la cadena ¡Hola nombre!, donde nombre es el nombre que el usuario haya introducido"
   ]
  },
  {
   "cell_type": "code",
   "execution_count": 44,
   "id": "73beb44f",
   "metadata": {},
   "outputs": [
    {
     "name": "stdout",
     "output_type": "stream",
     "text": [
      "Ingrese su nombre de usuario = Fernando Zamora\n",
      "¡Hola Fernando Zamora!\n"
     ]
    }
   ],
   "source": [
    "user=str(input(\"Ingrese su nombre de usuario = \"))\n",
    "print(\"¡Hola\",user+\"!\")"
   ]
  },
  {
   "cell_type": "code",
   "execution_count": 50,
   "id": "4633c2fd",
   "metadata": {},
   "outputs": [
    {
     "name": "stdout",
     "output_type": "stream",
     "text": [
      "0.25\n"
     ]
    }
   ],
   "source": [
    "m=(3+2)/(2*5)\n",
    "print(m**2)"
   ]
  },
  {
   "cell_type": "markdown",
   "id": "c22589f9",
   "metadata": {},
   "source": [
    "Escribir un programa que pregunte al usuario por el número de horas trabajadas y el coste por hora. Después debe mostrar por pantalla la paga que le corresponde."
   ]
  },
  {
   "cell_type": "code",
   "execution_count": 53,
   "id": "a22147c8",
   "metadata": {},
   "outputs": [
    {
     "name": "stdout",
     "output_type": "stream",
     "text": [
      "Ingrese numero de horas trabajadas = 8.4\n",
      "Ingrese costo por hora = 12.4\n",
      "tu paga es :  104.16\n"
     ]
    }
   ],
   "source": [
    "hr_trb=float(input(\"Ingrese numero de horas trabajadas = \"))\n",
    "costxhr=float(input(\"Ingrese costo por hora = \"))\n",
    "pago= hr_trb*costxhr\n",
    "print(\"tu paga es : \",round(pago,2))"
   ]
  },
  {
   "cell_type": "markdown",
   "id": "416f06ee",
   "metadata": {},
   "source": [
    "Escribir un programa que lea un entero positivo,n , introducido por el usuario y después muestre en pantalla la suma de todos los enteros desde 1 hasta n. La suma de los n primeros enteros positivos puede ser calculada de la siguiente forma:\n",
    "n*(n+1)/2"
   ]
  },
  {
   "cell_type": "code",
   "execution_count": 56,
   "id": "314418d1",
   "metadata": {},
   "outputs": [
    {
     "name": "stdout",
     "output_type": "stream",
     "text": [
      "Ingrese un numero positivo = 30\n",
      "la suma es =  465\n"
     ]
    }
   ],
   "source": [
    "s=int(input(\"Ingrese un numero positivo = \"))\n",
    "m=0\n",
    "for i in range(1,s+1):\n",
    "    m=m+i\n",
    "print(\"la suma es = \",m)    "
   ]
  },
  {
   "cell_type": "code",
   "execution_count": 19,
   "id": "4014cbfd",
   "metadata": {},
   "outputs": [
    {
     "name": "stdout",
     "output_type": "stream",
     "text": [
      "Ingrese su peso = 69\n",
      "Ingrese su altura = 1.7\n",
      "Tu indice de masa corporal es  23.88\n",
      "Estado: Normal\n"
     ]
    }
   ],
   "source": [
    "weight=float(input(\"Ingrese su peso = \"))\n",
    "height=float(input(\"Ingrese su altura = \"))\n",
    "imc=round(weight/pow(height,2),2)\n",
    "print(\"Tu indice de masa corporal es \",imc)\n",
    "if imc<18.5 :\n",
    "    print(\"Estado: Bajo peso\")\n",
    "elif imc<=24.99 :\n",
    "    print(\"Estado: Normal\")\n",
    "elif imc<=29.99 :\n",
    "    print(\"Estado: Sobrepeso\")\n",
    "elif imc<=34.99 :\n",
    "    print(\"Estado: Obesidad leve\")\n",
    "elif imc<=39.99:\n",
    "    print(\"Estado: Obesidad media\")\n",
    "else:\n",
    "    print(\"Estado: Obesidad Morbidad\")\n",
    "\n"
   ]
  },
  {
   "cell_type": "code",
   "execution_count": 64,
   "id": "cadb2ea1",
   "metadata": {},
   "outputs": [
    {
     "name": "stdout",
     "output_type": "stream",
     "text": [
      "Ingrese un numero = 12\n",
      "Ingrese otro numero = 25\n",
      "El cociente de la division es 0\n",
      "El residuo de la division es 12\n"
     ]
    }
   ],
   "source": [
    "a=int(input(\"Ingrese un numero = \"))\n",
    "b=int(input(\"Ingrese otro numero = \"))\n",
    "c=a//b\n",
    "r=a%b\n",
    "\n",
    "print(\"El cociente de la division es\",c)\n",
    "print(\"El residuo de la division es\",r)"
   ]
  },
  {
   "cell_type": "markdown",
   "id": "a25564dc",
   "metadata": {},
   "source": [
    "Escribir un programa que pregunte al usuario una cantidad a invertir, el interés anual y el número de años, y muestre por pantalla el capital obtenido en la inversión.\n",
    "\n",
    "\n"
   ]
  },
  {
   "cell_type": "code",
   "execution_count": 70,
   "id": "0b1607f7",
   "metadata": {},
   "outputs": [
    {
     "name": "stdout",
     "output_type": "stream",
     "text": [
      "Ingrese cantidad a invertir = 20000.45\n",
      "Ingrese numero de años = 3.5\n",
      "El capital obtenido de la inversion es 4200.09\n",
      "El capital obtenido de la inversion es 4524.62\n"
     ]
    }
   ],
   "source": [
    "cant=float(input(\"Ingrese cantidad a invertir = \"))\n",
    "number_year=float(input(\"Ingrese numero de años = \"))\n",
    "tasa_anual=0.06\n",
    "\n",
    "interes_simple=round(cant*tasa_anual*number_year,2)\n",
    "interes_comp=round(cant*pow(1+tasa_anual,number_year)-cant,2)\n",
    "print(\"El capital obtenido de la inversion es\",interes)\n",
    "print(\"El capital obtenido de la inversion es\",interes_comp)\n"
   ]
  },
  {
   "cell_type": "code",
   "execution_count": 1,
   "id": "7669faa4",
   "metadata": {},
   "outputs": [
    {
     "name": "stdout",
     "output_type": "stream",
     "text": [
      "(1, 'vas a caer', 3.5)\n"
     ]
    }
   ],
   "source": [
    "tupla=(1,\"vas a caer\",3.5)\n",
    "print(tupla)"
   ]
  },
  {
   "cell_type": "code",
   "execution_count": null,
   "id": "d388fcc0",
   "metadata": {},
   "outputs": [],
   "source": [
    "edad=24\n",
    "print(edad)\n",
    "edad=\"veinticuatro\"\n",
    "print(edad)"
   ]
  },
  {
   "cell_type": "code",
   "execution_count": 14,
   "id": "6d57192e",
   "metadata": {},
   "outputs": [
    {
     "name": "stdout",
     "output_type": "stream",
     "text": [
      "Ingrese cantidad a donar = 30492\n",
      "7623.0 2049.06 10672.2 5122.66 5025.08\n"
     ]
    }
   ],
   "source": [
    "donacion=input(\"Ingrese cantidad a donar = \")\n",
    "r=float(donacion)\n",
    "r1= 0.25*r\n",
    "r3= 0.35*r\n",
    "r4= 0.28*(r1+r3)\n",
    "r2= 0.4*r4\n",
    "\n",
    "r5= r-r1-r2-r3-r4\n",
    "print(round(r1,2),round(r2,2),round(r3,2),round(r4,2),round(r5,2))"
   ]
  },
  {
   "cell_type": "code",
   "execution_count": 15,
   "id": "e5e45a87",
   "metadata": {},
   "outputs": [
    {
     "name": "stdout",
     "output_type": "stream",
     "text": [
      "Ingrese la base = 15.4\n",
      "Ingrese la altura = 5.3\n",
      "El perimetro del rectangulo es: 41.4\n",
      "El area del rectangulo es: 81.62\n"
     ]
    }
   ],
   "source": [
    "base=input(\"Ingrese la base = \")\n",
    "altura=input(\"Ingrese la altura = \")\n",
    "b=float(base)\n",
    "h=float(altura)\n",
    "perimetro=(b+h)*2\n",
    "area=b*h\n",
    "print(\"El perimetro del rectangulo es:\",perimetro)\n",
    "print(\"El area del rectangulo es:\",area)\n"
   ]
  },
  {
   "cell_type": "code",
   "execution_count": 16,
   "id": "75de2a80",
   "metadata": {},
   "outputs": [
    {
     "name": "stdout",
     "output_type": "stream",
     "text": [
      "Ingresar cateto opuesto = 3\n",
      "Ingrese longitud cateto adyacente = 4\n",
      "La longitud de la hipotenusa es = 5.0\n"
     ]
    }
   ],
   "source": [
    "cat1=input(\"Ingresar cateto opuesto = \")\n",
    "cat2=input(\"Ingrese longitud cateto adyacente = \")\n",
    "m=float(cat1)\n",
    "n=float(cat2)\n",
    "hipotenusa= (pow(m,2)+pow(n,2))**(1/2)\n",
    "print(\"La longitud de la hipotenusa es =\",hipotenusa)"
   ]
  },
  {
   "cell_type": "markdown",
   "id": "d6fea609",
   "metadata": {},
   "source": [
    "Escribir un programa que convierta un valor dado en grados Fahrenheit a grados Celsius. Hay que recordar que la fórmula para la conversión es: C = (F-32)*5/9\n"
   ]
  },
  {
   "cell_type": "code",
   "execution_count": 7,
   "id": "683a8507",
   "metadata": {},
   "outputs": [
    {
     "name": "stdout",
     "output_type": "stream",
     "text": [
      "Ingrese el valor en farenheit = 250\n",
      "Ingrese otro numero debe estrar entre -459.67 y 212\n",
      "Ingrese el valor en farenheit = 230\n",
      "Ingrese otro numero debe estrar entre -459.67 y 212\n",
      "Ingrese el valor en farenheit = 240\n",
      "Ingrese otro numero debe estrar entre -459.67 y 212\n",
      "Ingrese el valor en farenheit = 300\n",
      "Ingrese otro numero debe estrar entre -459.67 y 212\n",
      "Ingrese el valor en farenheit = 210\n",
      "El numero en grado celsius es: 98.89\n"
     ]
    }
   ],
   "source": [
    "farentheit= input(\"Ingrese el valor en farenheit = \")\n",
    "f=float(farentheit)\n",
    "while (f<-459.67 or f>212):\n",
    "    print(\"Ingrese otro numero debe estrar entre -459.67 y 212\")\n",
    "    farentheit= input(\"Ingrese el valor en farenheit = \")\n",
    "    f=float(farentheit)\n",
    "    if(f>=-459.67 and f<=212):\n",
    "        c=round((f-32)*5/9,2)\n",
    "    else:\n",
    "        continue\n",
    "\n",
    "print(\"El numero en grado celsius es:\",c)    \n",
    "    \n"
   ]
  },
  {
   "cell_type": "markdown",
   "id": "51e75089",
   "metadata": {},
   "source": [
    "Calcular la media de tres números enteros."
   ]
  },
  {
   "cell_type": "code",
   "execution_count": null,
   "id": "8312f1ea",
   "metadata": {},
   "outputs": [],
   "source": [
    "a=float(input(\"Ingrese primer numero = \"))\n",
    "b=float(input(\"Ingrese segundo numero = \"))\n",
    "c=float(input(\"Ingrese tercer numero = \"))\n",
    "suma=a+b+c\n",
    "prom=suma/3\n",
    "print(\"La media de los tres numeros es =\",prom)"
   ]
  },
  {
   "cell_type": "markdown",
   "id": "7d9c453e",
   "metadata": {},
   "source": [
    "Realiza un programa que reciba una cantidad de minutos y muestre por pantalla a cuantas horas y minutos corresponde. Por ejemplo: 1250 minutos son 20 horas y 50 minutos."
   ]
  },
  {
   "cell_type": "code",
   "execution_count": 1,
   "id": "8b78a6b3",
   "metadata": {},
   "outputs": [
    {
     "name": "stdout",
     "output_type": "stream",
     "text": [
      "Ingrese cantidad de minutos = 1250\n",
      "1250 minutos son = 20 horas y 50 minutos\n"
     ]
    }
   ],
   "source": [
    "minuto=input(\"Ingrese cantidad de minutos = \")\n",
    "m=int(minuto)\n",
    "a=m//60\n",
    "b=m%60\n",
    "print(m,\"minutos son =\",a,\"horas\",\"y\",b,\"minutos\")"
   ]
  },
  {
   "cell_type": "markdown",
   "id": "c0abeb0c",
   "metadata": {},
   "source": [
    "Un vendedor recibe un sueldo base más un 15% extra por comisión de sus ventas, el vendedor desea saber cuánto dinero obtendrá por concepto de comisiones por las tres ventas que realiza en el mes y el total que recibirá en el mes tomando en cuenta su sueldo base y comisiones."
   ]
  },
  {
   "cell_type": "code",
   "execution_count": 21,
   "id": "99911409",
   "metadata": {},
   "outputs": [
    {
     "name": "stdout",
     "output_type": "stream",
     "text": [
      "Ingrese sueldo base = 1500\n",
      "Ingrese venta1 = 350\n",
      "Ingrese venta2 = 250\n",
      "Ingrese venta3 = 120\n",
      "El sueldo total a recibir es 1608.0\n"
     ]
    }
   ],
   "source": [
    "sueldo_base=float(input(\"Ingrese sueldo base = \"))\n",
    "v1=float(input(\"Ingrese venta1 = \"))\n",
    "v2=float(input(\"Ingrese venta2 = \"))\n",
    "v3=float(input(\"Ingrese venta3 = \"))\n",
    "sueldo_total=sueldo_base+(v1+v2+v3)*0.15\n",
    "print(f\"El sueldo total a recibir es {sueldo_total}\")"
   ]
  },
  {
   "cell_type": "markdown",
   "id": "7fc1635f",
   "metadata": {},
   "source": [
    "Una tienda ofrece un descuento del 10% sobre el total de la compra y un cliente desea saber cuánto deberá pagar finalmente por su compra."
   ]
  },
  {
   "cell_type": "code",
   "execution_count": null,
   "id": "e988d801",
   "metadata": {},
   "outputs": [],
   "source": []
  },
  {
   "cell_type": "markdown",
   "id": "339bef0c",
   "metadata": {},
   "source": [
    "Un alumno desea saber cuál será su calificación final en el curso de INTRODUCCION A LA COMPUTACION. La calificación se compone de los siguientes porcentajes:\n",
    "\n",
    "1. 20% del promedio de 3 practicas.\n",
    "2. 30% de la calificación del examen parcial.\n",
    "3. 50% de la calificación del examen final."
   ]
  },
  {
   "cell_type": "code",
   "execution_count": 11,
   "id": "9e06235c",
   "metadata": {},
   "outputs": [
    {
     "name": "stdout",
     "output_type": "stream",
     "text": [
      "La calificacion final es : 11.67\n"
     ]
    }
   ],
   "source": [
    "calificacion=[12,13,14,15,11]\n",
    "p=0\n",
    "for i in range(0,2):\n",
    "    p=p+calificacion[i]\n",
    "final=0.2*p/3+0.3*calificacion[3]+0.5*calificacion[4]\n",
    "print(\"La calificacion final es :\",round(final,2))"
   ]
  },
  {
   "cell_type": "markdown",
   "id": "9a217b4c",
   "metadata": {},
   "source": [
    "Ingrese dos números y muestra la “distancia” entre ellos (el valor absoluto de su diferencia, de modo que el resultado sea siempre positivo)."
   ]
  },
  {
   "cell_type": "code",
   "execution_count": 12,
   "id": "cce2dcd1",
   "metadata": {},
   "outputs": [
    {
     "name": "stdout",
     "output_type": "stream",
     "text": [
      "Ingrese numero = 15\n",
      "Ingrese numero = 12\n",
      "3.0\n"
     ]
    }
   ],
   "source": [
    "a=float(input(\"Ingrese numero = \"))\n",
    "b=float(input(\"Ingrese numero = \"))\n",
    "print(abs(a-b))\n"
   ]
  },
  {
   "cell_type": "markdown",
   "id": "95944640",
   "metadata": {},
   "source": [
    "Ingrese dos pares de números x1, y2 y x2,y2, que representen dos puntos en el plano. Calcula y muestra la distancia entre ellos."
   ]
  },
  {
   "cell_type": "code",
   "execution_count": 14,
   "id": "8d433c65",
   "metadata": {},
   "outputs": [
    {
     "name": "stdout",
     "output_type": "stream",
     "text": [
      "\t primer par \n",
      "Ingrese abciza = 3\n",
      "Ingrese ordenada = 4\n",
      "\t segundo par \n",
      "Ingrese abciza = -1\n",
      "Ingrese ordenada = -2\n",
      "La distancia entre dos puntos es = 7.21\n"
     ]
    }
   ],
   "source": [
    "print(\"\\t primer par \")\n",
    "x1=float(input(\"Ingrese abciza = \"))\n",
    "y1=float(input(\"Ingrese ordenada = \"))\n",
    "print(\"\\t segundo par \")\n",
    "x2=float(input(\"Ingrese abciza = \"))\n",
    "y2=float(input(\"Ingrese ordenada = \"))\n",
    "d=(pow(x1-x2,2)+pow(y1-y2,2))**(1/2)\n",
    "print(\"La distancia entre dos puntos es =\",round(d,2))"
   ]
  },
  {
   "cell_type": "markdown",
   "id": "7edd3f87",
   "metadata": {},
   "source": [
    "Realizar un programa que lea un número entero y luego visualice la suma de las cifras que lo componen."
   ]
  },
  {
   "cell_type": "code",
   "execution_count": 4,
   "id": "3b9fea53",
   "metadata": {},
   "outputs": [
    {
     "name": "stdout",
     "output_type": "stream",
     "text": [
      "Ingrese numero = 2469\n",
      "El numero es 2469\n",
      "La suma de cifra es = 21\n"
     ]
    }
   ],
   "source": [
    "number= int(input(\"Ingrese numero = \"))\n",
    "aux=number\n",
    "suma=0\n",
    "while(aux!=0):\n",
    "    r=aux%10\n",
    "    suma+=r\n",
    "    aux=aux//10\n",
    "print(\"El numero es\",number)\n",
    "print(\"La suma de cifra es =\",suma)"
   ]
  },
  {
   "cell_type": "markdown",
   "id": "fed85f47",
   "metadata": {},
   "source": [
    "Dado un número de dos cifras, diseñe un programa que permita obtener el número invertido. Ejemplo, si se introduce 78 que muestre 87."
   ]
  },
  {
   "cell_type": "code",
   "execution_count": 7,
   "id": "2dc4b333",
   "metadata": {},
   "outputs": [
    {
     "name": "stdout",
     "output_type": "stream",
     "text": [
      "ingrese numero de dos cifras = 78\n",
      "El numero invertido es = 87\n"
     ]
    }
   ],
   "source": [
    "a=int(input(\"ingrese numero de dos cifras = \")) \n",
    "mod=a%10\n",
    "div=a//10\n",
    "inv= mod*10+div\n",
    "print(\"El numero invertido es =\",inv)"
   ]
  },
  {
   "cell_type": "markdown",
   "id": "581aeaa0",
   "metadata": {},
   "source": [
    "Dadas dos variables numéricas A y B, se pide realizar un programa que intercambie los valores de ambas variables y luego los visualice."
   ]
  },
  {
   "cell_type": "code",
   "execution_count": 9,
   "id": "35bd9dde",
   "metadata": {},
   "outputs": [
    {
     "name": "stdout",
     "output_type": "stream",
     "text": [
      "Ingrese primer numero = 34\n",
      "Ingrese segundo numero = 56\n",
      "el primer numero es = 56\n",
      "El segundo numero es = 34\n"
     ]
    }
   ],
   "source": [
    "s= int(input(\"Ingrese primer numero = \"))\n",
    "t= int(input(\"Ingrese segundo numero = \"))\n",
    "s,t=t,s\n",
    "print(\"el primer numero es =\",s)\n",
    "print(\"El segundo numero es =\",t)"
   ]
  },
  {
   "cell_type": "markdown",
   "id": "21f3aaae",
   "metadata": {},
   "source": [
    "Dos vehículos viajan a diferentes velocidades (v1 y v2) y están distanciados por una distancia d. El que está detrás viaja a una velocidad mayor. Se pide hacer un programa para ingresar la distancia entre los dos vehículos (km) y sus respectivas velocidades (km/h) y con esto determinar y mostrar en que tiempo (minutos) alcanzará el vehículo más rápido al otro."
   ]
  },
  {
   "attachments": {
    "tiempo-de-alcance2.jpg": {
     "image/jpeg": "[encoded data removed]"
    }
   },
   "cell_type": "markdown",
   "id": "410c3039",
   "metadata": {},
   "source": [
    "![tiempo-de-alcance2.jpg](attachment:tiempo-de-alcance2.jpg)"
   ]
  },
  {
   "cell_type": "code",
   "execution_count": 16,
   "id": "b5808b3b",
   "metadata": {},
   "outputs": [
    {
     "name": "stdout",
     "output_type": "stream",
     "text": [
      "Ingrese distancia = 0.4\n",
      "Ingrese velocidad1 = 18\n",
      "Ingrese velocidad2 = 6\n",
      "El tiempo en el que vehiculo1 alcanza al vehiculo2 es 120.0 segundos\n"
     ]
    }
   ],
   "source": [
    "x=float(input(\"Ingrese distancia = \"))\n",
    "y=float(input(\"Ingrese velocidad1 = \"))\n",
    "z=float(input(\"Ingrese velocidad2 = \"))\n",
    "\n",
    "ta= x/(y-z) #tiempo en horas\n",
    "\n",
    "print(f\"El tiempo en el que vehiculo1 alcanza al vehiculo2 es {round(ta*3600,3)} segundos\")"
   ]
  },
  {
   "cell_type": "markdown",
   "id": "88e928e5",
   "metadata": {},
   "source": [
    "Un ciclista parte de una ciudad A a las HH horas, MM minutos y SS segundos. El tiempo de viaje hasta llegar a otra ciudad B es de T segundos. Escribir un programa que determine la hora de llegada a la ciudad B."
   ]
  },
  {
   "cell_type": "code",
   "execution_count": null,
   "id": "857f1177",
   "metadata": {},
   "outputs": [],
   "source": []
  },
  {
   "cell_type": "markdown",
   "id": "1966d344",
   "metadata": {},
   "source": [
    "Ingrese un número entero de 3 cifras y luego visualice la suma de las cifras extremas y el cuadrado del la cifra del medio."
   ]
  },
  {
   "cell_type": "code",
   "execution_count": 24,
   "id": "e8e3b21f",
   "metadata": {},
   "outputs": [
    {
     "name": "stdout",
     "output_type": "stream",
     "text": [
      "Ingrese un numero de tres cifras = 258\n",
      "las cifras son 8 5 2 y el resultado es = 35\n"
     ]
    }
   ],
   "source": [
    "cifras=int(input(\"Ingrese un numero de tres cifras = \"))\n",
    "c1=cifras%10\n",
    "c2=(cifras//10)%10\n",
    "c3=(cifras//10)//10\n",
    "\n",
    "num=c1+c2**2+c3\n",
    "print(f\"las cifras son {c1} {c2} {c3} y el resultado es =\",num)"
   ]
  },
  {
   "cell_type": "markdown",
   "id": "8c0a9a4e",
   "metadata": {},
   "source": [
    "Calcular el número de pulsaciones que una persona deben tener por cada 10 segundos de ejercicio. si la formula es: num_pulsaciones = (220-edad)/10"
   ]
  },
  {
   "cell_type": "code",
   "execution_count": 25,
   "id": "2a05e6d5",
   "metadata": {},
   "outputs": [
    {
     "name": "stdout",
     "output_type": "stream",
     "text": [
      "Ingrese edad de la persona = 23\n",
      "El numero de pulsaciones es = 19.7\n"
     ]
    }
   ],
   "source": [
    "age=int(input(\"Ingrese edad de la persona = \"))\n",
    "pul=(220-age)/10\n",
    "print(\"El numero de pulsaciones es =\",pul)"
   ]
  },
  {
   "cell_type": "markdown",
   "id": "48a9e059",
   "metadata": {},
   "source": [
    "Diseñar un programa que nos diga el dinero que tenemos (en billetes y monedas circulantes) después de ingresar un monto entero. "
   ]
  },
  {
   "cell_type": "code",
   "execution_count": null,
   "id": "b0dfee25",
   "metadata": {},
   "outputs": [],
   "source": [
    "money=int(input(\"Ingrese dinero = \"))\n",
    "if(money>=200):\n",
    "    m200=money//200\n",
    "    r=money%200\n",
    "    if(m200)\n",
    "elif\n",
    "    \n",
    "    "
   ]
  },
  {
   "cell_type": "code",
   "execution_count": null,
   "id": "770b0e80",
   "metadata": {},
   "outputs": [],
   "source": []
  },
  {
   "cell_type": "code",
   "execution_count": 14,
   "id": "e1b0d47c",
   "metadata": {},
   "outputs": [
    {
     "name": "stdout",
     "output_type": "stream",
     "text": [
      "10, 11, 12, 13, 14, "
     ]
    }
   ],
   "source": [
    "for i in range(10,15,1):\n",
    "    print(i, end=', ')"
   ]
  },
  {
   "cell_type": "code",
   "execution_count": 11,
   "id": "4983eaf7",
   "metadata": {},
   "outputs": [
    {
     "data": {
      "text/plain": [
       "[1, 'programacion', 'es', 8, 'english']"
      ]
     },
     "execution_count": 11,
     "metadata": {},
     "output_type": "execute_result"
    }
   ],
   "source": [
    "lista=[1,\"programacion\",\"es\",8,\"english\"]\n",
    "lista"
   ]
  },
  {
   "cell_type": "code",
   "execution_count": 2,
   "id": "a4c35cfb",
   "metadata": {},
   "outputs": [
    {
     "data": {
      "text/plain": [
       "['programacion', 'es']"
      ]
     },
     "execution_count": 2,
     "metadata": {},
     "output_type": "execute_result"
    }
   ],
   "source": [
    "lista[1:3]"
   ]
  },
  {
   "cell_type": "code",
   "execution_count": 12,
   "id": "9f5609a9",
   "metadata": {},
   "outputs": [
    {
     "data": {
      "text/plain": [
       "[1, 'programacion', 'es', 8, 'english', -2]"
      ]
     },
     "execution_count": 12,
     "metadata": {},
     "output_type": "execute_result"
    }
   ],
   "source": [
    "lista.append(-2)\n",
    "lista"
   ]
  },
  {
   "cell_type": "code",
   "execution_count": 13,
   "id": "87f3df1a",
   "metadata": {},
   "outputs": [
    {
     "data": {
      "text/plain": [
       "[1, 'programacion', 'es', 8, 'english', -2, 1, 'texting you']"
      ]
     },
     "execution_count": 13,
     "metadata": {},
     "output_type": "execute_result"
    }
   ],
   "source": [
    "lista.extend([1,\"texting you\"])\n",
    "lista"
   ]
  },
  {
   "cell_type": "code",
   "execution_count": 14,
   "id": "efa3e9f6",
   "metadata": {},
   "outputs": [
    {
     "data": {
      "text/plain": [
       "[1, 'programacion', 'es', 8, 'english', -2, 1, 'texting you', [6, 8, 9]]"
      ]
     },
     "execution_count": 14,
     "metadata": {},
     "output_type": "execute_result"
    }
   ],
   "source": [
    "lista.append([6,8,9])\n",
    "lista"
   ]
  },
  {
   "cell_type": "markdown",
   "id": "c410dc89",
   "metadata": {},
   "source": [
    "# Elimina elementos de una lista"
   ]
  },
  {
   "cell_type": "code",
   "execution_count": 7,
   "id": "0ab24b3e",
   "metadata": {},
   "outputs": [
    {
     "data": {
      "text/plain": [
       "[1, 'programacion', 'es', 'english', -2, 1, 'texting you', [6, 8, 9]]"
      ]
     },
     "execution_count": 7,
     "metadata": {},
     "output_type": "execute_result"
    }
   ],
   "source": [
    "lista.remove(8) ##valor\n",
    "lista"
   ]
  },
  {
   "cell_type": "markdown",
   "id": "53ac931f",
   "metadata": {},
   "source": [
    "# Elimina un elemento por indice"
   ]
  },
  {
   "cell_type": "code",
   "execution_count": 8,
   "id": "553b150a",
   "metadata": {},
   "outputs": [
    {
     "data": {
      "text/plain": [
       "['programacion', 'es', 'english', -2, 1, 'texting you', [6, 8, 9]]"
      ]
     },
     "execution_count": 8,
     "metadata": {},
     "output_type": "execute_result"
    }
   ],
   "source": [
    "del lista[0]\n",
    "lista"
   ]
  },
  {
   "cell_type": "code",
   "execution_count": 10,
   "id": "8c508400",
   "metadata": {},
   "outputs": [
    {
     "data": {
      "text/plain": [
       "['programacion', 'es', 'english', -2]"
      ]
     },
     "execution_count": 10,
     "metadata": {},
     "output_type": "execute_result"
    }
   ],
   "source": [
    "lista[0:4]"
   ]
  },
  {
   "cell_type": "code",
   "execution_count": 11,
   "id": "97e20e4d",
   "metadata": {},
   "outputs": [
    {
     "data": {
      "text/plain": [
       "['programacion', 'es', 'english', -2, 1, 'texting you', [6, 8, 9]]"
      ]
     },
     "execution_count": 11,
     "metadata": {},
     "output_type": "execute_result"
    }
   ],
   "source": [
    "lista[::]"
   ]
  },
  {
   "cell_type": "code",
   "execution_count": 12,
   "id": "84cfcd5e",
   "metadata": {
    "scrolled": true
   },
   "outputs": [
    {
     "data": {
      "text/plain": [
       "['programacion', 'es', 'english', -2, 1, 'texting you', [6, 8, 9]]"
      ]
     },
     "execution_count": 12,
     "metadata": {},
     "output_type": "execute_result"
    }
   ],
   "source": [
    "lista[::1]"
   ]
  },
  {
   "cell_type": "markdown",
   "id": "a0ed2efc",
   "metadata": {},
   "source": [
    "# Elementos de una lista de 2 a 2"
   ]
  },
  {
   "cell_type": "code",
   "execution_count": 15,
   "id": "d94c1f76",
   "metadata": {},
   "outputs": [
    {
     "data": {
      "text/plain": [
       "[1, 'es', 'english', 1, [6, 8, 9]]"
      ]
     },
     "execution_count": 15,
     "metadata": {},
     "output_type": "execute_result"
    }
   ],
   "source": [
    "lista[::2]"
   ]
  },
  {
   "cell_type": "code",
   "execution_count": 17,
   "id": "82db5b61",
   "metadata": {},
   "outputs": [
    {
     "data": {
      "text/plain": [
       "[1, 'programacion', 'es', 8, 'english', -2, 1, 'texting you', [6, 8, 9]]"
      ]
     },
     "execution_count": 17,
     "metadata": {},
     "output_type": "execute_result"
    }
   ],
   "source": [
    "lista"
   ]
  },
  {
   "cell_type": "code",
   "execution_count": 18,
   "id": "1bd9c01e",
   "metadata": {},
   "outputs": [],
   "source": [
    "lista.append(450)"
   ]
  },
  {
   "cell_type": "code",
   "execution_count": 21,
   "id": "d00ef0e7",
   "metadata": {},
   "outputs": [
    {
     "data": {
      "text/plain": [
       "9"
      ]
     },
     "execution_count": 21,
     "metadata": {},
     "output_type": "execute_result"
    }
   ],
   "source": [
    "lista.index(450)"
   ]
  },
  {
   "cell_type": "code",
   "execution_count": 22,
   "id": "e88491b5",
   "metadata": {},
   "outputs": [],
   "source": [
    "b=list(range(7))"
   ]
  },
  {
   "cell_type": "code",
   "execution_count": 23,
   "id": "57e31dad",
   "metadata": {},
   "outputs": [
    {
     "data": {
      "text/plain": [
       "[0, 1, 2, 3, 4, 5, 6]"
      ]
     },
     "execution_count": 23,
     "metadata": {},
     "output_type": "execute_result"
    }
   ],
   "source": [
    "b"
   ]
  },
  {
   "cell_type": "code",
   "execution_count": 16,
   "id": "b85d84d1",
   "metadata": {},
   "outputs": [
    {
     "data": {
      "text/plain": [
       "['programacion', 8]"
      ]
     },
     "execution_count": 16,
     "metadata": {},
     "output_type": "execute_result"
    }
   ],
   "source": [
    "lista[1:4:2]"
   ]
  },
  {
   "cell_type": "code",
   "execution_count": 14,
   "id": "a1eded5b",
   "metadata": {},
   "outputs": [
    {
     "data": {
      "text/plain": [
       "[[6, 8, 9], 'texting you', 1, -2, 'english', 'es', 'programacion']"
      ]
     },
     "execution_count": 14,
     "metadata": {},
     "output_type": "execute_result"
    }
   ],
   "source": [
    "lista[::-1]"
   ]
  },
  {
   "cell_type": "code",
   "execution_count": 17,
   "id": "9e89590d",
   "metadata": {},
   "outputs": [
    {
     "data": {
      "text/plain": [
       "[3, 3, 'programacion', 'es', 'english', -2, 1, 'texting you', [6, 8, 9]]"
      ]
     },
     "execution_count": 17,
     "metadata": {},
     "output_type": "execute_result"
    }
   ],
   "source": [
    "lista.insert(0,3)\n",
    "lista"
   ]
  },
  {
   "cell_type": "code",
   "execution_count": 1,
   "id": "edf1c2d6",
   "metadata": {},
   "outputs": [],
   "source": [
    "import numpy as np"
   ]
  },
  {
   "cell_type": "code",
   "execution_count": 9,
   "id": "95df88a5",
   "metadata": {},
   "outputs": [
    {
     "data": {
      "text/plain": [
       "7.98037422293482"
      ]
     },
     "execution_count": 9,
     "metadata": {},
     "output_type": "execute_result"
    }
   ],
   "source": [
    "n= np.random.uniform(1,10)\n",
    "n"
   ]
  },
  {
   "cell_type": "code",
   "execution_count": 10,
   "id": "bc950cee",
   "metadata": {},
   "outputs": [
    {
     "name": "stdout",
     "output_type": "stream",
     "text": [
      "200.0766407277414\n"
     ]
    }
   ],
   "source": [
    "print(np.pi*n**2)"
   ]
  },
  {
   "cell_type": "code",
   "execution_count": 18,
   "id": "57893148",
   "metadata": {},
   "outputs": [],
   "source": [
    "def mayor_tres(a,b,c): #mayor de tres numeros\n",
    "    if(a>b and a>c):\n",
    "        mayor=a\n",
    "    else:\n",
    "        if(b>c):\n",
    "            mayor=b\n",
    "        else:\n",
    "            mayor=c\n",
    "\n",
    "    return mayor            \n",
    "    "
   ]
  },
  {
   "cell_type": "code",
   "execution_count": 20,
   "id": "db671fbf",
   "metadata": {},
   "outputs": [
    {
     "name": "stdout",
     "output_type": "stream",
     "text": [
      "81\n"
     ]
    }
   ],
   "source": [
    "print(mayor_tres(35,81,12))"
   ]
  },
  {
   "cell_type": "code",
   "execution_count": null,
   "id": "10f3699f",
   "metadata": {},
   "outputs": [],
   "source": []
  },
  {
   "cell_type": "code",
   "execution_count": 1,
   "id": "8cbbea93",
   "metadata": {},
   "outputs": [
    {
     "name": "stdout",
     "output_type": "stream",
     "text": [
      "b'<html>\\n<head>\\n<title>A Useful Page</title>\\n</head>\\n<body>\\n<h1>An Interesting Title</h1>\\n<div>\\nLorem ipsum dolor sit amet, consectetur adipisicing elit, sed do eiusmod tempor incididunt ut labore et dolore magna aliqua. Ut enim ad minim veniam, quis nostrud exercitation ullamco laboris nisi ut aliquip ex ea commodo consequat. Duis aute irure dolor in reprehenderit in voluptate velit esse cillum dolore eu fugiat nulla pariatur. Excepteur sint occaecat cupidatat non proident, sunt in culpa qui officia deserunt mollit anim id est laborum.\\n</div>\\n</body>\\n</html>\\n'\n"
     ]
    }
   ],
   "source": []
  },
  {
   "cell_type": "code",
   "execution_count": 1,
   "id": "328f1d10",
   "metadata": {},
   "outputs": [],
   "source": [
    "import numpy as np\n",
    "import pandas as pd\n"
   ]
  },
  {
   "cell_type": "code",
   "execution_count": 3,
   "id": "6e3950ec",
   "metadata": {},
   "outputs": [],
   "source": [
    "pd.Series?"
   ]
  },
  {
   "cell_type": "code",
   "execution_count": 4,
   "id": "83704c56",
   "metadata": {},
   "outputs": [
    {
     "name": "stdout",
     "output_type": "stream",
     "text": [
      "0    0.25\n",
      "1    0.50\n",
      "2    0.75\n",
      "3    1.00\n",
      "dtype: float64\n"
     ]
    }
   ],
   "source": [
    "data=pd.Series([0.25,0.5,0.75,1.0])\n",
    "print(data)"
   ]
  },
  {
   "cell_type": "code",
   "execution_count": 5,
   "id": "44d413d8",
   "metadata": {},
   "outputs": [
    {
     "data": {
      "text/plain": [
       "array([0.25, 0.5 , 0.75, 1.  ])"
      ]
     },
     "execution_count": 5,
     "metadata": {},
     "output_type": "execute_result"
    }
   ],
   "source": [
    "data.values"
   ]
  },
  {
   "cell_type": "code",
   "execution_count": 6,
   "id": "deb59692",
   "metadata": {},
   "outputs": [
    {
     "data": {
      "text/plain": [
       "RangeIndex(start=0, stop=4, step=1)"
      ]
     },
     "execution_count": 6,
     "metadata": {},
     "output_type": "execute_result"
    }
   ],
   "source": [
    "data.index"
   ]
  },
  {
   "cell_type": "code",
   "execution_count": 8,
   "id": "e91a1ea9",
   "metadata": {},
   "outputs": [
    {
     "data": {
      "text/plain": [
       "1    0.50\n",
       "2    0.75\n",
       "dtype: float64"
      ]
     },
     "execution_count": 8,
     "metadata": {},
     "output_type": "execute_result"
    }
   ],
   "source": [
    "data[1:3]"
   ]
  },
  {
   "cell_type": "code",
   "execution_count": 9,
   "id": "cd98c862",
   "metadata": {},
   "outputs": [
    {
     "data": {
      "text/plain": [
       "a    0.25\n",
       "b    0.50\n",
       "c    0.75\n",
       "d    1.00\n",
       "dtype: float64"
      ]
     },
     "execution_count": 9,
     "metadata": {},
     "output_type": "execute_result"
    }
   ],
   "source": [
    "data=pd.Series([0.25,0.5,0.75,1.0],index=['a','b','c','d'])\n",
    "data"
   ]
  },
  {
   "cell_type": "code",
   "execution_count": 12,
   "id": "d1ca9599",
   "metadata": {},
   "outputs": [
    {
     "data": {
      "text/plain": [
       "True"
      ]
     },
     "execution_count": 12,
     "metadata": {},
     "output_type": "execute_result"
    }
   ],
   "source": [
    "'a' in data"
   ]
  },
  {
   "cell_type": "code",
   "execution_count": 13,
   "id": "38876ab3",
   "metadata": {},
   "outputs": [
    {
     "name": "stdout",
     "output_type": "stream",
     "text": [
      "ok\n"
     ]
    }
   ],
   "source": [
    "import matplotlib as plt\n",
    "print('ok')"
   ]
  },
  {
   "cell_type": "code",
   "execution_count": null,
   "id": "d3b77cbe",
   "metadata": {},
   "outputs": [],
   "source": []
  }
 ],
 "metadata": {
  "kernelspec": {
   "display_name": "Python 3 (ipykernel)",
   "language": "python",
   "name": "python3"
  },
  "language_info": {
   "codemirror_mode": {
    "name": "ipython",
    "version": 3
   },
   "file_extension": ".py",
   "mimetype": "text/x-python",
   "name": "python",
   "nbconvert_exporter": "python",
   "pygments_lexer": "ipython3",
   "version": "3.9.7"
  }
 },
 "nbformat": 4,
 "nbformat_minor": 5
}
