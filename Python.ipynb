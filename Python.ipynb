{
 "cells": [
  {
   "cell_type": "code",
   "execution_count": 4,
   "id": "14c5a97a",
   "metadata": {},
   "outputs": [
    {
     "name": "stdout",
     "output_type": "stream",
     "text": [
      "hola fernando zamora\n"
     ]
    }
   ],
   "source": [
    "cadena='hola fernando'\n",
    "surname='zamora'\n",
    "print(cadena+' '+surname)"
   ]
  },
  {
   "cell_type": "code",
   "execution_count": 5,
   "id": "1a47b299",
   "metadata": {},
   "outputs": [
    {
     "name": "stdout",
     "output_type": "stream",
     "text": [
      "<class 'str'>\n"
     ]
    }
   ],
   "source": [
    "print(type(cadena))"
   ]
  },
  {
   "cell_type": "markdown",
   "id": "7e69dbd2",
   "metadata": {},
   "source": [
    "# Debanado de cadenas(substring)"
   ]
  },
  {
   "cell_type": "code",
   "execution_count": 6,
   "id": "d1f23e1f",
   "metadata": {},
   "outputs": [
    {
     "name": "stdout",
     "output_type": "stream",
     "text": [
      "20\n"
     ]
    }
   ],
   "source": [
    "subcadena='este es un substring'\n",
    "print(len(subcadena))"
   ]
  },
  {
   "cell_type": "code",
   "execution_count": 7,
   "id": "61f16742",
   "metadata": {},
   "outputs": [
    {
     "name": "stdout",
     "output_type": "stream",
     "text": [
      "este\n"
     ]
    }
   ],
   "source": [
    "print(subcadena[:4])"
   ]
  },
  {
   "cell_type": "code",
   "execution_count": 17,
   "id": "e39a60da",
   "metadata": {},
   "outputs": [
    {
     "name": "stdout",
     "output_type": "stream",
     "text": [
      "gnirtsbus nu se etse\n"
     ]
    }
   ],
   "source": [
    "print(subcadena[::-1])"
   ]
  },
  {
   "cell_type": "markdown",
   "id": "c761dd50",
   "metadata": {},
   "source": [
    "# Metodo de  cadenas"
   ]
  },
  {
   "cell_type": "code",
   "execution_count": 40,
   "id": "2eadba2b",
   "metadata": {},
   "outputs": [
    {
     "name": "stdout",
     "output_type": "stream",
     "text": [
      "estoy usando los metodos de python\n"
     ]
    }
   ],
   "source": [
    "string= 'Estoy usando los metodos de Python'\n",
    "string1='ESTOY USANDO LOS METODOS DE PYTHON'\n",
    "print(string.lower())  #convierte los caracteres en minusculas."
   ]
  },
  {
   "cell_type": "code",
   "execution_count": 42,
   "id": "c493bba0",
   "metadata": {
    "scrolled": true
   },
   "outputs": [
    {
     "name": "stdout",
     "output_type": "stream",
     "text": [
      "ESTOY USANDO LOS METODOS DE PYTHON\n",
      "Estoy usando los metodos de python\n",
      "Estoy Usando Los Metodos De Python\n"
     ]
    }
   ],
   "source": [
    "print(string.upper()) #convierte los caracteres en minusculos a mayuscula\n",
    "print(string1.capitalize()) #convierte el primer caracter en mayuscula\n",
    "print(string1.title()) #los iniciales de cada palabra en mayuscula."
   ]
  },
  {
   "cell_type": "markdown",
   "id": "1d155fec",
   "metadata": {},
   "source": [
    "# Ejercicios\n"
   ]
  },
  {
   "cell_type": "code",
   "execution_count": 47,
   "id": "3a5b0a1b",
   "metadata": {},
   "outputs": [
    {
     "name": "stdout",
     "output_type": "stream",
     "text": [
      "Te\n",
      "igo\n",
      "T ueosl ooaio\n"
     ]
    }
   ],
   "source": [
    "cad='Te quiero solo como amigo'\n",
    "print(cad[:2]) #imprime los dos primeros caracteres\n",
    "print(cad[22:])#imprime los tres ultimos caracteres\n",
    "print(cad[::2])#imprime cada carecter dos en dos  \n",
    "print(cad[::-1])#imprime la cadena en sentido inverso\n"
   ]
  },
  {
   "cell_type": "code",
   "execution_count": 48,
   "id": "80cc5d0e",
   "metadata": {},
   "outputs": [
    {
     "name": "stdout",
     "output_type": "stream",
     "text": [
      "Te quiero solo como amigoogima omoc olos oreiuq eT\n"
     ]
    }
   ],
   "source": [
    "cad1=cad[::-1]\n",
    "print(cad+cad1) #concatena la cadena con su cadena inversa"
   ]
  },
  {
   "cell_type": "code",
   "execution_count": 52,
   "id": "de085abf",
   "metadata": {},
   "outputs": [
    {
     "name": "stdout",
     "output_type": "stream",
     "text": [
      "S,e,p,a,r,a,d,o\n"
     ]
    }
   ],
   "source": [
    "cad_name='Separado'\n",
    "char = ','\n",
    "reemplazo=cad_name.replace('',',')\n",
    "print(reemplazo[1:len(reemplazo)-1])"
   ]
  },
  {
   "cell_type": "code",
   "execution_count": 54,
   "id": "c18e7fd4",
   "metadata": {},
   "outputs": [
    {
     "name": "stdout",
     "output_type": "stream",
     "text": [
      "Ingrese cantidad adquirida = 10\n",
      "Ingrese importe de compra =5000\n",
      "El importe a pagar es: 4500.0 \n",
      "Obsequio : Agenda 2021 \n"
     ]
    }
   ],
   "source": [
    "prod=int(input(\"Ingrese cantidad adquirida = \"))\n",
    "importe=float(input(\"Ingrese importe de compra =\"))\n",
    "if prod>5:\n",
    "    importe_pago=importe*0.9\n",
    "else:\n",
    "    importe_pago=importe*0.95\n",
    "\n",
    "if importe_pago>100:\n",
    "    print(f\"El importe a pagar es: {importe_pago} \")\n",
    "    print(\"Obsequio : Agenda 2021 \")\n",
    "else:\n",
    "    print(f\"El importe a pagar es: {importe_pago} \")\n",
    "    print(\"Obsequio : Calendario 2021 \")\n",
    "    "
   ]
  },
  {
   "cell_type": "markdown",
   "id": "a1624554",
   "metadata": {},
   "source": [
    "\n",
    "  # Ecuación cuadratica      "
   ]
  },
  {
   "cell_type": "code",
   "execution_count": 71,
   "id": "c62f662e",
   "metadata": {},
   "outputs": [
    {
     "name": "stdout",
     "output_type": "stream",
     "text": [
      "Ingrese el primer valor = 7\n",
      "Ingrese el segundo valor = 15\n",
      "Ingrese el tercer valor = 23.4\n",
      "El conjunto solución es [ -1.071+30.729j , -1.071 + -30.729j ]\n"
     ]
    }
   ],
   "source": [
    "a=float(input(\"Ingrese el primer valor = \"))\n",
    "b=float(input(\"Ingrese el segundo valor = \"))\n",
    "c=float(input(\"Ingrese el tercer valor = \"))\n",
    "\n",
    "dis=b**2-4*a*c\n",
    "\n",
    "if dis>0:\n",
    "    x1=(-b+dis)/(2*a)\n",
    "    x2=(-b-dis)/(2*a)\n",
    "    print(f\"La conjunto solución es [{round(x1,3)}, {round(x2,3)}]\")\n",
    "elif dis==0:\n",
    "    x1=-b/(2*a)\n",
    "    x2= x1\n",
    "    print(f\"La conjunto solución es [{round(x1,3)}]\")\n",
    "else:\n",
    "    s=-dis\n",
    "    s1=round(b/(2*a),3)\n",
    "    s2=round(s/(2*a),3)\n",
    "    print(f\"El conjunto solución es [ {-s1}+{s2}j , {-s1} + {-s2}j ]\")\n",
    "    \n"
   ]
  },
  {
   "cell_type": "markdown",
   "id": "63d9cfaf",
   "metadata": {},
   "source": [
    "# Ejercicios \n",
    "\n",
    "Calcular el total que una persona debe pagar en una llantera, si el precio de cada llanta es de\n",
    "800 si se compran menos de 5 llantas y de 700 si se compran 5 o más"
   ]
  },
  {
   "cell_type": "code",
   "execution_count": 72,
   "id": "12e1ad29",
   "metadata": {
    "scrolled": true
   },
   "outputs": [
    {
     "name": "stdout",
     "output_type": "stream",
     "text": [
      "Ingrese cantidad de llantas a comprar= 3\n",
      "El monto a pagar es = 2400\n"
     ]
    }
   ],
   "source": [
    "cant_llantas= int(input(\"Ingrese cantidad de llantas a comprar= \"))\n",
    "if cant_llantas<5:\n",
    "    monto_pagar=800*cant_llantas\n",
    "else:\n",
    "    monto_pagar=700*cant_llantas\n",
    "\n",
    "print(\"El monto a pagar es = {}\".format(monto_pagar))\n",
    "#print(f\"El monto a pagar es = {monto_pagar}\")"
   ]
  },
  {
   "cell_type": "markdown",
   "id": "40c74d74",
   "metadata": {},
   "source": [
    "# Ejercicio 2\n",
    "Ingresar una vocal minuscula y letra mayuscula, el programa debe devolver la vocal en mayuscula y la letra en minuscula concatenada"
   ]
  },
  {
   "cell_type": "code",
   "execution_count": 73,
   "id": "89b6c1af",
   "metadata": {},
   "outputs": [
    {
     "name": "stdout",
     "output_type": "stream",
     "text": [
      "Ingrese vocal en minuscula = e\n",
      "Ingrese un letra mayuscula = R\n",
      "La respuesta es : Er\n"
     ]
    }
   ],
   "source": [
    "vowel=input(\"Ingrese vocal en minuscula = \")\n",
    "letter=input(\"Ingrese un letra mayuscula = \")\n",
    "\n",
    "cadena= vowel + letter #concatenar\n",
    "cad=cadena.lower() #transformar los caracteres en minuscula\n",
    "print(f\"La respuesta es : {cad.capitalize()}\") #la primera letra pasa a mayuscula"
   ]
  },
  {
   "cell_type": "code",
   "execution_count": 74,
   "id": "4f7ea679",
   "metadata": {},
   "outputs": [
    {
     "name": "stdout",
     "output_type": "stream",
     "text": [
      "Ingrese su nombre = Fernando\n",
      "Ingrese su edad = 27\n",
      "Ingrese su genero = Masculino\n",
      "Te llamas Fernando\n",
      "Tu edad es: 27\n",
      "Eres : Masculino\n"
     ]
    }
   ],
   "source": [
    "name=input(\"Ingrese su nombre = \")\n",
    "age= int(input(\"Ingrese su edad = \"))\n",
    "gender= input(\"Ingrese su genero = \")\n",
    "print(\"Te llamas {}\".format(name))\n",
    "print(\"Tu edad es: {}\".format(age))\n",
    "print(\"Eres : {}\".format(gender))"
   ]
  },
  {
   "cell_type": "markdown",
   "id": "d414a1c2",
   "metadata": {},
   "source": [
    "# Metodos booleanos\n",
    "usualmente metodos para strings"
   ]
  },
  {
   "cell_type": "code",
   "execution_count": 75,
   "id": "d5b93a10",
   "metadata": {},
   "outputs": [
    {
     "name": "stdout",
     "output_type": "stream",
     "text": [
      "True\n",
      "True\n",
      "False\n",
      "False\n"
     ]
    }
   ],
   "source": [
    "cadena=\"Estoy mostrando metodos booleanos para las strings\"\n",
    "print(cadena.startswith(\"E\")) #verficar si la cadena empieza con el parametro que he establecido. empieza con E por ello es true\n",
    "print(cadena.endswith(\"s\")) #verificar si la cadena termina con s por ello es true.\n",
    "print(cadena.isupper()) #verificar si toda la cadena esta en mayuscula\n",
    "print(cadena.islower()) #verificar si toda la cadena esta en minuscula, si esto es cierto devuelve true"
   ]
  },
  {
   "cell_type": "code",
   "execution_count": null,
   "id": "c10d9d2c",
   "metadata": {},
   "outputs": [],
   "source": []
  },
  {
   "cell_type": "code",
   "execution_count": null,
   "id": "9cdb4e4e",
   "metadata": {},
   "outputs": [],
   "source": []
  },
  {
   "cell_type": "code",
   "execution_count": 86,
   "id": "af4dc916",
   "metadata": {},
   "outputs": [
    {
     "name": "stdout",
     "output_type": "stream",
     "text": [
      "[20, 50, 'Curso', 'Python', 3.14]\n",
      "Ingrese valor que sea reemplazar = chupetin\n",
      "Ingrese valor que sea reemplazar = 30\n",
      "['chupetin', '30', 'Curso', 'Python', 3.14]\n"
     ]
    }
   ],
   "source": [
    "lista=[20,50,'Curso','Python',3.14]\n",
    "print(lista)\n",
    "v1=input('Ingrese valor que sea reemplazar = ')\n",
    "v2=input('Ingrese valor que sea reemplazar = ')\n",
    "\n",
    "lista.insert(0,v1)\n",
    "lista.insert(1,v2)\n",
    "del lista[2]\n",
    "lista.remove(50)\n",
    "print(lista)"
   ]
  },
  {
   "cell_type": "code",
   "execution_count": 90,
   "id": "34c1a87c",
   "metadata": {},
   "outputs": [],
   "source": [
    "def aleatorio(n):\n",
    "    numbers=[]\n",
    "    for i in range(1,n):\n",
    "        numbers.append(random.randint(1,10))    \n",
    "    return numbers    "
   ]
  },
  {
   "cell_type": "code",
   "execution_count": 93,
   "id": "e59f1ece",
   "metadata": {},
   "outputs": [
    {
     "name": "stdout",
     "output_type": "stream",
     "text": [
      "[5, 7, 9, 3, 8, 2, 2, 2, 2, 4]\n"
     ]
    }
   ],
   "source": [
    "a=True\n",
    "\n",
    "while a:\n",
    "    r=aleatorio(11)\n",
    "    if r[4]%2==0 and r[7]%2==0 and r[9]%2==0:\n",
    "        print(r)\n",
    "        break;\n",
    "    else:\n",
    "        continue;\n",
    "   \n",
    "    \n",
    "    "
   ]
  },
  {
   "cell_type": "code",
   "execution_count": 76,
   "id": "2c66839e",
   "metadata": {},
   "outputs": [],
   "source": [
    "import random\n",
    "def guess(x):\n",
    "    random_number= random.randint(1,x)\n",
    "    guess=0\n",
    "    while guess!=random_number:\n",
    "        guess=int(input(\"Ingrese un numero entre 1 y {} = \".format(x)))\n",
    "        if guess<random_number:\n",
    "            print('lo siente sigue intentado, numero muy bajo')\n",
    "        elif guess>random_number:\n",
    "            print('lo siento sigue intentado tu puedes, numero muy alto')\n",
    "        else:\n",
    "            print('Bien hecho lo has adivinado = {}'.format(guess))\n",
    "                       \n",
    "        \n",
    "        \n",
    "        "
   ]
  },
  {
   "cell_type": "code",
   "execution_count": 77,
   "id": "3d0b7a1c",
   "metadata": {},
   "outputs": [
    {
     "name": "stdout",
     "output_type": "stream",
     "text": [
      "Ingrese un numero entre 1 y 30 = 24\n",
      "lo siente sigue intentado, numero muy bajo\n",
      "Ingrese un numero entre 1 y 30 = 35\n",
      "lo siento sigue intentado tu puedes, numero muy alto\n",
      "Ingrese un numero entre 1 y 30 = 25\n",
      "lo siente sigue intentado, numero muy bajo\n",
      "Ingrese un numero entre 1 y 30 = 26\n",
      "lo siente sigue intentado, numero muy bajo\n",
      "Ingrese un numero entre 1 y 30 = 27\n",
      "Bien hecho lo has adivinado = 27\n",
      "None\n"
     ]
    }
   ],
   "source": [
    "print(guess(30))"
   ]
  },
  {
   "cell_type": "markdown",
   "id": "4e262ea9",
   "metadata": {},
   "source": [
    "# Diccionarios"
   ]
  },
  {
   "cell_type": "code",
   "execution_count": 2,
   "id": "61dbd1cf",
   "metadata": {},
   "outputs": [
    {
     "name": "stdout",
     "output_type": "stream",
     "text": [
      "{'Id': 72851911, 'Nombres': 'Fernando Julian', 'Apellidos': 'Zamora Manuelo'}\n",
      "<class 'dict'>\n"
     ]
    }
   ],
   "source": [
    "diccionario={'Id':72851911,'Nombres':\"Fernando Julian\",'Apellidos':\"Zamora Manuelo\"} #clave- valor\n",
    "\n",
    "print(diccionario)\n",
    "print(type(diccionario))"
   ]
  },
  {
   "cell_type": "code",
   "execution_count": 3,
   "id": "3541f6ef",
   "metadata": {},
   "outputs": [
    {
     "name": "stdout",
     "output_type": "stream",
     "text": [
      "dict_keys(['Id', 'Nombres', 'Apellidos'])\n"
     ]
    }
   ],
   "source": [
    "print(diccionario.keys()) #devuelve claves del diccionario"
   ]
  },
  {
   "cell_type": "code",
   "execution_count": 4,
   "id": "feccf4d1",
   "metadata": {},
   "outputs": [
    {
     "name": "stdout",
     "output_type": "stream",
     "text": [
      "dict_values([72851911, 'Fernando Julian', 'Zamora Manuelo'])\n"
     ]
    }
   ],
   "source": [
    "print(diccionario.values()) #devuelve valores del diccionario"
   ]
  },
  {
   "cell_type": "code",
   "execution_count": 5,
   "id": "1daaa19d",
   "metadata": {},
   "outputs": [
    {
     "name": "stdout",
     "output_type": "stream",
     "text": [
      "Fernando Julian\n"
     ]
    }
   ],
   "source": [
    "print(diccionario['Nombres'])# llamar la clave e imprime el valor de la clave."
   ]
  },
  {
   "cell_type": "code",
   "execution_count": 6,
   "id": "a38362ea",
   "metadata": {},
   "outputs": [],
   "source": [
    "diccionario['codigo']='20140071B' #agrevar clave y valor sin metodos."
   ]
  },
  {
   "cell_type": "code",
   "execution_count": 8,
   "id": "89b9cdf7",
   "metadata": {},
   "outputs": [
    {
     "name": "stdout",
     "output_type": "stream",
     "text": [
      "{'Id': 72851911, 'Nombres': 'Fernando Julian', 'Apellidos': 'Zamora Manuelo', 'codigo': '20140071B'}\n",
      "{'Id': 72851911, 'Nombres': 'Fernando Julian', 'Apellidos': 'Zamora Manuelo'}\n"
     ]
    }
   ],
   "source": [
    "print(diccionario)\n",
    "diccionario.pop('codigo')\n",
    "print(diccionario) #elimina la clave y su respectivo valor, necesita la clave"
   ]
  },
  {
   "cell_type": "code",
   "execution_count": 9,
   "id": "c6146886",
   "metadata": {},
   "outputs": [
    {
     "name": "stdout",
     "output_type": "stream",
     "text": [
      "{}\n"
     ]
    }
   ],
   "source": [
    "diccionario.clear() #limpiar o borra el diccionario\n",
    "print(diccionario)"
   ]
  },
  {
   "cell_type": "code",
   "execution_count": 11,
   "id": "dc4b09e9",
   "metadata": {},
   "outputs": [
    {
     "name": "stdout",
     "output_type": "stream",
     "text": [
      "72851911\n"
     ]
    }
   ],
   "source": [
    "diccionario={'Id':72851911,'Nombres':\"Fernando Julian\",'Apellidos':\"Zamora Manuelo\"}\n",
    "print(diccionario.get('Id')) #imprimir el valor ingresando su clave usando metodos"
   ]
  },
  {
   "cell_type": "code",
   "execution_count": 12,
   "id": "7203a726",
   "metadata": {},
   "outputs": [
    {
     "name": "stdout",
     "output_type": "stream",
     "text": [
      "{'Id': 72851911, 'Nombres': 'Fernando Julian', 'Apellidos': 'Zamora Manuelo', 'Matriculado': True}\n"
     ]
    }
   ],
   "source": [
    "diccionario.setdefault('Matriculado',True) #agregar nuevos valores usando metodos\n",
    "print(diccionario)"
   ]
  },
  {
   "cell_type": "code",
   "execution_count": 14,
   "id": "806bbc98",
   "metadata": {},
   "outputs": [
    {
     "name": "stdout",
     "output_type": "stream",
     "text": [
      "{'Id': 72851911, 'Nombres': 'Fernando Julian', 'Apellidos': 'Zamora Manuelo', 'Matriculado': True, 4: 5, 5: 6, 6: 7, 'Año_nacimiento': 1995, 'edad': 27, 'Estado': 'Soltero'}\n"
     ]
    }
   ],
   "source": [
    "diccionario2 = {'Año_nacimiento':1995,'edad':27,'Estado':'Soltero'}\n",
    "diccionario.update(diccionario2)\n",
    "print(diccionario) #unir deccionario y si se repiten claves solo 1 carga."
   ]
  },
  {
   "cell_type": "markdown",
   "id": "748637c7",
   "metadata": {},
   "source": [
    "# Ejercicios"
   ]
  },
  {
   "cell_type": "code",
   "execution_count": 64,
   "id": "b72cb4d3",
   "metadata": {},
   "outputs": [
    {
     "name": "stdout",
     "output_type": "stream",
     "text": [
      "Ingrese un pais = costa rica\n",
      "San Jose\n"
     ]
    }
   ],
   "source": [
    "dictionary ={\"Guatemala\": \"Ciudad de Guatemala\", \"El Salvador\": \"San Salvador\", \"Honduras\": \"Tegucigalpa\",\n",
    "             \"Nicaragua\": \"Managua\", \"Costa Rica\": \"San Jose\", \"Panama\": \"Panama\", \"Argentina\": \"Buenos Aires\", \n",
    "             \"Colombia\": \"Bogota\", \"Venezuela\": \"Caracas\", \"España\": \"Madrid\"}\n",
    "\n",
    "pais=input(\"Ingrese un pais = \")\n",
    "letra = pais.title() in dictionary\n",
    "if letra:\n",
    "    print(dictionary[pais.title()])\n",
    "else:\n",
    "    print(\"Pais no encontrado\")"
   ]
  },
  {
   "cell_type": "code",
   "execution_count": null,
   "id": "d617343b",
   "metadata": {},
   "outputs": [],
   "source": []
  },
  {
   "cell_type": "code",
   "execution_count": null,
   "id": "1b75d14a",
   "metadata": {},
   "outputs": [],
   "source": []
  },
  {
   "cell_type": "code",
   "execution_count": null,
   "id": "46cf8847",
   "metadata": {},
   "outputs": [],
   "source": []
  },
  {
   "cell_type": "code",
   "execution_count": 59,
   "id": "c99508ac",
   "metadata": {},
   "outputs": [
    {
     "name": "stdout",
     "output_type": "stream",
     "text": [
      "Ingrese numero = 1\n",
      "Casillas\n"
     ]
    }
   ],
   "source": [
    "dic1= {1 : \"Casillas\", 15 : \"Ramos\", 3 : \"Pique\", 5 : \"Puyol\",11 : \"Capdevila\", 14 : \"Xabi Alonso\",\n",
    "       16 : \"Busquets\", 8 : \"Xavi Hernandez\", 18 : \"Pedrito\", 6 : \"Iniesta\",\n",
    "        7 : \"Villa\"}\n",
    "aux=True\n",
    "num=int(input(\"Ingrese numero = \"))\n",
    "for key in dic1.keys():\n",
    "    if num==key:\n",
    "        value=dic1.get(num) \n",
    "    else:\n",
    "        aux=False\n",
    "print(value)        "
   ]
  },
  {
   "cell_type": "markdown",
   "id": "f227aad7",
   "metadata": {},
   "source": [
    "# Conjunto\n",
    "A diferencia de la lista que puede aceptar datos repetidos, \n",
    "conjunto no acepta los datos repetidos"
   ]
  },
  {
   "cell_type": "code",
   "execution_count": 65,
   "id": "57046a21",
   "metadata": {},
   "outputs": [
    {
     "name": "stdout",
     "output_type": "stream",
     "text": [
      "<class 'set'>\n"
     ]
    }
   ],
   "source": [
    "conjunto = {1,2,3,4,5,7}\n",
    "print(type(conjunto))"
   ]
  },
  {
   "cell_type": "code",
   "execution_count": 68,
   "id": "bc606c06",
   "metadata": {},
   "outputs": [
    {
     "name": "stdout",
     "output_type": "stream",
     "text": [
      "<class 'set'>\n"
     ]
    }
   ],
   "source": [
    "print(type(set([1,2,3,4,5,6])))\n"
   ]
  },
  {
   "cell_type": "markdown",
   "id": "d06ea662",
   "metadata": {},
   "source": [
    "# Metodos de conjuntos"
   ]
  },
  {
   "cell_type": "code",
   "execution_count": 72,
   "id": "91ee8c89",
   "metadata": {},
   "outputs": [
    {
     "name": "stdout",
     "output_type": "stream",
     "text": [
      "{1, 2, 3, 4, 5, 20, 7}\n",
      "{1, 2, 3, 4, 5, 20, 7, 12}\n"
     ]
    }
   ],
   "source": [
    " #añade un valor\n",
    "print(conjunto)\n",
    "conjunto.add(12)\n",
    "print(conjunto)"
   ]
  },
  {
   "cell_type": "code",
   "execution_count": 73,
   "id": "efb86470",
   "metadata": {},
   "outputs": [
    {
     "name": "stdout",
     "output_type": "stream",
     "text": [
      "{2, 3, 4, 5, 20, 7, 12}\n"
     ]
    }
   ],
   "source": [
    "conjunto.remove(1) #eliminar\n",
    "print(conjunto)"
   ]
  },
  {
   "cell_type": "code",
   "execution_count": 74,
   "id": "70d29925",
   "metadata": {},
   "outputs": [
    {
     "name": "stdout",
     "output_type": "stream",
     "text": [
      "{2, 4, 5, 20, 7, 12}\n"
     ]
    }
   ],
   "source": [
    "conjunto.discard(3) #eliminar\n",
    "print(conjunto)"
   ]
  },
  {
   "cell_type": "code",
   "execution_count": 75,
   "id": "56785a00",
   "metadata": {},
   "outputs": [
    {
     "name": "stdout",
     "output_type": "stream",
     "text": [
      "{4, 5, 20, 7, 12}\n"
     ]
    }
   ],
   "source": [
    "conjunto.pop()\n",
    "print(conjunto)#eliminar un valor al azar"
   ]
  },
  {
   "cell_type": "code",
   "execution_count": 76,
   "id": "c96f8c5d",
   "metadata": {},
   "outputs": [
    {
     "name": "stdout",
     "output_type": "stream",
     "text": [
      "{1, 2, 3, 4, 5, 7, 12, 20}\n"
     ]
    }
   ],
   "source": [
    "conjunto.update([1,2,3])\n",
    "print(conjunto)"
   ]
  },
  {
   "cell_type": "code",
   "execution_count": 77,
   "id": "f494b558",
   "metadata": {},
   "outputs": [
    {
     "name": "stdout",
     "output_type": "stream",
     "text": [
      "set()\n"
     ]
    }
   ],
   "source": [
    "conjunto.clear() #dejar conjunto vacio\n",
    "print(conjunto)"
   ]
  },
  {
   "cell_type": "code",
   "execution_count": null,
   "id": "ba0b6b96",
   "metadata": {},
   "outputs": [],
   "source": []
  },
  {
   "cell_type": "code",
   "execution_count": null,
   "id": "58a422ea",
   "metadata": {},
   "outputs": [],
   "source": []
  },
  {
   "cell_type": "code",
   "execution_count": null,
   "id": "fe505726",
   "metadata": {},
   "outputs": [],
   "source": []
  },
  {
   "cell_type": "code",
   "execution_count": null,
   "id": "dc4effa4",
   "metadata": {},
   "outputs": [],
   "source": []
  },
  {
   "cell_type": "code",
   "execution_count": null,
   "id": "3a4b6bb3",
   "metadata": {},
   "outputs": [],
   "source": []
  },
  {
   "cell_type": "code",
   "execution_count": null,
   "id": "369af5bf",
   "metadata": {},
   "outputs": [],
   "source": []
  }
 ],
 "metadata": {
  "kernelspec": {
   "display_name": "Python 3 (ipykernel)",
   "language": "python",
   "name": "python3"
  },
  "language_info": {
   "codemirror_mode": {
    "name": "ipython",
    "version": 3
   },
   "file_extension": ".py",
   "mimetype": "text/x-python",
   "name": "python",
   "nbconvert_exporter": "python",
   "pygments_lexer": "ipython3",
   "version": "3.9.7"
  }
 },
 "nbformat": 4,
 "nbformat_minor": 5
}
