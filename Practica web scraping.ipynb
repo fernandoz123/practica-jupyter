{
 "cells": [
  {
   "cell_type": "markdown",
   "id": "1917d780-5c16-41f2-ac36-6a57b03c0572",
   "metadata": {},
   "source": [
    "## Uso de APIs\n",
    "<a href=\"https://sunrise-sunset.org/api\">Sunset and sunrise times API</a>\n",
    "\n",
    "Sirve para obtener la hora del amanecer y el ocaso de un determinado dia"
   ]
  },
  {
   "cell_type": "markdown",
   "id": "297f3694-945c-472a-988e-e2fba03154c7",
   "metadata": {},
   "source": [
    "$\\textit{parametros}$:\n",
    "- lat (float): Latitud en grados decimales (obligatorio)\n",
    "- lng (float): Longitud en grados decimales (obligatorio)\n",
    "- date (string): Fecha en formato AAAA-MM-DD (opcional, por defecto usa dia actual)\n",
    "\n",
    "entre Otros."
   ]
  },
  {
   "cell_type": "code",
   "execution_count": 1,
   "id": "1eff2095-eae5-4aad-813a-63d2d73c7a50",
   "metadata": {},
   "outputs": [],
   "source": [
    "#definimos los parametros de nuestra query\n",
    "latitud = 43.3\n",
    "longitud = 15.38"
   ]
  },
  {
   "cell_type": "code",
   "execution_count": 2,
   "id": "f2d437a3-a9cf-488b-af86-86927df7b1fc",
   "metadata": {},
   "outputs": [],
   "source": [
    "#Hacemos el pedido y guardamos la respuesta en una variable\n",
    "import requests\n",
    "respuesta_sunset = requests.get(f\"https://api.sunrise-sunset.org/json?lat={latitud}&lng={longitud}\")"
   ]
  },
  {
   "cell_type": "code",
   "execution_count": 3,
   "id": "7a076599-3730-4c66-a1d9-d2bbebc2a113",
   "metadata": {},
   "outputs": [
    {
     "data": {
      "text/plain": [
       "{'results': {'sunrise': '3:43:23 AM',\n",
       "  'sunset': '6:26:36 PM',\n",
       "  'solar_noon': '11:05:00 AM',\n",
       "  'day_length': '14:43:13',\n",
       "  'civil_twilight_begin': '3:12:11 AM',\n",
       "  'civil_twilight_end': '6:57:48 PM',\n",
       "  'nautical_twilight_begin': '2:30:58 AM',\n",
       "  'nautical_twilight_end': '7:39:02 PM',\n",
       "  'astronomical_twilight_begin': '1:43:48 AM',\n",
       "  'astronomical_twilight_end': '8:26:11 PM'},\n",
       " 'status': 'OK',\n",
       " 'tzid': 'UTC'}"
      ]
     },
     "execution_count": 3,
     "metadata": {},
     "output_type": "execute_result"
    }
   ],
   "source": [
    "#Para des-serializar el objeto que era {tipo HTTPResponse} y cargarlo como json\n",
    "datos_sunset = respuesta_sunset.json()\n",
    "datos_sunset"
   ]
  },
  {
   "cell_type": "code",
   "execution_count": 4,
   "id": "d63b4cf9-84cf-43c3-b8e6-3d3800c51549",
   "metadata": {},
   "outputs": [
    {
     "data": {
      "text/plain": [
       "dict_keys(['results', 'status', 'tzid'])"
      ]
     },
     "execution_count": 4,
     "metadata": {},
     "output_type": "execute_result"
    }
   ],
   "source": [
    "datos_sunset.keys()"
   ]
  },
  {
   "cell_type": "markdown",
   "id": "3169f6c5-4f65-4c78-be8d-7f1ef7d4cd50",
   "metadata": {},
   "source": [
    "## BeautifulSoup\n",
    "\n",
    "Documentación oficial: https://beautiful-soup-4.readthedocs.io/en/latest/"
   ]
  },
  {
   "cell_type": "code",
   "execution_count": 5,
   "id": "501c5cb0-4499-4377-82d5-cbb4a053574f",
   "metadata": {},
   "outputs": [
    {
     "name": "stdout",
     "output_type": "stream",
     "text": [
      "beautifulsoup version : 4.12.2\n",
      "requests version : 2.31.0\n"
     ]
    }
   ],
   "source": [
    "#from urllib.request import urlopen\n",
    "#from urllib.error import HTTPError\n",
    "import bs4 \n",
    "print(f'beautifulsoup version : {bs4.__version__}')\n",
    "print(f'requests version : {requests.__version__}')"
   ]
  },
  {
   "cell_type": "code",
   "execution_count": 6,
   "id": "77545d87-cc15-4a21-9134-ddcdaf00d2f7",
   "metadata": {},
   "outputs": [
    {
     "name": "stdout",
     "output_type": "stream",
     "text": [
      "<class 'requests.models.Response'>\n",
      "['__attrs__', '__bool__', '__class__', '__delattr__', '__dict__', '__dir__', '__doc__', '__enter__', '__eq__', '__exit__', '__format__', '__ge__', '__getattribute__', '__getstate__', '__gt__', '__hash__', '__init__', '__init_subclass__', '__iter__', '__le__', '__lt__', '__module__', '__ne__', '__new__', '__nonzero__', '__reduce__', '__reduce_ex__', '__repr__', '__setattr__', '__setstate__', '__sizeof__', '__str__', '__subclasshook__', '__weakref__', '_content', '_content_consumed', '_next', 'apparent_encoding', 'close', 'connection', 'content', 'cookies', 'elapsed', 'encoding', 'headers', 'history', 'is_permanent_redirect', 'is_redirect', 'iter_content', 'iter_lines', 'json', 'links', 'next', 'ok', 'raise_for_status', 'raw', 'reason', 'request', 'status_code', 'text', 'url']\n"
     ]
    }
   ],
   "source": [
    "#Obteniendo HTML\n",
    "url_base = \"https://scrapepark.org/spanish/\"\n",
    "pedido_obtenido = requests.get(url_base)\n",
    "print(type(pedido_obtenido))\n",
    "print(dir(pedido_obtenido))"
   ]
  },
  {
   "cell_type": "code",
   "execution_count": 7,
   "id": "0ca2f02b-0c96-465f-91e5-419608b00ca1",
   "metadata": {},
   "outputs": [
    {
     "data": {
      "text/plain": [
       "bs4.BeautifulSoup"
      ]
     },
     "execution_count": 7,
     "metadata": {},
     "output_type": "execute_result"
    }
   ],
   "source": [
    "html_obtenido = pedido_obtenido.text #atributo text\n",
    "#parsear ese html\n",
    "soup = bs4.BeautifulSoup(html_obtenido,\"html.parser\")\n",
    "type(soup)"
   ]
  },
  {
   "cell_type": "markdown",
   "id": "8b06ba44-198c-43f3-b637-cf23409400ef",
   "metadata": {},
   "source": [
    "# Metodo find()\n",
    "Nos permite quedarnos con la información asociada a una etiqueta html"
   ]
  },
  {
   "cell_type": "code",
   "execution_count": 8,
   "id": "e1c72c20-86f9-4682-a453-09845096a897",
   "metadata": {},
   "outputs": [
    {
     "name": "stdout",
     "output_type": "stream",
     "text": [
      "<h2>¿Por qué comprar con nosotros?</h2>\n"
     ]
    }
   ],
   "source": [
    "primer_h2 = soup.find('h2')\n",
    "print(primer_h2)"
   ]
  },
  {
   "cell_type": "code",
   "execution_count": 9,
   "id": "f882a0d2-2799-4f3f-a497-ae7690a946e9",
   "metadata": {},
   "outputs": [
    {
     "name": "stdout",
     "output_type": "stream",
     "text": [
      "¿Por qué comprar con nosotros?\n"
     ]
    }
   ],
   "source": [
    "print(primer_h2.text) #muestra el valor del primer h2 sin su etiqueta"
   ]
  },
  {
   "cell_type": "markdown",
   "id": "ca9e0b2f-7b3b-4927-b2db-94766046d97a",
   "metadata": {},
   "source": [
    "## Metodo find_all()\n",
    "Busca todos los elementos de la pagina con esa etiqueta y devuelve una \"lista\" que los contiene(en realidad devuelve un objeto de la clase bs4.element.ResultSet)."
   ]
  },
  {
   "cell_type": "code",
   "execution_count": 10,
   "id": "d7e31132",
   "metadata": {
    "scrolled": true
   },
   "outputs": [
    {
     "name": "stdout",
     "output_type": "stream",
     "text": [
      "<class 'bs4.element.ResultSet'>\n"
     ]
    }
   ],
   "source": [
    "todos_h2 = soup.find_all('h2')\n",
    "print(type(todos_h2))"
   ]
  },
  {
   "cell_type": "code",
   "execution_count": 11,
   "id": "ecd03c60",
   "metadata": {},
   "outputs": [
    {
     "name": "stdout",
     "output_type": "stream",
     "text": [
      "['__add__', '__class__', '__class_getitem__', '__contains__', '__delattr__', '__delitem__', '__dict__', '__dir__', '__doc__', '__eq__', '__format__', '__ge__', '__getattr__', '__getattribute__', '__getitem__', '__gt__', '__hash__', '__iadd__', '__imul__', '__init__', '__init_subclass__', '__iter__', '__le__', '__len__', '__lt__', '__module__', '__mul__', '__ne__', '__new__', '__reduce__', '__reduce_ex__', '__repr__', '__reversed__', '__rmul__', '__setattr__', '__setitem__', '__sizeof__', '__str__', '__subclasshook__', '__weakref__', 'append', 'clear', 'copy', 'count', 'extend', 'index', 'insert', 'pop', 'remove', 'reverse', 'sort', 'source']\n"
     ]
    }
   ],
   "source": [
    "print(dir(todos_h2))"
   ]
  },
  {
   "cell_type": "code",
   "execution_count": 12,
   "id": "842fd34a",
   "metadata": {
    "scrolled": true
   },
   "outputs": [
    {
     "name": "stdout",
     "output_type": "stream",
     "text": [
      "[<h2>¿Por qué comprar con nosotros?</h2>]\n"
     ]
    }
   ],
   "source": [
    "#ARGUMENTOS\n",
    "#Si usamos el parametro limit=1, emula el metodo find\n",
    "h2_uno_solo = soup.find_all('h2',limit=1)\n",
    "print(h2_uno_solo)"
   ]
  },
  {
   "cell_type": "code",
   "execution_count": 13,
   "id": "39190f82",
   "metadata": {},
   "outputs": [
    {
     "name": "stdout",
     "output_type": "stream",
     "text": [
      "¿Por qué comprar con nosotros?\n",
      "\n",
      "                  #Novedades\n",
      "\n",
      "Nuestros productos\n",
      "Testimonios de clientes\n",
      "Precios\n"
     ]
    }
   ],
   "source": [
    "#Podemos iterar sobre el objeto\n",
    "for seccion in todos_h2:\n",
    "    print(seccion.text)"
   ]
  },
  {
   "cell_type": "code",
   "execution_count": 14,
   "id": "1d2f7840",
   "metadata": {},
   "outputs": [
    {
     "name": "stdout",
     "output_type": "stream",
     "text": [
      "¿Por qué comprar con nosotros?\n",
      "#Novedades\n",
      "Nuestros productos\n",
      "Testimonios de clientes\n",
      "Precios\n"
     ]
    }
   ],
   "source": [
    "#la función get_text() permite no solo presentar el texto tambien puede modificar dicho texto\n",
    "for seccion in todos_h2:\n",
    "    print(seccion.get_text(strip=True)) #Elimina los espacios en blanco"
   ]
  },
  {
   "cell_type": "markdown",
   "id": "8e21f65b-3399-4262-9d77-2166055a92e8",
   "metadata": {},
   "source": [
    "## Utilizando atributos de las etiquetas"
   ]
  },
  {
   "cell_type": "code",
   "execution_count": 15,
   "id": "c6713d78",
   "metadata": {},
   "outputs": [
    {
     "name": "stdout",
     "output_type": "stream",
     "text": [
      "Inicio\n",
      "Contenido\n",
      "Productos\n",
      "Idioma\n"
     ]
    }
   ],
   "source": [
    "#clase especifica\n",
    "menus = soup.find_all('a',class_ = \"nav-link\",limit=4)\n",
    "for data in menus:\n",
    "    print(data.get_text(strip=True))"
   ]
  },
  {
   "cell_type": "code",
   "execution_count": 17,
   "id": "1f338efb-642a-4599-8f40-08a393c750bd",
   "metadata": {},
   "outputs": [
    {
     "data": {
      "text/plain": [
       "[<img alt=\"ScrapePark.org Logo\" src=\"../images/logo.svg\" width=\"250\"/>,\n",
       " <img alt=\"Parque de patinaje\" src=\"../images/slider-bg.jpg\"/>,\n",
       " <img alt=\"Variedad de patinetas en nuestra tienda\" src=\"../images/arrival-bg-store.png\"/>,\n",
       " <img alt=\"Patineta\" src=\"../images/p1.png\"/>,\n",
       " <img alt=\"Patineta\" src=\"../images/p2.jpg\"/>,\n",
       " <img alt=\"Patineta\" src=\"../images/p3.png\"/>,\n",
       " <img alt=\"Patineta\" src=\"../images/p4.png\"/>,\n",
       " <img alt=\"Patineta\" src=\"../images/p5.png\"/>,\n",
       " <img alt=\"Patineta\" src=\"../images/p6.png\"/>,\n",
       " <img alt=\"Patineta\" src=\"../images/p7.png\"/>,\n",
       " <img alt=\"Patineta\" src=\"../images/p8.png\"/>,\n",
       " <img alt=\"Patineta\" src=\"../images/p9.png\"/>,\n",
       " <img alt=\"Patineta\" src=\"../images/p10.png\"/>,\n",
       " <img alt=\"Patineta\" src=\"../images/p11.png\"/>,\n",
       " <img alt=\"Patineta\" src=\"../images/p12.png\"/>,\n",
       " <img alt=\"Cliente\" src=\"../images/client-one.png\"/>,\n",
       " <img alt=\"Cliente\" src=\"../images/client-two.png\"/>,\n",
       " <img alt=\"Cliente\" src=\"../images/client-three.png\"/>,\n",
       " <iframe src=\"table.html\" title=\"table_iframe\"></iframe>,\n",
       " <img alt=\"Logo de ScrapePark.org\" src=\"../images/logo.svg\" width=\"210\"/>,\n",
       " <img alt=\"Logo de freeCodeCamp\" class=\"freecodecamp-logo\" src=\".././images/freecodecamp-logo.png\"/>,\n",
       " <script src=\"../js/jquery-3.4.1.min.js\"></script>,\n",
       " <script src=\"../js/popper.min.js\"></script>,\n",
       " <script src=\"../js/bootstrap.js\"></script>]"
      ]
     },
     "execution_count": 17,
     "metadata": {},
     "output_type": "execute_result"
    }
   ],
   "source": [
    "#Todas las etiquetas que tengan el atributo src\n",
    "todos_src = soup.find_all(src=True)\n",
    "todos_src"
   ]
  },
  {
   "cell_type": "code",
   "execution_count": 48,
   "id": "579c845d-8dc5-4cc1-8754-5216e44df9a2",
   "metadata": {},
   "outputs": [
    {
     "name": "stdout",
     "output_type": "stream",
     "text": [
      "<img alt=\"Parque de patinaje\" src=\"../images/slider-bg.jpg\"/>\n",
      "<img alt=\"Variedad de patinetas en nuestra tienda\" src=\"../images/arrival-bg-store.png\"/>\n",
      "<img alt=\"Patineta\" src=\"../images/p1.png\"/>\n",
      "<img alt=\"Patineta\" src=\"../images/p2.jpg\"/>\n",
      "<img alt=\"Patineta\" src=\"../images/p3.png\"/>\n",
      "<img alt=\"Patineta\" src=\"../images/p4.png\"/>\n",
      "<img alt=\"Patineta\" src=\"../images/p5.png\"/>\n",
      "<img alt=\"Patineta\" src=\"../images/p6.png\"/>\n",
      "<img alt=\"Patineta\" src=\"../images/p7.png\"/>\n",
      "<img alt=\"Patineta\" src=\"../images/p8.png\"/>\n",
      "<img alt=\"Patineta\" src=\"../images/p9.png\"/>\n",
      "<img alt=\"Patineta\" src=\"../images/p10.png\"/>\n",
      "<img alt=\"Patineta\" src=\"../images/p11.png\"/>\n",
      "<img alt=\"Patineta\" src=\"../images/p12.png\"/>\n",
      "<img alt=\"Cliente\" src=\"../images/client-one.png\"/>\n",
      "<img alt=\"Cliente\" src=\"../images/client-two.png\"/>\n",
      "<img alt=\"Cliente\" src=\"../images/client-three.png\"/>\n",
      "<img alt=\"Logo de freeCodeCamp\" class=\"freecodecamp-logo\" src=\".././images/freecodecamp-logo.png\"/>\n"
     ]
    }
   ],
   "source": [
    "#Obtener todas las imagenes jpg o png\n",
    "for elemento in todos_src:\n",
    "    if elemento.get('src').endswith((\".jpg\",\".png\")): # es similar a elemento['src'].endswith(\".jpg\")\n",
    "        print(elemento)"
   ]
  },
  {
   "cell_type": "code",
   "execution_count": 22,
   "id": "3f28a01a-e516-4e1a-875e-7e2e8257c59f",
   "metadata": {},
   "outputs": [
    {
     "name": "stdout",
     "output_type": "stream",
     "text": [
      "['DEFAULT_INTERESTING_STRING_TYPES', 'EMPTY_ELEMENT_EVENT', 'END_ELEMENT_EVENT', 'START_ELEMENT_EVENT', 'STRING_ELEMENT_EVENT', '__bool__', '__call__', '__class__', '__contains__', '__copy__', '__deepcopy__', '__delattr__', '__delitem__', '__dict__', '__dir__', '__doc__', '__eq__', '__format__', '__ge__', '__getattr__', '__getattribute__', '__getitem__', '__gt__', '__hash__', '__init__', '__init_subclass__', '__iter__', '__le__', '__len__', '__lt__', '__module__', '__ne__', '__new__', '__reduce__', '__reduce_ex__', '__repr__', '__setattr__', '__setitem__', '__sizeof__', '__str__', '__subclasshook__', '__unicode__', '__weakref__', '_all_strings', '_clone', '_event_stream', '_find_all', '_find_one', '_format_tag', '_indent_string', '_is_xml', '_lastRecursiveChild', '_last_descendant', '_namespaces', '_should_pretty_print', 'append', 'attrs', 'can_be_empty_element', 'cdata_list_attributes', 'childGenerator', 'children', 'clear', 'contents', 'css', 'decode', 'decode_contents', 'decompose', 'decomposed', 'default', 'descendants', 'encode', 'encode_contents', 'extend', 'extract', 'fetchNextSiblings', 'fetchParents', 'fetchPrevious', 'fetchPreviousSiblings', 'find', 'findAll', 'findAllNext', 'findAllPrevious', 'findChild', 'findChildren', 'findNext', 'findNextSibling', 'findNextSiblings', 'findParent', 'findParents', 'findPrevious', 'findPreviousSibling', 'findPreviousSiblings', 'find_all', 'find_all_next', 'find_all_previous', 'find_next', 'find_next_sibling', 'find_next_siblings', 'find_parent', 'find_parents', 'find_previous', 'find_previous_sibling', 'find_previous_siblings', 'format_string', 'formatter_for_name', 'get', 'getText', 'get_attribute_list', 'get_text', 'has_attr', 'has_key', 'hidden', 'index', 'insert', 'insert_after', 'insert_before', 'interesting_string_types', 'isSelfClosing', 'is_empty_element', 'known_xml', 'name', 'namespace', 'next', 'nextGenerator', 'nextSibling', 'nextSiblingGenerator', 'next_element', 'next_elements', 'next_sibling', 'next_siblings', 'parent', 'parentGenerator', 'parents', 'parserClass', 'parser_class', 'prefix', 'preserve_whitespace_tags', 'prettify', 'previous', 'previousGenerator', 'previousSibling', 'previousSiblingGenerator', 'previous_element', 'previous_elements', 'previous_sibling', 'previous_siblings', 'recursiveChildGenerator', 'renderContents', 'replaceWith', 'replaceWithChildren', 'replace_with', 'replace_with_children', 'select', 'select_one', 'self_and_descendants', 'setup', 'smooth', 'sourceline', 'sourcepos', 'string', 'strings', 'stripped_strings', 'text', 'unwrap', 'wrap']\n"
     ]
    }
   ],
   "source": [
    "#Bajar todas las imagenes\n",
    "\"\"\"\n",
    "for i, imagen in enumerate(todos_src):\n",
    "    if imagen['src'].endswith((\".jpg\",\".png\")):\n",
    "        print(imagen['src'])\n",
    "        r = requests.get(f\"https://scrapepark.org/{imagen['src']}\") #imagen['src']= \"../images/*.png\"\n",
    "\n",
    "        with open(f'{imagen_{i}}.png',\"wb\") as f:\n",
    "            f.write(r.content)\n",
    "\"\"\""
   ]
  },
  {
   "cell_type": "code",
   "execution_count": 52,
   "id": "71ad7e84-de21-4658-ba34-01502410086a",
   "metadata": {},
   "outputs": [
    {
     "name": "stdout",
     "output_type": "stream",
     "text": [
      "Help on class enumerate in module builtins:\n",
      "\n",
      "class enumerate(object)\n",
      " |  enumerate(iterable, start=0)\n",
      " |  \n",
      " |  Return an enumerate object.\n",
      " |  \n",
      " |    iterable\n",
      " |      an object supporting iteration\n",
      " |  \n",
      " |  The enumerate object yields pairs containing a count (from start, which\n",
      " |  defaults to zero) and a value yielded by the iterable argument.\n",
      " |  \n",
      " |  enumerate is useful for obtaining an indexed list:\n",
      " |      (0, seq[0]), (1, seq[1]), (2, seq[2]), ...\n",
      " |  \n",
      " |  Methods defined here:\n",
      " |  \n",
      " |  __getattribute__(self, name, /)\n",
      " |      Return getattr(self, name).\n",
      " |  \n",
      " |  __iter__(self, /)\n",
      " |      Implement iter(self).\n",
      " |  \n",
      " |  __next__(self, /)\n",
      " |      Implement next(self).\n",
      " |  \n",
      " |  __reduce__(...)\n",
      " |      Return state information for pickling.\n",
      " |  \n",
      " |  ----------------------------------------------------------------------\n",
      " |  Class methods defined here:\n",
      " |  \n",
      " |  __class_getitem__(...) from builtins.type\n",
      " |      See PEP 585\n",
      " |  \n",
      " |  ----------------------------------------------------------------------\n",
      " |  Static methods defined here:\n",
      " |  \n",
      " |  __new__(*args, **kwargs) from builtins.type\n",
      " |      Create and return a new object.  See help(type) for accurate signature.\n",
      "\n"
     ]
    }
   ],
   "source": [
    "help(enumerate)"
   ]
  },
  {
   "cell_type": "markdown",
   "id": "5e9c82a0-f92e-4555-b11e-54822d3a8702",
   "metadata": {},
   "source": [
    "## Extraer info de tablas \n",
    "Etiqueta iframe crea una pagina dentro de otra pagina"
   ]
  },
  {
   "cell_type": "code",
   "execution_count": 83,
   "id": "126ea18e-3117-49df-b6ea-aa28785c5cd1",
   "metadata": {},
   "outputs": [],
   "source": [
    "url_base = \"https://scrapepark.org/spanish/\"\n",
    "url_tabla = \"table.html\""
   ]
  },
  {
   "cell_type": "code",
   "execution_count": 84,
   "id": "d98c34f7-8304-4624-9754-42ab9b47d541",
   "metadata": {},
   "outputs": [],
   "source": [
    "request_tabla = requests.get(f'{url_base}/{url_tabla}')"
   ]
  },
  {
   "cell_type": "code",
   "execution_count": 88,
   "id": "81e4c2ff-cefa-4e69-8923-085167ff8735",
   "metadata": {},
   "outputs": [],
   "source": [
    "html_tabla = request_tabla.text\n",
    "soup_tabla = bs4.BeautifulSoup(html_tabla,\"html.parser\")"
   ]
  },
  {
   "cell_type": "code",
   "execution_count": 96,
   "id": "bce34693-2227-4ef4-b2c5-bbd49353ece5",
   "metadata": {},
   "outputs": [
    {
     "data": {
      "text/plain": [
       "[<th class=\"text-center\" style=\"color: red;\">Longboard</th>,\n",
       " <td class=\"text-center\" style=\"color: red;\">$80</td>,\n",
       " <td class=\"text-center\" style=\"color: red;\">$85</td>,\n",
       " <td class=\"text-center\" style=\"color: red;\">$90</td>,\n",
       " <td class=\"text-center\" style=\"color: red;\">$62</td>,\n",
       " <td class=\"text-center\" style=\"color: red;\">$150</td>]"
      ]
     },
     "execution_count": 96,
     "metadata": {},
     "output_type": "execute_result"
    }
   ],
   "source": [
    "producto_faltantes = soup_tabla.find_all(('th','td'),style=\"color: red;\")\n",
    "producto_faltantes"
   ]
  },
  {
   "cell_type": "code",
   "execution_count": 97,
   "id": "9fec1395-0643-4b04-99dd-2bb0a0fd8ed5",
   "metadata": {},
   "outputs": [
    {
     "name": "stdout",
     "output_type": "stream",
     "text": [
      "['Longboard', '$80', '$85', '$90', '$62', '$150']\n"
     ]
    }
   ],
   "source": [
    "prod_faltantes = [data.text for data in producto_faltantes]\n",
    "print(prod_faltantes)"
   ]
  },
  {
   "cell_type": "code",
   "execution_count": 127,
   "id": "4633cd97-5c15-4cab-908b-1eb1d55dde2e",
   "metadata": {},
   "outputs": [
    {
     "name": "stdout",
     "output_type": "stream",
     "text": [
      "<div class=\"detail-box\">\n",
      "<h5>La mejor calidad</h5>\n",
      "</div>\n"
     ]
    }
   ],
   "source": [
    "divs = soup.find_all('div',attrs={'class':'detail-box'})\n",
    "productos = []\n",
    "precios = []\n",
    "print(divs[5])"
   ]
  },
  {
   "cell_type": "code",
   "execution_count": 128,
   "id": "1ac20ba7-d1b5-4f22-a505-d37c5f08a3be",
   "metadata": {},
   "outputs": [
    {
     "name": "stdout",
     "output_type": "stream",
     "text": [
      "producto : Patineta nueva1   | precio : 75\n",
      "producto : Patineta usada2   | precio : 80\n",
      "producto : Patineta nueva3   | precio : 68\n",
      "producto : Patineta usada4   | precio : 70\n",
      "producto : Patineta nueva5   | precio : 75\n",
      "producto : Patineta nueva6   | precio : 58\n",
      "producto : Patineta nueva7   | precio : 80\n",
      "producto : Patineta nueva8   | precio : 35\n",
      "producto : Patineta nueva9   | precio : 165\n",
      "producto : Patineta usada10  | precio : 54\n",
      "producto : Patineta usada11  | precio : 99\n",
      "producto : Patineta nueva12  | precio : 110\n"
     ]
    }
   ],
   "source": [
    "for div in divs:\n",
    "    if (div.h6 is not None) and ('Patineta' in div.h5.text):\n",
    "        producto = div.h5.get_text(strip=True)\n",
    "        precio = div.h6.get_text(strip=True).replace('$','')\n",
    "        print(f'producto : {producto:<16}  | precio : {precio}')\n",
    "        productos.append(producto)\n",
    "        precios.append(precio)\n",
    "        "
   ]
  },
  {
   "cell_type": "code",
   "execution_count": 129,
   "id": "0752520a-617a-4f57-8fb1-beb18005caa7",
   "metadata": {},
   "outputs": [
    {
     "data": {
      "text/plain": [
       "['Patineta nueva1',\n",
       " 'Patineta usada2',\n",
       " 'Patineta nueva3',\n",
       " 'Patineta usada4',\n",
       " 'Patineta nueva5',\n",
       " 'Patineta nueva6',\n",
       " 'Patineta nueva7',\n",
       " 'Patineta nueva8',\n",
       " 'Patineta nueva9',\n",
       " 'Patineta usada10',\n",
       " 'Patineta usada11',\n",
       " 'Patineta nueva12']"
      ]
     },
     "execution_count": 129,
     "metadata": {},
     "output_type": "execute_result"
    }
   ],
   "source": [
    "productos"
   ]
  },
  {
   "cell_type": "code",
   "execution_count": 130,
   "id": "81886717-5932-4a96-8ed2-aa9aa5760e31",
   "metadata": {},
   "outputs": [
    {
     "data": {
      "text/plain": [
       "['75', '80', '68', '70', '75', '58', '80', '35', '165', '54', '99', '110']"
      ]
     },
     "execution_count": 130,
     "metadata": {},
     "output_type": "execute_result"
    }
   ],
   "source": [
    "precios"
   ]
  },
  {
   "cell_type": "markdown",
   "id": "8a23836b-e567-46c6-8754-d7c8076aaac3",
   "metadata": {},
   "source": [
    "## Cambios que dependen de la URL"
   ]
  },
  {
   "cell_type": "code",
   "execution_count": 131,
   "id": "a64cd593-78f1-4ea5-963b-dbeb6f324e46",
   "metadata": {},
   "outputs": [
    {
     "name": "stdout",
     "output_type": "stream",
     "text": [
      "https://scrapepark.org/spanish/contact1\n",
      "Texto que cambia entre páginas en contacto 1 :)\n",
      "https://scrapepark.org/spanish/contact2\n",
      "Texto que cambia entre páginas en contacto 2 :)\n"
     ]
    }
   ],
   "source": [
    "URL_BASE = \"https://scrapepark.org/spanish/contact\"\n",
    "for i in range(1,3):\n",
    "    URL_FINAL = f'{URL_BASE}{i}'\n",
    "    print(URL_FINAL)\n",
    "    r = requests.get(URL_FINAL)\n",
    "    soup = bs4.BeautifulSoup(r.text,\"html.parser\")\n",
    "    print(soup.h5.text)"
   ]
  },
  {
   "cell_type": "markdown",
   "id": "5652998e-f215-4468-944c-74614f97cddd",
   "metadata": {},
   "source": [
    "# Datos que no sabemos en que parte de la pagina se encuentran"
   ]
  },
  {
   "cell_type": "code",
   "execution_count": 132,
   "id": "62e65e62-e2ea-43cb-8b25-3ac9204f5602",
   "metadata": {},
   "outputs": [],
   "source": [
    "#Expresiones regulares\n",
    "import re\n",
    "url_base = \"https://scrapepark.org/spanish/\"\n",
    "pedido_obtenido = requests.get(url_base)\n",
    "html_obtenido = pedido_obtenido.text"
   ]
  },
  {
   "cell_type": "code",
   "execution_count": 133,
   "id": "76d58a8c-0cfb-484a-a68a-365156ec3926",
   "metadata": {},
   "outputs": [
    {
     "data": {
      "text/plain": [
       "[': 4-444-4444']"
      ]
     },
     "execution_count": 133,
     "metadata": {},
     "output_type": "execute_result"
    }
   ],
   "source": [
    "soup = bs4.BeautifulSoup(html_obtenido,\"html.parser\")\n",
    "telefonos = soup.find_all(string=re.compile(\"\\d+-\\d+-\\d+\"))\n",
    "telefonos"
   ]
  },
  {
   "cell_type": "markdown",
   "id": "4a5b1e02-4de7-47a7-a859-24f65e393a7d",
   "metadata": {},
   "source": [
    "## Moviendonos por el arbol"
   ]
  },
  {
   "cell_type": "code",
   "execution_count": 134,
   "id": "b0ce23d9-b997-4d37-9d02-f7cd0fdff3f4",
   "metadata": {},
   "outputs": [
    {
     "data": {
      "text/plain": [
       "['© 2022 ']"
      ]
     },
     "execution_count": 134,
     "metadata": {},
     "output_type": "execute_result"
    }
   ],
   "source": [
    "copyrights = soup.find_all(string=re.compile(\"©\"))\n",
    "copyrights"
   ]
  },
  {
   "cell_type": "code",
   "execution_count": 135,
   "id": "3552cf93-3291-408e-ad80-4826a14c0476",
   "metadata": {},
   "outputs": [
    {
     "data": {
      "text/plain": [
       "<p>© 2022 <span>Todos los derechos reservados</span>.\n",
       "        <a href=\"https://html.design/\" rel=\"noopener noreferrer\" target=\"_blank\">Creado con Free Html Templates</a>.\n",
       "      </p>"
      ]
     },
     "execution_count": 135,
     "metadata": {},
     "output_type": "execute_result"
    }
   ],
   "source": [
    "primer_copyright = copyrights[0]\n",
    "primer_copyright.parent"
   ]
  },
  {
   "cell_type": "code",
   "execution_count": 137,
   "id": "8b9d4dc0-ad12-4f14-bd3f-29374471f263",
   "metadata": {},
   "outputs": [
    {
     "data": {
      "text/plain": [
       "'MENÚ'"
      ]
     },
     "execution_count": 137,
     "metadata": {},
     "output_type": "execute_result"
    }
   ],
   "source": [
    "menu = soup.find(string=re.compile(\"MENÚ\"))\n",
    "menu"
   ]
  },
  {
   "cell_type": "code",
   "execution_count": 139,
   "id": "4e48d114-1256-4222-945d-72e56a470022",
   "metadata": {},
   "outputs": [
    {
     "data": {
      "text/plain": [
       "<h3 class=\"menu\">MENÚ</h3>"
      ]
     },
     "execution_count": 139,
     "metadata": {},
     "output_type": "execute_result"
    }
   ],
   "source": [
    "menu.parent"
   ]
  },
  {
   "cell_type": "code",
   "execution_count": 138,
   "id": "38394a5d-42de-4abb-8b34-60f462b100f9",
   "metadata": {},
   "outputs": [
    {
     "data": {
      "text/plain": [
       "[<ul>\n",
       " <li><a href=\"#\">Inicio</a></li>\n",
       " <li><a href=\"#\">Acerca</a></li>\n",
       " <li><a href=\"#\">Servicios</a></li>\n",
       " <li><a href=\"#\">Testimonios</a></li>\n",
       " <li><a href=\"#\">Contacto</a></li>\n",
       " </ul>]"
      ]
     },
     "execution_count": 138,
     "metadata": {},
     "output_type": "execute_result"
    }
   ],
   "source": [
    "menu.parent.find_next_siblings()"
   ]
  },
  {
   "cell_type": "markdown",
   "id": "2bd62143-5f31-4ea6-a434-d6b2be94da49",
   "metadata": {},
   "source": [
    "# Control de excepciones"
   ]
  },
  {
   "cell_type": "code",
   "execution_count": 140,
   "id": "c1aeb97b-e32b-47a7-936f-26c825338128",
   "metadata": {},
   "outputs": [
    {
     "name": "stdout",
     "output_type": "stream",
     "text": [
      "MENÚ\n",
      "© 2022 \n",
      "El string carpincho no fue encontrado\n",
      "Patineta nueva\n"
     ]
    }
   ],
   "source": [
    "string_a_buscar = ['MENÚ','©','carpincho','Patineta']\n",
    "for string in string_a_buscar:\n",
    "    try:\n",
    "        resultado = soup.find(string=re.compile(string))\n",
    "        print(resultado.text)\n",
    "    except AttributeError:\n",
    "        print(f'El string {string} no fue encontrado')\n",
    "        "
   ]
  },
  {
   "cell_type": "markdown",
   "id": "af67b78e-b85d-4c1a-9961-73eb6f643902",
   "metadata": {},
   "source": [
    "### Almacenamiento de datos"
   ]
  },
  {
   "cell_type": "code",
   "execution_count": 141,
   "id": "af70ea6d-908f-4c3d-a4b3-48affb3157fc",
   "metadata": {},
   "outputs": [],
   "source": [
    "productos.insert(0,'productos')\n",
    "precios.insert(0,'precios')"
   ]
  },
  {
   "cell_type": "code",
   "execution_count": 145,
   "id": "f9c218b1-2661-47b8-a3e5-54f02a9e65c8",
   "metadata": {},
   "outputs": [
    {
     "data": {
      "text/plain": [
       "{'productos': 'precios',\n",
       " 'Patineta nueva1': '75',\n",
       " 'Patineta usada2': '80',\n",
       " 'Patineta nueva3': '68',\n",
       " 'Patineta usada4': '70',\n",
       " 'Patineta nueva5': '75',\n",
       " 'Patineta nueva6': '58',\n",
       " 'Patineta nueva7': '80',\n",
       " 'Patineta nueva8': '35',\n",
       " 'Patineta nueva9': '165',\n",
       " 'Patineta usada10': '54',\n",
       " 'Patineta usada11': '99',\n",
       " 'Patineta nueva12': '110'}"
      ]
     },
     "execution_count": 145,
     "metadata": {},
     "output_type": "execute_result"
    }
   ],
   "source": [
    "datos = dict(zip(productos,precios))\n",
    "datos"
   ]
  },
  {
   "cell_type": "code",
   "execution_count": 146,
   "id": "0844feea-1d11-4067-89e6-3b665def5ec0",
   "metadata": {},
   "outputs": [
    {
     "data": {
      "text/plain": [
       "dict_items([('productos', 'precios'), ('Patineta nueva1', '75'), ('Patineta usada2', '80'), ('Patineta nueva3', '68'), ('Patineta usada4', '70'), ('Patineta nueva5', '75'), ('Patineta nueva6', '58'), ('Patineta nueva7', '80'), ('Patineta nueva8', '35'), ('Patineta nueva9', '165'), ('Patineta usada10', '54'), ('Patineta usada11', '99'), ('Patineta nueva12', '110')])"
      ]
     },
     "execution_count": 146,
     "metadata": {},
     "output_type": "execute_result"
    }
   ],
   "source": [
    "datos.items()"
   ]
  },
  {
   "cell_type": "code",
   "execution_count": 149,
   "id": "8795de96-97ea-406d-9fac-1803d7c4ee97",
   "metadata": {},
   "outputs": [],
   "source": [
    "import csv\n",
    "with open('C:\\\\pycode\\\\datos.csv','w',newline=\"\") as f:\n",
    "    w = csv.writer(f)\n",
    "    w.writerows(datos.items())"
   ]
  },
  {
   "cell_type": "markdown",
   "id": "a9eba6e8-970b-4644-add8-8fd5da2fb7b2",
   "metadata": {},
   "source": [
    "## Bonus: \n",
    "Algunos ejercicios para seguir practicando:\n",
    "\n",
    "1. Las patinetas que salgan menos de $68\n",
    "2. Las patinetas que en su nombre tengan un numero mayor a 3\n",
    "3. Traer cualquier texto de la pagina que tenga la palabra descuento u oferta\n",
    "4. Generar un archivo.csv con dos columnas: Una que contiene el nombre del cliente y otra con su testimonio"
   ]
  },
  {
   "cell_type": "code",
   "execution_count": null,
   "id": "279531b7-6da3-4e92-a32c-ae90fa768227",
   "metadata": {},
   "outputs": [],
   "source": []
  }
 ],
 "metadata": {
  "kernelspec": {
   "display_name": "Python 3 (ipykernel)",
   "language": "python",
   "name": "python3"
  },
  "language_info": {
   "codemirror_mode": {
    "name": "ipython",
    "version": 3
   },
   "file_extension": ".py",
   "mimetype": "text/x-python",
   "name": "python",
   "nbconvert_exporter": "python",
   "pygments_lexer": "ipython3",
   "version": "3.10.14"
  }
 },
 "nbformat": 4,
 "nbformat_minor": 5
}
