{
 "cells": [
  {
   "cell_type": "code",
   "execution_count": 1,
   "id": "c852c87c",
   "metadata": {},
   "outputs": [],
   "source": [
    "from urllib.request import urlopen\n",
    "from urllib.error import HTTPError\n",
    "from bs4 import BeautifulSoup"
   ]
  },
  {
   "cell_type": "code",
   "execution_count": 2,
   "id": "23d02b89",
   "metadata": {},
   "outputs": [
    {
     "name": "stdout",
     "output_type": "stream",
     "text": [
      "<!DOCTYPE html>\n",
      "<html>\n",
      "<head>\n",
      "<meta charset=\"utf-8\"/>\n",
      "<meta content=\"width=device-width, initial-scale=1.0\" name=\"viewport\"/><meta content=\"Docutils 0.17.1: http://docutils.sourceforge.net/\" name=\"generator\"/>\n",
      "<title>urllib — URL handling modules — Python 3.10.4 documentation</title><meta content=\"width=device-width, initial-scale=1.0\" name=\"viewport\"/>\n",
      "<link href=\"../_static/pydoctheme.css?2022.1\" rel=\"stylesheet\" type=\"text/css\"/>\n",
      "<link href=\"../_static/pygments.css\" rel=\"stylesheet\" type=\"text/css\"/>\n",
      "<script data-url_root=\"../\" id=\"documentation_options\" src=\"../_static/documentation_options.js\"></script>\n",
      "<script src=\"../_static/jquery.js\"></script>\n",
      "<script src=\"../_static/underscore.js\"></script>\n",
      "<script src=\"../_static/doctools.js\"></script>\n",
      "<script src=\"../_static/language_data.js\"></script>\n",
      "<script src=\"../_static/sidebar.js\"></script>\n",
      "<link href=\"../_static/opensearch.xml\" rel=\"search\" title=\"Search within Python 3.10.4 documentation\" type=\"application/opensearchdescription+xml\"/>\n",
      "<link href=\"../about.html\" rel=\"author\" title=\"About these documents\"/>\n",
      "<link href=\"../genindex.html\" rel=\"index\" title=\"Index\"/>\n",
      "<link href=\"../search.html\" rel=\"search\" title=\"Search\"/>\n",
      "<link href=\"../copyright.html\" rel=\"copyright\" title=\"Copyright\"/>\n",
      "<link href=\"urllib.request.html\" rel=\"next\" title=\"urllib.request — Extensible library for opening URLs\"/>\n",
      "<link href=\"wsgiref.html\" rel=\"prev\" title=\"wsgiref — WSGI Utilities and Reference Implementation\"/>\n",
      "<link href=\"https://docs.python.org/3/library/urllib.html\" rel=\"canonical\"/>\n",
      "<style>\n",
      "      @media only screen {\n",
      "        table.full-width-table {\n",
      "            width: 100%;\n",
      "        }\n",
      "      }\n",
      "    </style>\n",
      "<link href=\"../_static/py.svg\" rel=\"shortcut icon\" type=\"image/png\"/>\n",
      "<script src=\"../_static/copybutton.js\" type=\"text/javascript\"></script>\n",
      "<script src=\"../_static/menu.js\" type=\"text/javascript\"></script>\n",
      "</head>\n",
      "<body>\n",
      "<div class=\"mobile-nav\">\n",
      "<input aria-controls=\"navigation\" aria-expanded=\"false\" aria-label=\"Menu\" aria-pressed=\"false\" class=\"toggler__input\" id=\"menuToggler\" role=\"button\" type=\"checkbox\"/>\n",
      "<label class=\"toggler__label\" for=\"menuToggler\">\n",
      "<span></span>\n",
      "</label>\n",
      "<nav class=\"nav-content\" role=\"navigation\">\n",
      "<a class=\"nav-logo\" href=\"https://www.python.org/\">\n",
      "<img alt=\"Logo\" src=\"../_static/py.svg\"/>\n",
      "</a>\n",
      "<div class=\"version_switcher_placeholder\"></div>\n",
      "<form action=\"../search.html\" class=\"search\" method=\"get\" role=\"search\">\n",
      "<svg class=\"search-icon\" height=\"20\" viewbox=\"0 0 24 24\" width=\"20\" xmlns=\"http://www.w3.org/2000/svg\">\n",
      "<path d=\"M15.5 14h-.79l-.28-.27a6.5 6.5 0 001.48-5.34c-.47-2.78-2.79-5-5.59-5.34a6.505 6.505 0 00-7.27 7.27c.34 2.8 2.56 5.12 5.34 5.59a6.5 6.5 0 005.34-1.48l.27.28v.79l4.25 4.25c.41.41 1.08.41 1.49 0 .41-.41.41-1.08 0-1.49L15.5 14zm-6 0C7.01 14 5 11.99 5 9.5S7.01 5 9.5 5 14 7.01 14 9.5 11.99 14 9.5 14z\" fill=\"#444\" fill-rule=\"nonzero\"></path>\n",
      "</svg>\n",
      "<input aria-label=\"Quick search\" name=\"q\" type=\"text\"/>\n",
      "<input type=\"submit\" value=\"Go\"/>\n",
      "</form>\n",
      "</nav>\n",
      "<div class=\"menu-wrapper\">\n",
      "<nav aria-label=\"main navigation\" class=\"menu\" role=\"navigation\">\n",
      "<div class=\"language_switcher_placeholder\"></div>\n",
      "<h4>Previous topic</h4>\n",
      "<p class=\"topless\"><a href=\"wsgiref.html\" title=\"previous chapter\"><code class=\"xref py py-mod docutils literal notranslate\"><span class=\"pre\">wsgiref</span></code> — WSGI Utilities and Reference Implementation</a></p>\n",
      "<h4>Next topic</h4>\n",
      "<p class=\"topless\"><a href=\"urllib.request.html\" title=\"next chapter\"><code class=\"xref py py-mod docutils literal notranslate\"><span class=\"pre\">urllib.request</span></code> — Extensible library for opening URLs</a></p>\n",
      "<div aria-label=\"source link\" role=\"note\">\n",
      "<h3>This Page</h3>\n",
      "<ul class=\"this-page-menu\">\n",
      "<li><a href=\"../bugs.html\">Report a Bug</a></li>\n",
      "<li>\n",
      "<a href=\"https://github.com/python/cpython/blob/3.10/Doc/library/urllib.rst\" rel=\"nofollow\">Show Source\n",
      "        </a>\n",
      "</li>\n",
      "</ul>\n",
      "</div>\n",
      "</nav>\n",
      "</div>\n",
      "</div>\n",
      "<div aria-label=\"related navigation\" class=\"related\" role=\"navigation\">\n",
      "<h3>Navigation</h3>\n",
      "<ul>\n",
      "<li class=\"right\" style=\"margin-right: 10px\">\n",
      "<a accesskey=\"I\" href=\"../genindex.html\" title=\"General Index\">index</a></li>\n",
      "<li class=\"right\">\n",
      "<a href=\"../py-modindex.html\" title=\"Python Module Index\">modules</a> |</li>\n",
      "<li class=\"right\">\n",
      "<a accesskey=\"N\" href=\"urllib.request.html\" title=\"urllib.request — Extensible library for opening URLs\">next</a> |</li>\n",
      "<li class=\"right\">\n",
      "<a accesskey=\"P\" href=\"wsgiref.html\" title=\"wsgiref — WSGI Utilities and Reference Implementation\">previous</a> |</li>\n",
      "<li><img alt=\"python logo\" src=\"../_static/py.svg\" style=\"vertical-align: middle; margin-top: -1px\"/></li>\n",
      "<li><a href=\"https://www.python.org/\">Python</a> »</li>\n",
      "<li class=\"switchers\">\n",
      "<div class=\"language_switcher_placeholder\"></div>\n",
      "<div class=\"version_switcher_placeholder\"></div>\n",
      "</li>\n",
      "<li>\n",
      "</li>\n",
      "<li id=\"cpython-language-and-version\">\n",
      "<a href=\"../index.html\">3.10.4 Documentation</a> »\n",
      "    </li>\n",
      "<li class=\"nav-item nav-item-1\"><a href=\"index.html\">The Python Standard Library</a> »</li>\n",
      "<li class=\"nav-item nav-item-2\"><a accesskey=\"U\" href=\"internet.html\">Internet Protocols and Support</a> »</li>\n",
      "<li class=\"nav-item nav-item-this\"><a href=\"\"><code class=\"xref py py-mod docutils literal notranslate\"><span class=\"pre\">urllib</span></code> — URL handling modules</a></li>\n",
      "<li class=\"right\">\n",
      "<div class=\"inline-search\" role=\"search\">\n",
      "<form action=\"../search.html\" class=\"inline-search\" method=\"get\">\n",
      "<input aria-label=\"Quick search\" name=\"q\" placeholder=\"Quick search\" type=\"text\"/>\n",
      "<input type=\"submit\" value=\"Go\"/>\n",
      "<input name=\"check_keywords\" type=\"hidden\" value=\"yes\"/>\n",
      "<input name=\"area\" type=\"hidden\" value=\"default\"/>\n",
      "</form>\n",
      "</div>\n",
      "                     |\n",
      "                </li>\n",
      "</ul>\n",
      "</div>\n",
      "<div class=\"document\">\n",
      "<div class=\"documentwrapper\">\n",
      "<div class=\"bodywrapper\">\n",
      "<div class=\"body\" role=\"main\">\n",
      "<section id=\"module-urllib\">\n",
      "<span id=\"urllib-url-handling-modules\"></span><h1><a class=\"reference internal\" href=\"#module-urllib\" title=\"urllib\"><code class=\"xref py py-mod docutils literal notranslate\"><span class=\"pre\">urllib</span></code></a> — URL handling modules<a class=\"headerlink\" href=\"#module-urllib\" title=\"Permalink to this headline\">¶</a></h1>\n",
      "<p><strong>Source code:</strong> <a class=\"reference external\" href=\"https://github.com/python/cpython/tree/3.10/Lib/urllib/\">Lib/urllib/</a></p>\n",
      "<hr class=\"docutils\"/>\n",
      "<p><code class=\"docutils literal notranslate\"><span class=\"pre\">urllib</span></code> is a package that collects several modules for working with URLs:</p>\n",
      "<ul class=\"simple\">\n",
      "<li><p><a class=\"reference internal\" href=\"urllib.request.html#module-urllib.request\" title=\"urllib.request: Extensible library for opening URLs.\"><code class=\"xref py py-mod docutils literal notranslate\"><span class=\"pre\">urllib.request</span></code></a> for opening and reading URLs</p></li>\n",
      "<li><p><a class=\"reference internal\" href=\"urllib.error.html#module-urllib.error\" title=\"urllib.error: Exception classes raised by urllib.request.\"><code class=\"xref py py-mod docutils literal notranslate\"><span class=\"pre\">urllib.error</span></code></a> containing the exceptions raised by <a class=\"reference internal\" href=\"urllib.request.html#module-urllib.request\" title=\"urllib.request: Extensible library for opening URLs.\"><code class=\"xref py py-mod docutils literal notranslate\"><span class=\"pre\">urllib.request</span></code></a></p></li>\n",
      "<li><p><a class=\"reference internal\" href=\"urllib.parse.html#module-urllib.parse\" title=\"urllib.parse: Parse URLs into or assemble them from components.\"><code class=\"xref py py-mod docutils literal notranslate\"><span class=\"pre\">urllib.parse</span></code></a> for parsing URLs</p></li>\n",
      "<li><p><a class=\"reference internal\" href=\"urllib.robotparser.html#module-urllib.robotparser\" title=\"urllib.robotparser: Load a robots.txt file and answer questions about fetchability of other URLs.\"><code class=\"xref py py-mod docutils literal notranslate\"><span class=\"pre\">urllib.robotparser</span></code></a> for parsing <code class=\"docutils literal notranslate\"><span class=\"pre\">robots.txt</span></code> files</p></li>\n",
      "</ul>\n",
      "</section>\n",
      "<div class=\"clearer\"></div>\n",
      "</div>\n",
      "</div>\n",
      "</div>\n",
      "<div aria-label=\"main navigation\" class=\"sphinxsidebar\" role=\"navigation\">\n",
      "<div class=\"sphinxsidebarwrapper\">\n",
      "<h4>Previous topic</h4>\n",
      "<p class=\"topless\"><a href=\"wsgiref.html\" title=\"previous chapter\"><code class=\"xref py py-mod docutils literal notranslate\"><span class=\"pre\">wsgiref</span></code> — WSGI Utilities and Reference Implementation</a></p>\n",
      "<h4>Next topic</h4>\n",
      "<p class=\"topless\"><a href=\"urllib.request.html\" title=\"next chapter\"><code class=\"xref py py-mod docutils literal notranslate\"><span class=\"pre\">urllib.request</span></code> — Extensible library for opening URLs</a></p>\n",
      "<div aria-label=\"source link\" role=\"note\">\n",
      "<h3>This Page</h3>\n",
      "<ul class=\"this-page-menu\">\n",
      "<li><a href=\"../bugs.html\">Report a Bug</a></li>\n",
      "<li>\n",
      "<a href=\"https://github.com/python/cpython/blob/3.10/Doc/library/urllib.rst\" rel=\"nofollow\">Show Source\n",
      "        </a>\n",
      "</li>\n",
      "</ul>\n",
      "</div>\n",
      "</div>\n",
      "</div>\n",
      "<div class=\"clearer\"></div>\n",
      "</div>\n",
      "<div aria-label=\"related navigation\" class=\"related\" role=\"navigation\">\n",
      "<h3>Navigation</h3>\n",
      "<ul>\n",
      "<li class=\"right\" style=\"margin-right: 10px\">\n",
      "<a href=\"../genindex.html\" title=\"General Index\">index</a></li>\n",
      "<li class=\"right\">\n",
      "<a href=\"../py-modindex.html\" title=\"Python Module Index\">modules</a> |</li>\n",
      "<li class=\"right\">\n",
      "<a href=\"urllib.request.html\" title=\"urllib.request — Extensible library for opening URLs\">next</a> |</li>\n",
      "<li class=\"right\">\n",
      "<a href=\"wsgiref.html\" title=\"wsgiref — WSGI Utilities and Reference Implementation\">previous</a> |</li>\n",
      "<li><img alt=\"python logo\" src=\"../_static/py.svg\" style=\"vertical-align: middle; margin-top: -1px\"/></li>\n",
      "<li><a href=\"https://www.python.org/\">Python</a> »</li>\n",
      "<li class=\"switchers\">\n",
      "<div class=\"language_switcher_placeholder\"></div>\n",
      "<div class=\"version_switcher_placeholder\"></div>\n",
      "</li>\n",
      "<li>\n",
      "</li>\n",
      "<li id=\"cpython-language-and-version\">\n",
      "<a href=\"../index.html\">3.10.4 Documentation</a> »\n",
      "    </li>\n",
      "<li class=\"nav-item nav-item-1\"><a href=\"index.html\">The Python Standard Library</a> »</li>\n",
      "<li class=\"nav-item nav-item-2\"><a href=\"internet.html\">Internet Protocols and Support</a> »</li>\n",
      "<li class=\"nav-item nav-item-this\"><a href=\"\"><code class=\"xref py py-mod docutils literal notranslate\"><span class=\"pre\">urllib</span></code> — URL handling modules</a></li>\n",
      "<li class=\"right\">\n",
      "<div class=\"inline-search\" role=\"search\">\n",
      "<form action=\"../search.html\" class=\"inline-search\" method=\"get\">\n",
      "<input aria-label=\"Quick search\" name=\"q\" placeholder=\"Quick search\" type=\"text\"/>\n",
      "<input type=\"submit\" value=\"Go\"/>\n",
      "<input name=\"check_keywords\" type=\"hidden\" value=\"yes\"/>\n",
      "<input name=\"area\" type=\"hidden\" value=\"default\"/>\n",
      "</form>\n",
      "</div>\n",
      "                     |\n",
      "                </li>\n",
      "</ul>\n",
      "</div>\n",
      "<div class=\"footer\">\n",
      "    © <a href=\"../copyright.html\">Copyright</a> 2001-2022, Python Software Foundation.\n",
      "    <br/>\n",
      "    This page is licensed under the Python Software Foundation License Version 2.\n",
      "    <br/>\n",
      "    Examples, recipes, and other code in the documentation are additionally licensed under the Zero Clause BSD License.\n",
      "    <br/>\n",
      "    See <a href=\"/license.html\">History and License</a> for more information.<br/>\n",
      "<br/>\n",
      "\n",
      "    The Python Software Foundation is a non-profit corporation.\n",
      "<a href=\"https://www.python.org/psf/donations/\">Please donate.</a>\n",
      "<br/>\n",
      "<br/>\n",
      "\n",
      "    Last updated on Apr 26, 2022.\n",
      "    <a href=\"/bugs.html\">Found a bug</a>?\n",
      "    <br/>\n",
      "\n",
      "    Created using <a href=\"https://www.sphinx-doc.org/\">Sphinx</a> 3.2.1.\n",
      "    </div>\n",
      "<script src=\"../_static/switchers.js\" type=\"text/javascript\"></script>\n",
      "\"  </body>\n",
      "</html>\n"
     ]
    }
   ],
   "source": [
    "html=urlopen(\"https://docs.python.org/3/library/urllib.html\")\n",
    "osObj=BeautifulSoup(html.read()) #html.read() lee la pagina web pero no estructurada\n",
    "print(osObj) #BeautifulSoup devuelve codigo fuente de pagina web estructurado"
   ]
  },
  {
   "cell_type": "code",
   "execution_count": 9,
   "id": "d7e31132",
   "metadata": {
    "scrolled": true
   },
   "outputs": [
    {
     "name": "stdout",
     "output_type": "stream",
     "text": [
      "<h1><a class=\"reference internal\" href=\"#module-urllib\" title=\"urllib\"><code class=\"xref py py-mod docutils literal notranslate\"><span class=\"pre\">urllib</span></code></a> — URL handling modules<a class=\"headerlink\" href=\"#module-urllib\" title=\"Permalink to this headline\">¶</a></h1>\n"
     ]
    }
   ],
   "source": [
    "print(osObj.h1) #devuelve todo lo que esta dentro de la etiqueta <h1>....</h1>"
   ]
  },
  {
   "cell_type": "code",
   "execution_count": 10,
   "id": "ecd03c60",
   "metadata": {},
   "outputs": [
    {
     "name": "stdout",
     "output_type": "stream",
     "text": [
      "urllib — URL handling modules¶\n"
     ]
    }
   ],
   "source": [
    "print(osObj.h1.get_text()) #get_text() borra toda las etiquetas html"
   ]
  },
  {
   "cell_type": "code",
   "execution_count": 29,
   "id": "842fd34a",
   "metadata": {
    "scrolled": true
   },
   "outputs": [
    {
     "name": "stdout",
     "output_type": "stream",
     "text": [
      "<ul class=\"this-page-menu\">\n",
      "<li><a href=\"../bugs.html\">Report a Bug</a></li>\n",
      "<li>\n",
      "<a href=\"https://github.com/python/cpython/blob/3.10/Doc/library/urllib.rst\" rel=\"nofollow\">Show Source\n",
      "        </a>\n",
      "</li>\n",
      "</ul>\n"
     ]
    }
   ],
   "source": [
    "print(osObj.find(\"ul\"))"
   ]
  },
  {
   "cell_type": "code",
   "execution_count": 26,
   "id": "39190f82",
   "metadata": {},
   "outputs": [
    {
     "name": "stdout",
     "output_type": "stream",
     "text": [
      "Source code:\n"
     ]
    }
   ],
   "source": [
    "listas=osObj.findAll(\"strong\")\n",
    "print(listas[0].get_text())"
   ]
  },
  {
   "cell_type": "code",
   "execution_count": 32,
   "id": "1d2f7840",
   "metadata": {},
   "outputs": [],
   "source": [
    "listas=osObj.findAll(\"span\", {\"class\":\"pre\"})"
   ]
  },
  {
   "cell_type": "code",
   "execution_count": 35,
   "id": "f9ac5010",
   "metadata": {},
   "outputs": [
    {
     "name": "stdout",
     "output_type": "stream",
     "text": [
      "wsgiref\n"
     ]
    }
   ],
   "source": [
    "print(listas[0].get_text())"
   ]
  },
  {
   "cell_type": "code",
   "execution_count": null,
   "id": "c6713d78",
   "metadata": {},
   "outputs": [],
   "source": []
  }
 ],
 "metadata": {
  "kernelspec": {
   "display_name": "Python 3 (ipykernel)",
   "language": "python",
   "name": "python3"
  },
  "language_info": {
   "codemirror_mode": {
    "name": "ipython",
    "version": 3
   },
   "file_extension": ".py",
   "mimetype": "text/x-python",
   "name": "python",
   "nbconvert_exporter": "python",
   "pygments_lexer": "ipython3",
   "version": "3.9.7"
  }
 },
 "nbformat": 4,
 "nbformat_minor": 5
}
