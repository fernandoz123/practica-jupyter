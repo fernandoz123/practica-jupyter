{
 "cells": [
  {
   "cell_type": "markdown",
   "id": "7c2f64a3",
   "metadata": {},
   "source": [
    "# Prueba de entrada"
   ]
  },
  {
   "cell_type": "markdown",
   "id": "a2022423",
   "metadata": {},
   "source": [
    "# problema1"
   ]
  },
  {
   "cell_type": "code",
   "execution_count": 49,
   "id": "e1127b3f",
   "metadata": {},
   "outputs": [
    {
     "ename": "TypeError",
     "evalue": "sample() missing 2 required positional arguments: 'population' and 'k'",
     "output_type": "error",
     "traceback": [
      "\u001b[1;31m---------------------------------------------------------------------------\u001b[0m",
      "\u001b[1;31mTypeError\u001b[0m                                 Traceback (most recent call last)",
      "\u001b[1;32m~\\AppData\\Local\\Temp/ipykernel_9624/2450549633.py\u001b[0m in \u001b[0;36m<module>\u001b[1;34m\u001b[0m\n\u001b[0;32m      1\u001b[0m \u001b[1;32mimport\u001b[0m \u001b[0mrandom\u001b[0m\u001b[1;33m\u001b[0m\u001b[1;33m\u001b[0m\u001b[0m\n\u001b[1;32m----> 2\u001b[1;33m \u001b[0mgen\u001b[0m\u001b[1;33m=\u001b[0m\u001b[0mrandom\u001b[0m\u001b[1;33m.\u001b[0m\u001b[0msample\u001b[0m\u001b[1;33m(\u001b[0m\u001b[1;33m)\u001b[0m\u001b[1;33m\u001b[0m\u001b[1;33m\u001b[0m\u001b[0m\n\u001b[0m",
      "\u001b[1;31mTypeError\u001b[0m: sample() missing 2 required positional arguments: 'population' and 'k'"
     ]
    }
   ],
   "source": [
    "import random\n",
    "gen=random.sample()"
   ]
  },
  {
   "cell_type": "code",
   "execution_count": 16,
   "id": "4a2d0e7b",
   "metadata": {},
   "outputs": [
    {
     "name": "stdout",
     "output_type": "stream",
     "text": [
      "[['E001', 'Fernando', 'Jefe de Sistemas', 'TIC', 14500, 0.08, 13340.0], ['E002', 'Rodrigo', 'Vigilante', 'Seguridad', 1500, 0, 1500], ['E003', 'Arturo', 'Jefe de personal', 'RRHH', 12500, 0.08, 11500.0]]\n"
     ]
    }
   ],
   "source": [
    "empleado=[[\"E001\",\"Fernando\",\"Jefe de Sistemas\",\"TIC\",14500],\n",
    "          [\"E002\",\"Rodrigo\",\"Vigilante\",\"Seguridad\",1500],\n",
    "          [\"E003\",\"Arturo\",\"Jefe de personal\",\"RRHH\",12500]]\n",
    "i=0\n",
    "while(i<3):\n",
    "    if empleado[i][4]>1800:\n",
    "        empleado[i].extend([0.08,empleado[i][4]*0.92])\n",
    "    else:\n",
    "        empleado[i].extend([0,empleado[i][4]])\n",
    "    i+=1\n",
    "    \n",
    "print(empleado)        "
   ]
  },
  {
   "cell_type": "code",
   "execution_count": 46,
   "id": "2147157b",
   "metadata": {},
   "outputs": [
    {
     "name": "stdout",
     "output_type": "stream",
     "text": [
      "Ingrese codigo del empleado =Fernando\n",
      "\t   Boleta\n",
      "______________________\n",
      "Su pago es = S/. 14500 Soles\n"
     ]
    }
   ],
   "source": [
    "\n",
    "nam=input(\"Ingrese codigo del empleado =\")\n",
    "print(\"\\t   Boleta\")\n",
    "print(\"______________________\")\n",
    "for i in range(len(empleado)):\n",
    "    if(empleado[i][1]==nam):\n",
    "        emp=empleado[i][4]\n",
    "       \n",
    "print(\"Su pago es =\",\"S/.\",emp,\"Soles\")        "
   ]
  },
  {
   "cell_type": "markdown",
   "id": "c5e80822",
   "metadata": {},
   "source": [
    "# problema 2         "
   ]
  },
  {
   "cell_type": "code",
   "execution_count": 47,
   "id": "f871a18d",
   "metadata": {},
   "outputs": [
    {
     "name": "stdout",
     "output_type": "stream",
     "text": [
      "La cantidad de palabras que tiene el texto es = 46\n"
     ]
    }
   ],
   "source": [
    "cont=0\n",
    "palabra=\"Un evento extraordinario fue registrado por la NASA. Mediante el observatorio espacial Kepler, la agencia espacial captó el preciso instante en el que una estrella enana marrón estalló en el espacio exterior. Este extraño fenómeno tuvo una particularidad que dejó perplejos a los científicos de la estación.\"\n",
    "for pal in palabra:\n",
    "    if(pal==' '):\n",
    "        cont+=1\n",
    "print(\"La cantidad de palabras que tiene el texto es =\",cont)   "
   ]
  },
  {
   "cell_type": "markdown",
   "id": "9aa1a240",
   "metadata": {},
   "source": [
    "# Problema3"
   ]
  },
  {
   "cell_type": "code",
   "execution_count": 30,
   "id": "33691407",
   "metadata": {},
   "outputs": [
    {
     "name": "stdout",
     "output_type": "stream",
     "text": [
      "{'E001': ['E001', 'Fernando', 'Jefe de Sistemas', 'TIC', 14500, 0.08, 13340.0], 'E002': ['E002', 'Rodrigo', 'Vigilante', 'Seguridad', 1500, 0, 1500], 'E003': ['E003', 'Arturo', 'Jefe de personal', 'RRHH', 12500, 0.08, 11500.0]}\n"
     ]
    }
   ],
   "source": [
    "dictionary=dict()\n",
    "i=0\n",
    "while(i<3):\n",
    "    dictionary[empleado[i][0]]=empleado[i]\n",
    "    i+=1\n",
    "    \n",
    "print(dictionary)"
   ]
  },
  {
   "cell_type": "code",
   "execution_count": null,
   "id": "ec9582bb",
   "metadata": {},
   "outputs": [],
   "source": []
  }
 ],
 "metadata": {
  "kernelspec": {
   "display_name": "Python 3 (ipykernel)",
   "language": "python",
   "name": "python3"
  },
  "language_info": {
   "codemirror_mode": {
    "name": "ipython",
    "version": 3
   },
   "file_extension": ".py",
   "mimetype": "text/x-python",
   "name": "python",
   "nbconvert_exporter": "python",
   "pygments_lexer": "ipython3",
   "version": "3.9.7"
  }
 },
 "nbformat": 4,
 "nbformat_minor": 5
}
