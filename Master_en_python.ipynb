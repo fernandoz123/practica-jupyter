{
 "cells": [
  {
   "cell_type": "code",
   "execution_count": 1,
   "id": "5f617275",
   "metadata": {},
   "outputs": [
    {
     "name": "stdout",
     "output_type": "stream",
     "text": [
      "(1, 2, 3, 4, 5)\n"
     ]
    }
   ],
   "source": [
    "tupla=(1,2,3,4,5)\n",
    "print(tupla)"
   ]
  },
  {
   "cell_type": "code",
   "execution_count": 3,
   "id": "6b69531e",
   "metadata": {},
   "outputs": [
    {
     "name": "stdout",
     "output_type": "stream",
     "text": [
      "3\n",
      "(1, 2, 3, 4)\n"
     ]
    }
   ],
   "source": [
    "print(tupla[2])\n",
    "print(tupla[:4])"
   ]
  },
  {
   "cell_type": "code",
   "execution_count": 4,
   "id": "74ac7ee6",
   "metadata": {},
   "outputs": [
    {
     "name": "stdout",
     "output_type": "stream",
     "text": [
      "(6, 7, 8, 9, 10)\n"
     ]
    }
   ],
   "source": [
    "tupla2=(6,7,8,9,10)\n",
    "print(tupla2)"
   ]
  },
  {
   "cell_type": "code",
   "execution_count": 5,
   "id": "7d45a35b",
   "metadata": {},
   "outputs": [
    {
     "name": "stdout",
     "output_type": "stream",
     "text": [
      "(1, 2, 3, 4, 5, 6, 7, 8, 9, 10)\n"
     ]
    }
   ],
   "source": [
    "print(tupla+tupla2)"
   ]
  },
  {
   "cell_type": "code",
   "execution_count": 7,
   "id": "7b2f0cd2",
   "metadata": {},
   "outputs": [
    {
     "name": "stdout",
     "output_type": "stream",
     "text": [
      "Ingrese numero del 1 al 12 = 4\n",
      "El mes correspondiente es = Abril\n"
     ]
    }
   ],
   "source": [
    "tupla1=('Enero','Febrero','Marzo','Abril','Mayo','Junio','Julio','Agosto',\n",
    "       'Setiembre','Octubre','Noviembre','Diciembre')\n",
    "\n",
    "number=int(input(\"Ingrese numero del 1 al 12 = \"))\n",
    "print(f\"El mes correspondiente es = {tupla1[number-1]}\")"
   ]
  },
  {
   "cell_type": "code",
   "execution_count": 8,
   "id": "1383bbd0",
   "metadata": {},
   "outputs": [
    {
     "name": "stdout",
     "output_type": "stream",
     "text": [
      "Ingrese numero = 24\n",
      "y\n"
     ]
    }
   ],
   "source": [
    "tuples =('a','b','c','d','e','f','g','h','i','j','k','l','m','n','o',\n",
    "        'p','q','r','s','t','u','v','x','y','z')\n",
    "\n",
    "num1=int(input(\"Ingrese numero = \"))\n",
    "print(tuples[num1-1])"
   ]
  },
  {
   "cell_type": "code",
   "execution_count": 11,
   "id": "4c6e398a",
   "metadata": {},
   "outputs": [
    {
     "name": "stdout",
     "output_type": "stream",
     "text": [
      "Ingrese numero = 9\n",
      "\n",
      " tabla de multiplicar \n",
      "9*0 =0\n",
      "9*1 =9\n",
      "9*2 =18\n",
      "9*3 =27\n",
      "9*4 =36\n",
      "9*5 =45\n",
      "9*6 =54\n",
      "9*7 =63\n",
      "9*8 =72\n",
      "9*9 =81\n",
      "9*10 =90\n",
      "9*11 =99\n",
      "9*12 =108\n"
     ]
    }
   ],
   "source": [
    "num2=int(input(\"Ingrese numero = \"))\n",
    "i=0\n",
    "print(\"\\n tabla de multiplicar \")\n",
    "while i<13:\n",
    "    print(f\"{num2}*{i} ={num2*i}\")\n",
    "    i+=1\n",
    "    "
   ]
  },
  {
   "cell_type": "code",
   "execution_count": 13,
   "id": "62a091d9",
   "metadata": {},
   "outputs": [
    {
     "name": "stdout",
     "output_type": "stream",
     "text": [
      "Ingrese la edad = 12\n",
      "\n",
      "\n",
      "\n",
      "\t edad\n",
      "1\t\n",
      "2\t\n",
      "3\t\n",
      "4\t\n",
      "5\t\n",
      "6\t\n",
      "7\t\n",
      "8\t\n",
      "9\t\n",
      "10\t\n",
      "11\t\n",
      "12\t\n"
     ]
    }
   ],
   "source": [
    "num3=int(input(\"Ingrese la edad = \"))\n",
    "p=0\n",
    "print(\"\\n\\n\")\n",
    "print(\"\\t edad\")\n",
    "while p<num3:\n",
    "    print(f\"{p+1}\")\n",
    "    p+=1"
   ]
  },
  {
   "cell_type": "code",
   "execution_count": 14,
   "id": "d019084f",
   "metadata": {},
   "outputs": [
    {
     "name": "stdout",
     "output_type": "stream",
     "text": [
      "uno\n",
      "dos\n",
      "tres\n"
     ]
    }
   ],
   "source": [
    "lista=[\"uno\",\"dos\",\"tres\"]\n",
    "for i in lista:\n",
    "    print(i)"
   ]
  },
  {
   "cell_type": "code",
   "execution_count": 16,
   "id": "9ad55885",
   "metadata": {},
   "outputs": [
    {
     "name": "stdout",
     "output_type": "stream",
     "text": [
      "1\n",
      "2\n",
      "3\n",
      "4\n",
      "5\n",
      "6\n",
      "7\n",
      "8\n",
      "9\n"
     ]
    }
   ],
   "source": [
    "for i in range(1,10):\n",
    "    print(i)"
   ]
  },
  {
   "cell_type": "code",
   "execution_count": 18,
   "id": "d0e5b62f",
   "metadata": {},
   "outputs": [
    {
     "name": "stdout",
     "output_type": "stream",
     "text": [
      "1\n",
      "2\n",
      "3\n",
      "4\n",
      "5\n",
      "6\n",
      "7\n",
      "8\n",
      "9\n",
      "10\n",
      "Ingrese numero = 2\n",
      "Ingrese numero = 8\n",
      "2\n",
      "3\n",
      "4\n",
      "5\n",
      "6\n",
      "7\n",
      "8\n"
     ]
    }
   ],
   "source": [
    "for i in range(1,11):\n",
    "    print(i)\n",
    "\n",
    "nume1=int(input(\"Ingrese numero = \"))\n",
    "nume2=int(input(\"Ingrese numero = \"))\n",
    "\n",
    "for j in range(nume1,nume2+1):\n",
    "    print(j)"
   ]
  },
  {
   "cell_type": "code",
   "execution_count": 23,
   "id": "f9e6d2ed",
   "metadata": {},
   "outputs": [
    {
     "name": "stdout",
     "output_type": "stream",
     "text": [
      "Ingrese numero = 4\n",
      "Ingrese numero = 15\n",
      "5\n",
      "7\n",
      "9\n",
      "11\n",
      "13\n",
      "15\n"
     ]
    }
   ],
   "source": [
    "n1=int(input(\"Ingrese numero = \"))\n",
    "n2=int(input(\"Ingrese numero = \"))\n",
    "\n",
    "for j in range(n1,n2+1,2):\n",
    "    if n1%2 == 0:\n",
    "        print(j+1)\n",
    "    else:\n",
    "        print(j)\n",
    "        "
   ]
  },
  {
   "cell_type": "code",
   "execution_count": 28,
   "id": "a64615ff",
   "metadata": {},
   "outputs": [],
   "source": [
    "import math\n",
    "import random"
   ]
  },
  {
   "cell_type": "code",
   "execution_count": 26,
   "id": "3b6c37d5",
   "metadata": {},
   "outputs": [
    {
     "data": {
      "text/plain": [
       "100.0"
      ]
     },
     "execution_count": 26,
     "metadata": {},
     "output_type": "execute_result"
    }
   ],
   "source": [
    "math.pow(10,2)"
   ]
  },
  {
   "cell_type": "code",
   "execution_count": 27,
   "id": "06f3edcb",
   "metadata": {},
   "outputs": [
    {
     "data": {
      "text/plain": [
       "6.0"
      ]
     },
     "execution_count": 27,
     "metadata": {},
     "output_type": "execute_result"
    }
   ],
   "source": [
    "math.sqrt(36)"
   ]
  },
  {
   "cell_type": "code",
   "execution_count": 30,
   "id": "6d079540",
   "metadata": {},
   "outputs": [
    {
     "name": "stdout",
     "output_type": "stream",
     "text": [
      "58\n"
     ]
    }
   ],
   "source": [
    "print(random.randint(1,100))#muestra un numero al azar entre 1 y 100\n"
   ]
  },
  {
   "cell_type": "code",
   "execution_count": 1,
   "id": "5a831016",
   "metadata": {},
   "outputs": [],
   "source": [
    "def numeros():\n",
    "    num1=int(input(\"Ingrese numero 1 = \"))\n",
    "    num2=int(input(\"Ingrese numero 2 = \"))\n",
    "    if num1>num2:\n",
    "        return 1\n",
    "    elif num1<num2:\n",
    "        return -1\n",
    "    else:\n",
    "        return 0\n",
    "    "
   ]
  },
  {
   "cell_type": "code",
   "execution_count": 5,
   "id": "69f5e29c",
   "metadata": {},
   "outputs": [
    {
     "name": "stdout",
     "output_type": "stream",
     "text": [
      "Ingrese numero 1 = 16\n",
      "Ingrese numero 2 = 20\n",
      "-1\n"
     ]
    }
   ],
   "source": [
    "print(numeros())"
   ]
  },
  {
   "cell_type": "code",
   "execution_count": 3,
   "id": "694ed26d",
   "metadata": {},
   "outputs": [],
   "source": [
    "def calculate_factura():\n",
    "    cantidad=float(input(\"Ingrese numero 1 = \"))\n",
    "    iva=int(input(\"Ingrese porcentaje iva a aplicar = \"))\n",
    "    if iva!=0:\n",
    "        if iva>0\n",
    "            monto=cantidad + iva*cantidad*0.01\n",
    "            return monto\n",
    "        else:\n",
    "            return \"El monto de IVA es negativo\"\n",
    "    else:\n",
    "        monto=cantidad+0.21*cantidad\n",
    "        return monto\n",
    "        "
   ]
  },
  {
   "cell_type": "code",
   "execution_count": 4,
   "id": "19a15d19",
   "metadata": {},
   "outputs": [
    {
     "name": "stdout",
     "output_type": "stream",
     "text": [
      "Ingrese numero 1 = 358\n",
      "Ingrese porcentaje iva a aplicar = 0.53\n"
     ]
    },
    {
     "data": {
      "text/plain": [
       "547.74"
      ]
     },
     "execution_count": 4,
     "metadata": {},
     "output_type": "execute_result"
    }
   ],
   "source": [
    "calculate_factura()"
   ]
  },
  {
   "cell_type": "code",
   "execution_count": null,
   "id": "b7cc6e70",
   "metadata": {},
   "outputs": [],
   "source": []
  }
 ],
 "metadata": {
  "kernelspec": {
   "display_name": "Python 3 (ipykernel)",
   "language": "python",
   "name": "python3"
  },
  "language_info": {
   "codemirror_mode": {
    "name": "ipython",
    "version": 3
   },
   "file_extension": ".py",
   "mimetype": "text/x-python",
   "name": "python",
   "nbconvert_exporter": "python",
   "pygments_lexer": "ipython3",
   "version": "3.9.7"
  }
 },
 "nbformat": 4,
 "nbformat_minor": 5
}
